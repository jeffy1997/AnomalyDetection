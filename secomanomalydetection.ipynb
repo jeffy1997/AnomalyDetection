{
  "cells": [
    {
      "cell_type": "code",
      "execution_count": null,
      "metadata": {
        "_cell_guid": "79c7e3d0-c299-4dcb-8224-4455121ee9b0",
        "_uuid": "d629ff2d2480ee46fbb7e2d37f6b5fab8052498a",
        "id": "ehIVujmQHGAq"
      },
      "outputs": [],
      "source": [
        "#Using UCI-Secom data from Kaggle"
      ]
    },
    {
      "cell_type": "code",
      "execution_count": null,
      "metadata": {
        "id": "YAYdrXIRHGAr",
        "outputId": "9e258c76-b729-40f7-da26-12a5394188a6"
      },
      "outputs": [
        {
          "name": "stdout",
          "output_type": "stream",
          "text": [
            "(1567, 592)\n",
            "                  Time        0        1          2          3       4      5  \\\n",
            "0  2008-07-19 11:55:00  3030.93  2564.00  2187.7333  1411.1265  1.3602  100.0   \n",
            "1  2008-07-19 12:32:00  3095.78  2465.14  2230.4222  1463.6606  0.8294  100.0   \n",
            "2  2008-07-19 13:17:00  2932.61  2559.94  2186.4111  1698.0172  1.5102  100.0   \n",
            "3  2008-07-19 14:43:00  2988.72  2479.90  2199.0333   909.7926  1.3204  100.0   \n",
            "4  2008-07-19 15:22:00  3032.24  2502.87  2233.3667  1326.5200  1.5334  100.0   \n",
            "\n",
            "          6       7       8  ...       581     582     583     584      585  \\\n",
            "0   97.6133  0.1242  1.5005  ...       NaN  0.5005  0.0118  0.0035   2.3630   \n",
            "1  102.3433  0.1247  1.4966  ...  208.2045  0.5019  0.0223  0.0055   4.4447   \n",
            "2   95.4878  0.1241  1.4436  ...   82.8602  0.4958  0.0157  0.0039   3.1745   \n",
            "3  104.2367  0.1217  1.4882  ...   73.8432  0.4990  0.0103  0.0025   2.0544   \n",
            "4  100.3967  0.1235  1.5031  ...       NaN  0.4800  0.4766  0.1045  99.3032   \n",
            "\n",
            "      586     587     588       589  Pass/Fail  \n",
            "0     NaN     NaN     NaN       NaN         -1  \n",
            "1  0.0096  0.0201  0.0060  208.2045         -1  \n",
            "2  0.0584  0.0484  0.0148   82.8602          1  \n",
            "3  0.0202  0.0149  0.0044   73.8432         -1  \n",
            "4  0.0202  0.0149  0.0044   73.8432         -1  \n",
            "\n",
            "[5 rows x 592 columns]\n"
          ]
        }
      ],
      "source": [
        "import pandas as pd\n",
        "import numpy as np\n",
        "data = pd.read_csv('./uci-secom.csv')\n",
        "print(data.shape)\n",
        "print(data.head(5))"
      ]
    },
    {
      "cell_type": "code",
      "execution_count": null,
      "metadata": {
        "id": "ZzoJ8psKHGAs"
      },
      "outputs": [],
      "source": [
        "d = data.isnull().sum()\n",
        "j = []\n",
        "for i in d.keys():\n",
        "    if(d[i] >900):\n",
        "        \n",
        "        j.append(i)"
      ]
    },
    {
      "cell_type": "code",
      "execution_count": null,
      "metadata": {
        "id": "IHipU4jeHGAt"
      },
      "outputs": [],
      "source": [
        "data.drop(j, axis = 1, inplace = True)"
      ]
    },
    {
      "cell_type": "code",
      "execution_count": null,
      "metadata": {
        "id": "xdPYg5j7HGAt",
        "outputId": "282fdfc5-0902-40ee-b19d-7c8f797409aa"
      },
      "outputs": [
        {
          "data": {
            "text/plain": [
              "False"
            ]
          },
          "execution_count": 75,
          "metadata": {},
          "output_type": "execute_result"
        }
      ],
      "source": [
        "data.replace(np.nan, 0, inplace = True)\n",
        "#from sklearn.preprocessing import Imputer\n",
        "#imputer = Imputer(missing_values = np.nan, strategy = 'mean')\n",
        "data.isnull().any().any()"
      ]
    },
    {
      "cell_type": "code",
      "execution_count": null,
      "metadata": {
        "id": "rI1b3If-HGAt"
      },
      "outputs": [],
      "source": [
        "#from sklearn.preprocessing import Imputer\n",
        "from sklearn.impute import SimpleImputer\n",
        "from sklearn.model_selection import train_test_split\n",
        "from sklearn.ensemble import RandomForestClassifier,IsolationForest\n",
        "from sklearn.linear_model import LogisticRegression\n",
        "from sklearn.preprocessing import StandardScaler\n",
        "import xgboost as xgb\n",
        "from sklearn.metrics import confusion_matrix, accuracy_score, f1_score, precision_score, recall_score, average_precision_score\n"
      ]
    },
    {
      "cell_type": "code",
      "execution_count": null,
      "metadata": {
        "id": "m2W2qFi1HGAt"
      },
      "outputs": [],
      "source": [
        "x = data.iloc[:, 1:-1]\n",
        "y = data.iloc[:, -1]\n",
        "x_train, x_test, y_train, y_test = train_test_split(x, y, train_size = 0.7, random_state = 0)"
      ]
    },
    {
      "cell_type": "code",
      "execution_count": null,
      "metadata": {
        "id": "YflbcCIVHGAu",
        "outputId": "c0d19df7-cd3d-4d5e-b814-52220104d82b"
      },
      "outputs": [
        {
          "name": "stdout",
          "output_type": "stream",
          "text": [
            "(1096, 566)\n",
            "(471, 566)\n",
            "(1567, 568)\n"
          ]
        }
      ],
      "source": [
        "print(x_train.shape)\n",
        "print(x_test.shape)\n",
        "print(data.shape)"
      ]
    },
    {
      "cell_type": "code",
      "execution_count": null,
      "metadata": {
        "id": "V7qG0ETeHGAu",
        "outputId": "27f347e8-9f02-40b4-b139-568d3cab44ae"
      },
      "outputs": [
        {
          "data": {
            "text/plain": [
              "RangeIndex(start=0, stop=1567, step=1)"
            ]
          },
          "execution_count": 79,
          "metadata": {},
          "output_type": "execute_result"
        }
      ],
      "source": [
        "(data['Pass/Fail'] == 1).index\n"
      ]
    },
    {
      "cell_type": "code",
      "execution_count": null,
      "metadata": {
        "id": "DK0ZyrlLHGAu",
        "outputId": "2b736c82-2e7e-4cbc-f7e5-8234c5087b9d"
      },
      "outputs": [
        {
          "data": {
            "text/html": [
              "<div>\n",
              "<style scoped>\n",
              "    .dataframe tbody tr th:only-of-type {\n",
              "        vertical-align: middle;\n",
              "    }\n",
              "\n",
              "    .dataframe tbody tr th {\n",
              "        vertical-align: top;\n",
              "    }\n",
              "\n",
              "    .dataframe thead th {\n",
              "        text-align: right;\n",
              "    }\n",
              "</style>\n",
              "<table border=\"1\" class=\"dataframe\">\n",
              "  <thead>\n",
              "    <tr style=\"text-align: right;\">\n",
              "      <th></th>\n",
              "      <th>Time</th>\n",
              "      <th>0</th>\n",
              "      <th>1</th>\n",
              "      <th>2</th>\n",
              "      <th>3</th>\n",
              "      <th>4</th>\n",
              "      <th>5</th>\n",
              "      <th>6</th>\n",
              "      <th>7</th>\n",
              "      <th>8</th>\n",
              "      <th>...</th>\n",
              "      <th>577</th>\n",
              "      <th>582</th>\n",
              "      <th>583</th>\n",
              "      <th>584</th>\n",
              "      <th>585</th>\n",
              "      <th>586</th>\n",
              "      <th>587</th>\n",
              "      <th>588</th>\n",
              "      <th>589</th>\n",
              "      <th>Pass/Fail</th>\n",
              "    </tr>\n",
              "  </thead>\n",
              "  <tbody>\n",
              "    <tr>\n",
              "      <th>0</th>\n",
              "      <td>2008-07-19 11:55:00</td>\n",
              "      <td>3030.93</td>\n",
              "      <td>2564.00</td>\n",
              "      <td>2187.7333</td>\n",
              "      <td>1411.1265</td>\n",
              "      <td>1.3602</td>\n",
              "      <td>100.0</td>\n",
              "      <td>97.6133</td>\n",
              "      <td>0.1242</td>\n",
              "      <td>1.5005</td>\n",
              "      <td>...</td>\n",
              "      <td>14.9509</td>\n",
              "      <td>0.5005</td>\n",
              "      <td>0.0118</td>\n",
              "      <td>0.0035</td>\n",
              "      <td>2.3630</td>\n",
              "      <td>0.0000</td>\n",
              "      <td>0.0000</td>\n",
              "      <td>0.000</td>\n",
              "      <td>0.0000</td>\n",
              "      <td>-1</td>\n",
              "    </tr>\n",
              "    <tr>\n",
              "      <th>1</th>\n",
              "      <td>2008-07-19 12:32:00</td>\n",
              "      <td>3095.78</td>\n",
              "      <td>2465.14</td>\n",
              "      <td>2230.4222</td>\n",
              "      <td>1463.6606</td>\n",
              "      <td>0.8294</td>\n",
              "      <td>100.0</td>\n",
              "      <td>102.3433</td>\n",
              "      <td>0.1247</td>\n",
              "      <td>1.4966</td>\n",
              "      <td>...</td>\n",
              "      <td>10.9003</td>\n",
              "      <td>0.5019</td>\n",
              "      <td>0.0223</td>\n",
              "      <td>0.0055</td>\n",
              "      <td>4.4447</td>\n",
              "      <td>0.0096</td>\n",
              "      <td>0.0201</td>\n",
              "      <td>0.006</td>\n",
              "      <td>208.2045</td>\n",
              "      <td>-1</td>\n",
              "    </tr>\n",
              "  </tbody>\n",
              "</table>\n",
              "<p>2 rows × 568 columns</p>\n",
              "</div>"
            ],
            "text/plain": [
              "                  Time        0        1          2          3       4      5  \\\n",
              "0  2008-07-19 11:55:00  3030.93  2564.00  2187.7333  1411.1265  1.3602  100.0   \n",
              "1  2008-07-19 12:32:00  3095.78  2465.14  2230.4222  1463.6606  0.8294  100.0   \n",
              "\n",
              "          6       7       8  ...      577     582     583     584     585  \\\n",
              "0   97.6133  0.1242  1.5005  ...  14.9509  0.5005  0.0118  0.0035  2.3630   \n",
              "1  102.3433  0.1247  1.4966  ...  10.9003  0.5019  0.0223  0.0055  4.4447   \n",
              "\n",
              "      586     587    588       589  Pass/Fail  \n",
              "0  0.0000  0.0000  0.000    0.0000         -1  \n",
              "1  0.0096  0.0201  0.006  208.2045         -1  \n",
              "\n",
              "[2 rows x 568 columns]"
            ]
          },
          "execution_count": 80,
          "metadata": {},
          "output_type": "execute_result"
        }
      ],
      "source": [
        "data.head(2)"
      ]
    },
    {
      "cell_type": "code",
      "execution_count": null,
      "metadata": {
        "id": "Wy27qTMnHGAu",
        "outputId": "83974bab-9a48-429b-8b2f-94c2ef7dc200"
      },
      "outputs": [
        {
          "data": {
            "text/plain": [
              "Index(['Time', '0', '1', '2', '3', '4', '5', '6', '7', '8',\n",
              "       ...\n",
              "       '577', '582', '583', '584', '585', '586', '587', '588', '589',\n",
              "       'Pass/Fail'],\n",
              "      dtype='object', length=568)"
            ]
          },
          "execution_count": 81,
          "metadata": {},
          "output_type": "execute_result"
        }
      ],
      "source": [
        "data.columns"
      ]
    },
    {
      "cell_type": "code",
      "execution_count": null,
      "metadata": {
        "id": "PYQzybAFHGAv"
      },
      "outputs": [],
      "source": [
        "datan=data"
      ]
    },
    {
      "cell_type": "code",
      "execution_count": null,
      "metadata": {
        "id": "0Oq3JmYkHGAv"
      },
      "outputs": [],
      "source": [
        "datan=datan.rename(columns={\"Time\": \"timestamp\"})"
      ]
    },
    {
      "cell_type": "code",
      "execution_count": null,
      "metadata": {
        "id": "Doi8pbfPHGAv",
        "outputId": "6df08c09-df39-48da-a4cd-d5144d015916"
      },
      "outputs": [
        {
          "data": {
            "text/html": [
              "<div>\n",
              "<style scoped>\n",
              "    .dataframe tbody tr th:only-of-type {\n",
              "        vertical-align: middle;\n",
              "    }\n",
              "\n",
              "    .dataframe tbody tr th {\n",
              "        vertical-align: top;\n",
              "    }\n",
              "\n",
              "    .dataframe thead th {\n",
              "        text-align: right;\n",
              "    }\n",
              "</style>\n",
              "<table border=\"1\" class=\"dataframe\">\n",
              "  <thead>\n",
              "    <tr style=\"text-align: right;\">\n",
              "      <th></th>\n",
              "      <th>timestamp</th>\n",
              "      <th>0</th>\n",
              "      <th>1</th>\n",
              "      <th>2</th>\n",
              "      <th>3</th>\n",
              "      <th>4</th>\n",
              "      <th>5</th>\n",
              "      <th>6</th>\n",
              "      <th>7</th>\n",
              "      <th>8</th>\n",
              "      <th>...</th>\n",
              "      <th>577</th>\n",
              "      <th>582</th>\n",
              "      <th>583</th>\n",
              "      <th>584</th>\n",
              "      <th>585</th>\n",
              "      <th>586</th>\n",
              "      <th>587</th>\n",
              "      <th>588</th>\n",
              "      <th>589</th>\n",
              "      <th>Pass/Fail</th>\n",
              "    </tr>\n",
              "  </thead>\n",
              "  <tbody>\n",
              "    <tr>\n",
              "      <th>0</th>\n",
              "      <td>2008-07-19 11:55:00</td>\n",
              "      <td>3030.93</td>\n",
              "      <td>2564.0</td>\n",
              "      <td>2187.7333</td>\n",
              "      <td>1411.1265</td>\n",
              "      <td>1.3602</td>\n",
              "      <td>100.0</td>\n",
              "      <td>97.6133</td>\n",
              "      <td>0.1242</td>\n",
              "      <td>1.5005</td>\n",
              "      <td>...</td>\n",
              "      <td>14.9509</td>\n",
              "      <td>0.5005</td>\n",
              "      <td>0.0118</td>\n",
              "      <td>0.0035</td>\n",
              "      <td>2.363</td>\n",
              "      <td>0.0</td>\n",
              "      <td>0.0</td>\n",
              "      <td>0.0</td>\n",
              "      <td>0.0</td>\n",
              "      <td>-1</td>\n",
              "    </tr>\n",
              "  </tbody>\n",
              "</table>\n",
              "<p>1 rows × 568 columns</p>\n",
              "</div>"
            ],
            "text/plain": [
              "             timestamp        0       1          2          3       4      5  \\\n",
              "0  2008-07-19 11:55:00  3030.93  2564.0  2187.7333  1411.1265  1.3602  100.0   \n",
              "\n",
              "         6       7       8  ...      577     582     583     584    585  586  \\\n",
              "0  97.6133  0.1242  1.5005  ...  14.9509  0.5005  0.0118  0.0035  2.363  0.0   \n",
              "\n",
              "   587  588  589  Pass/Fail  \n",
              "0  0.0  0.0  0.0         -1  \n",
              "\n",
              "[1 rows x 568 columns]"
            ]
          },
          "execution_count": 84,
          "metadata": {},
          "output_type": "execute_result"
        }
      ],
      "source": [
        "datan.loc[datan['timestamp']=='2008-07-19 11:55:00']"
      ]
    },
    {
      "cell_type": "code",
      "execution_count": null,
      "metadata": {
        "id": "_bLa59ttHGAv"
      },
      "outputs": [],
      "source": [
        "#selecting for only 300 signals due to AD limitation"
      ]
    },
    {
      "cell_type": "code",
      "execution_count": null,
      "metadata": {
        "id": "EsHpMWLQHGAv"
      },
      "outputs": [],
      "source": [
        "datan=datan.iloc[:, 0:290]"
      ]
    },
    {
      "cell_type": "code",
      "execution_count": null,
      "metadata": {
        "id": "7dEL3LE2HGAv",
        "outputId": "21d4e3b3-4c0d-4b1a-d916-0f56a35cd9c0"
      },
      "outputs": [
        {
          "data": {
            "text/html": [
              "<div>\n",
              "<style scoped>\n",
              "    .dataframe tbody tr th:only-of-type {\n",
              "        vertical-align: middle;\n",
              "    }\n",
              "\n",
              "    .dataframe tbody tr th {\n",
              "        vertical-align: top;\n",
              "    }\n",
              "\n",
              "    .dataframe thead th {\n",
              "        text-align: right;\n",
              "    }\n",
              "</style>\n",
              "<table border=\"1\" class=\"dataframe\">\n",
              "  <thead>\n",
              "    <tr style=\"text-align: right;\">\n",
              "      <th></th>\n",
              "      <th>timestamp</th>\n",
              "      <th>0</th>\n",
              "      <th>1</th>\n",
              "      <th>2</th>\n",
              "      <th>3</th>\n",
              "      <th>4</th>\n",
              "      <th>5</th>\n",
              "      <th>6</th>\n",
              "      <th>7</th>\n",
              "      <th>8</th>\n",
              "      <th>...</th>\n",
              "      <th>289</th>\n",
              "      <th>290</th>\n",
              "      <th>291</th>\n",
              "      <th>294</th>\n",
              "      <th>295</th>\n",
              "      <th>296</th>\n",
              "      <th>297</th>\n",
              "      <th>298</th>\n",
              "      <th>299</th>\n",
              "      <th>300</th>\n",
              "    </tr>\n",
              "  </thead>\n",
              "  <tbody>\n",
              "    <tr>\n",
              "      <th>0</th>\n",
              "      <td>2008-07-19 11:55:00</td>\n",
              "      <td>3030.93</td>\n",
              "      <td>2564.00</td>\n",
              "      <td>2187.7333</td>\n",
              "      <td>1411.1265</td>\n",
              "      <td>1.3602</td>\n",
              "      <td>100.0</td>\n",
              "      <td>97.6133</td>\n",
              "      <td>0.1242</td>\n",
              "      <td>1.5005</td>\n",
              "      <td>...</td>\n",
              "      <td>3.8447</td>\n",
              "      <td>0.1077</td>\n",
              "      <td>0.0167</td>\n",
              "      <td>418.1363</td>\n",
              "      <td>398.3185</td>\n",
              "      <td>496.1582</td>\n",
              "      <td>158.3330</td>\n",
              "      <td>0.0373</td>\n",
              "      <td>0.0202</td>\n",
              "      <td>0.0462</td>\n",
              "    </tr>\n",
              "    <tr>\n",
              "      <th>1</th>\n",
              "      <td>2008-07-19 12:32:00</td>\n",
              "      <td>3095.78</td>\n",
              "      <td>2465.14</td>\n",
              "      <td>2230.4222</td>\n",
              "      <td>1463.6606</td>\n",
              "      <td>0.8294</td>\n",
              "      <td>100.0</td>\n",
              "      <td>102.3433</td>\n",
              "      <td>0.1247</td>\n",
              "      <td>1.4966</td>\n",
              "      <td>...</td>\n",
              "      <td>3.7836</td>\n",
              "      <td>0.1000</td>\n",
              "      <td>0.0139</td>\n",
              "      <td>233.9865</td>\n",
              "      <td>26.5879</td>\n",
              "      <td>139.2082</td>\n",
              "      <td>1529.7622</td>\n",
              "      <td>0.0502</td>\n",
              "      <td>0.0561</td>\n",
              "      <td>0.0591</td>\n",
              "    </tr>\n",
              "  </tbody>\n",
              "</table>\n",
              "<p>2 rows × 290 columns</p>\n",
              "</div>"
            ],
            "text/plain": [
              "             timestamp        0        1          2          3       4      5  \\\n",
              "0  2008-07-19 11:55:00  3030.93  2564.00  2187.7333  1411.1265  1.3602  100.0   \n",
              "1  2008-07-19 12:32:00  3095.78  2465.14  2230.4222  1463.6606  0.8294  100.0   \n",
              "\n",
              "          6       7       8  ...     289     290     291       294       295  \\\n",
              "0   97.6133  0.1242  1.5005  ...  3.8447  0.1077  0.0167  418.1363  398.3185   \n",
              "1  102.3433  0.1247  1.4966  ...  3.7836  0.1000  0.0139  233.9865   26.5879   \n",
              "\n",
              "        296        297     298     299     300  \n",
              "0  496.1582   158.3330  0.0373  0.0202  0.0462  \n",
              "1  139.2082  1529.7622  0.0502  0.0561  0.0591  \n",
              "\n",
              "[2 rows x 290 columns]"
            ]
          },
          "execution_count": 87,
          "metadata": {},
          "output_type": "execute_result"
        }
      ],
      "source": [
        "datan.head(2)"
      ]
    },
    {
      "cell_type": "code",
      "execution_count": null,
      "metadata": {
        "id": "mEdZ_UgvHGAw"
      },
      "outputs": [],
      "source": [
        "#iso8601 format"
      ]
    },
    {
      "cell_type": "code",
      "execution_count": null,
      "metadata": {
        "id": "WIhVnBKHHGAw"
      },
      "outputs": [],
      "source": [
        "mtext='2008-07-19 11:55:00'"
      ]
    },
    {
      "cell_type": "code",
      "execution_count": null,
      "metadata": {
        "id": "LiceIFwaHGAw",
        "outputId": "a953e0ce-79d9-4dac-8272-cf34aa6569ab"
      },
      "outputs": [
        {
          "name": "stdout",
          "output_type": "stream",
          "text": [
            "2008-07-19 11:55:00\n",
            "2008-07-19T11:55:00\n"
          ]
        }
      ],
      "source": [
        "import dateutil.parser as parser\n",
        "print(mtext)\n",
        "date = parser.parse(mtext).isoformat()\n",
        "print(date)\n"
      ]
    },
    {
      "cell_type": "code",
      "execution_count": null,
      "metadata": {
        "id": "XKLJjXcTHGAw",
        "outputId": "dcab37ad-77fd-4065-c132-6dd2d4e4a65e"
      },
      "outputs": [
        {
          "name": "stderr",
          "output_type": "stream",
          "text": [
            "/home/datascience/conda/mlcpuv1/lib/python3.6/site-packages/ipykernel_launcher.py:4: SettingWithCopyWarning: \n",
            "A value is trying to be set on a copy of a slice from a DataFrame\n",
            "\n",
            "See the caveats in the documentation: https://pandas.pydata.org/pandas-docs/stable/user_guide/indexing.html#returning-a-view-versus-a-copy\n",
            "  after removing the cwd from sys.path.\n"
          ]
        }
      ],
      "source": [
        "import dateutil.parser as parser\n",
        "text = 'Thu, 16 Dec 2010 12:14:05 +0000'\n",
        "for i in range(len(datan)):\n",
        "    datan.timestamp[i] = (parser.parse(datan.timestamp[i])).isoformat()"
      ]
    },
    {
      "cell_type": "code",
      "execution_count": null,
      "metadata": {
        "id": "RapZHIODHGAw",
        "outputId": "c44becb6-8d7a-4839-b027-4100efce57b4"
      },
      "outputs": [
        {
          "data": {
            "text/html": [
              "<div>\n",
              "<style scoped>\n",
              "    .dataframe tbody tr th:only-of-type {\n",
              "        vertical-align: middle;\n",
              "    }\n",
              "\n",
              "    .dataframe tbody tr th {\n",
              "        vertical-align: top;\n",
              "    }\n",
              "\n",
              "    .dataframe thead th {\n",
              "        text-align: right;\n",
              "    }\n",
              "</style>\n",
              "<table border=\"1\" class=\"dataframe\">\n",
              "  <thead>\n",
              "    <tr style=\"text-align: right;\">\n",
              "      <th></th>\n",
              "      <th>timestamp</th>\n",
              "      <th>0</th>\n",
              "      <th>1</th>\n",
              "      <th>2</th>\n",
              "      <th>3</th>\n",
              "      <th>4</th>\n",
              "      <th>5</th>\n",
              "      <th>6</th>\n",
              "      <th>7</th>\n",
              "      <th>8</th>\n",
              "      <th>...</th>\n",
              "      <th>289</th>\n",
              "      <th>290</th>\n",
              "      <th>291</th>\n",
              "      <th>294</th>\n",
              "      <th>295</th>\n",
              "      <th>296</th>\n",
              "      <th>297</th>\n",
              "      <th>298</th>\n",
              "      <th>299</th>\n",
              "      <th>300</th>\n",
              "    </tr>\n",
              "  </thead>\n",
              "  <tbody>\n",
              "    <tr>\n",
              "      <th>0</th>\n",
              "      <td>2008-07-19T11:55:00</td>\n",
              "      <td>3030.93</td>\n",
              "      <td>2564.00</td>\n",
              "      <td>2187.7333</td>\n",
              "      <td>1411.1265</td>\n",
              "      <td>1.3602</td>\n",
              "      <td>100.0</td>\n",
              "      <td>97.6133</td>\n",
              "      <td>0.1242</td>\n",
              "      <td>1.5005</td>\n",
              "      <td>...</td>\n",
              "      <td>3.8447</td>\n",
              "      <td>0.1077</td>\n",
              "      <td>0.0167</td>\n",
              "      <td>418.1363</td>\n",
              "      <td>398.3185</td>\n",
              "      <td>496.1582</td>\n",
              "      <td>158.3330</td>\n",
              "      <td>0.0373</td>\n",
              "      <td>0.0202</td>\n",
              "      <td>0.0462</td>\n",
              "    </tr>\n",
              "    <tr>\n",
              "      <th>1</th>\n",
              "      <td>2008-07-19T12:32:00</td>\n",
              "      <td>3095.78</td>\n",
              "      <td>2465.14</td>\n",
              "      <td>2230.4222</td>\n",
              "      <td>1463.6606</td>\n",
              "      <td>0.8294</td>\n",
              "      <td>100.0</td>\n",
              "      <td>102.3433</td>\n",
              "      <td>0.1247</td>\n",
              "      <td>1.4966</td>\n",
              "      <td>...</td>\n",
              "      <td>3.7836</td>\n",
              "      <td>0.1000</td>\n",
              "      <td>0.0139</td>\n",
              "      <td>233.9865</td>\n",
              "      <td>26.5879</td>\n",
              "      <td>139.2082</td>\n",
              "      <td>1529.7622</td>\n",
              "      <td>0.0502</td>\n",
              "      <td>0.0561</td>\n",
              "      <td>0.0591</td>\n",
              "    </tr>\n",
              "  </tbody>\n",
              "</table>\n",
              "<p>2 rows × 290 columns</p>\n",
              "</div>"
            ],
            "text/plain": [
              "             timestamp        0        1          2          3       4      5  \\\n",
              "0  2008-07-19T11:55:00  3030.93  2564.00  2187.7333  1411.1265  1.3602  100.0   \n",
              "1  2008-07-19T12:32:00  3095.78  2465.14  2230.4222  1463.6606  0.8294  100.0   \n",
              "\n",
              "          6       7       8  ...     289     290     291       294       295  \\\n",
              "0   97.6133  0.1242  1.5005  ...  3.8447  0.1077  0.0167  418.1363  398.3185   \n",
              "1  102.3433  0.1247  1.4966  ...  3.7836  0.1000  0.0139  233.9865   26.5879   \n",
              "\n",
              "        296        297     298     299     300  \n",
              "0  496.1582   158.3330  0.0373  0.0202  0.0462  \n",
              "1  139.2082  1529.7622  0.0502  0.0561  0.0591  \n",
              "\n",
              "[2 rows x 290 columns]"
            ]
          },
          "execution_count": 92,
          "metadata": {},
          "output_type": "execute_result"
        }
      ],
      "source": [
        "datan.head(2)"
      ]
    },
    {
      "cell_type": "code",
      "execution_count": null,
      "metadata": {
        "id": "9-vaiSLxHGAx",
        "outputId": "4a9f0cf4-e41e-40ae-e037-39b1ad545619"
      },
      "outputs": [
        {
          "data": {
            "text/plain": [
              "(1567, 290)"
            ]
          },
          "execution_count": 93,
          "metadata": {},
          "output_type": "execute_result"
        }
      ],
      "source": [
        "datan.shape"
      ]
    },
    {
      "cell_type": "code",
      "execution_count": null,
      "metadata": {
        "id": "jR4hrdbbHGAx"
      },
      "outputs": [],
      "source": [
        "sdata=datan.iloc[:, 0:250]"
      ]
    },
    {
      "cell_type": "code",
      "execution_count": null,
      "metadata": {
        "id": "ij08nsoyHGAx",
        "outputId": "577e41a5-9b3b-4f3f-819d-69dc79e6ed78"
      },
      "outputs": [
        {
          "data": {
            "text/html": [
              "<div>\n",
              "<style scoped>\n",
              "    .dataframe tbody tr th:only-of-type {\n",
              "        vertical-align: middle;\n",
              "    }\n",
              "\n",
              "    .dataframe tbody tr th {\n",
              "        vertical-align: top;\n",
              "    }\n",
              "\n",
              "    .dataframe thead th {\n",
              "        text-align: right;\n",
              "    }\n",
              "</style>\n",
              "<table border=\"1\" class=\"dataframe\">\n",
              "  <thead>\n",
              "    <tr style=\"text-align: right;\">\n",
              "      <th></th>\n",
              "      <th>timestamp</th>\n",
              "      <th>0</th>\n",
              "      <th>1</th>\n",
              "      <th>2</th>\n",
              "      <th>3</th>\n",
              "      <th>4</th>\n",
              "      <th>5</th>\n",
              "      <th>6</th>\n",
              "      <th>7</th>\n",
              "      <th>8</th>\n",
              "      <th>...</th>\n",
              "      <th>249</th>\n",
              "      <th>250</th>\n",
              "      <th>251</th>\n",
              "      <th>252</th>\n",
              "      <th>253</th>\n",
              "      <th>254</th>\n",
              "      <th>255</th>\n",
              "      <th>256</th>\n",
              "      <th>257</th>\n",
              "      <th>258</th>\n",
              "    </tr>\n",
              "  </thead>\n",
              "  <tbody>\n",
              "    <tr>\n",
              "      <th>0</th>\n",
              "      <td>2008-07-19T11:55:00</td>\n",
              "      <td>3030.93</td>\n",
              "      <td>2564.00</td>\n",
              "      <td>2187.7333</td>\n",
              "      <td>1411.1265</td>\n",
              "      <td>1.3602</td>\n",
              "      <td>100.0</td>\n",
              "      <td>97.6133</td>\n",
              "      <td>0.1242</td>\n",
              "      <td>1.5005</td>\n",
              "      <td>...</td>\n",
              "      <td>0.0</td>\n",
              "      <td>219.9453</td>\n",
              "      <td>0.0011</td>\n",
              "      <td>2.8374</td>\n",
              "      <td>0.0189</td>\n",
              "      <td>0.0050</td>\n",
              "      <td>0.4269</td>\n",
              "      <td>0.0</td>\n",
              "      <td>0.0</td>\n",
              "      <td>0.0</td>\n",
              "    </tr>\n",
              "    <tr>\n",
              "      <th>1</th>\n",
              "      <td>2008-07-19T12:32:00</td>\n",
              "      <td>3095.78</td>\n",
              "      <td>2465.14</td>\n",
              "      <td>2230.4222</td>\n",
              "      <td>1463.6606</td>\n",
              "      <td>0.8294</td>\n",
              "      <td>100.0</td>\n",
              "      <td>102.3433</td>\n",
              "      <td>0.1247</td>\n",
              "      <td>1.4966</td>\n",
              "      <td>...</td>\n",
              "      <td>0.0</td>\n",
              "      <td>193.0287</td>\n",
              "      <td>0.0007</td>\n",
              "      <td>3.8999</td>\n",
              "      <td>0.0187</td>\n",
              "      <td>0.0086</td>\n",
              "      <td>0.5749</td>\n",
              "      <td>0.0</td>\n",
              "      <td>0.0</td>\n",
              "      <td>0.0</td>\n",
              "    </tr>\n",
              "  </tbody>\n",
              "</table>\n",
              "<p>2 rows × 250 columns</p>\n",
              "</div>"
            ],
            "text/plain": [
              "             timestamp        0        1          2          3       4      5  \\\n",
              "0  2008-07-19T11:55:00  3030.93  2564.00  2187.7333  1411.1265  1.3602  100.0   \n",
              "1  2008-07-19T12:32:00  3095.78  2465.14  2230.4222  1463.6606  0.8294  100.0   \n",
              "\n",
              "          6       7       8  ...  249       250     251     252     253  \\\n",
              "0   97.6133  0.1242  1.5005  ...  0.0  219.9453  0.0011  2.8374  0.0189   \n",
              "1  102.3433  0.1247  1.4966  ...  0.0  193.0287  0.0007  3.8999  0.0187   \n",
              "\n",
              "      254     255  256  257  258  \n",
              "0  0.0050  0.4269  0.0  0.0  0.0  \n",
              "1  0.0086  0.5749  0.0  0.0  0.0  \n",
              "\n",
              "[2 rows x 250 columns]"
            ]
          },
          "execution_count": 95,
          "metadata": {},
          "output_type": "execute_result"
        }
      ],
      "source": [
        "sdata.head(2)"
      ]
    },
    {
      "cell_type": "code",
      "execution_count": null,
      "metadata": {
        "id": "x6UyDGV_HGAx"
      },
      "outputs": [],
      "source": [
        "sdata.sort_values(\"timestamp\", axis = 0, ascending = True,\n",
        "                 inplace = True, na_position ='last')"
      ]
    },
    {
      "cell_type": "code",
      "execution_count": null,
      "metadata": {
        "id": "Pfef8dLTHGAx"
      },
      "outputs": [],
      "source": [
        "sdatadup=sdata"
      ]
    },
    {
      "cell_type": "code",
      "execution_count": null,
      "metadata": {
        "id": "aDqAXj5bHGAy",
        "outputId": "cf55e1da-aec0-40de-e79b-6ca876c23f65"
      },
      "outputs": [
        {
          "data": {
            "text/html": [
              "<div>\n",
              "<style scoped>\n",
              "    .dataframe tbody tr th:only-of-type {\n",
              "        vertical-align: middle;\n",
              "    }\n",
              "\n",
              "    .dataframe tbody tr th {\n",
              "        vertical-align: top;\n",
              "    }\n",
              "\n",
              "    .dataframe thead th {\n",
              "        text-align: right;\n",
              "    }\n",
              "</style>\n",
              "<table border=\"1\" class=\"dataframe\">\n",
              "  <thead>\n",
              "    <tr style=\"text-align: right;\">\n",
              "      <th></th>\n",
              "      <th>timestamp</th>\n",
              "      <th>0</th>\n",
              "      <th>1</th>\n",
              "      <th>2</th>\n",
              "      <th>3</th>\n",
              "      <th>4</th>\n",
              "      <th>5</th>\n",
              "      <th>6</th>\n",
              "      <th>7</th>\n",
              "      <th>8</th>\n",
              "      <th>...</th>\n",
              "      <th>249</th>\n",
              "      <th>250</th>\n",
              "      <th>251</th>\n",
              "      <th>252</th>\n",
              "      <th>253</th>\n",
              "      <th>254</th>\n",
              "      <th>255</th>\n",
              "      <th>256</th>\n",
              "      <th>257</th>\n",
              "      <th>258</th>\n",
              "    </tr>\n",
              "  </thead>\n",
              "  <tbody>\n",
              "    <tr>\n",
              "      <th>63</th>\n",
              "      <td>2008-01-08T02:02:00</td>\n",
              "      <td>3016.64</td>\n",
              "      <td>2492.80</td>\n",
              "      <td>2246.4889</td>\n",
              "      <td>1006.9548</td>\n",
              "      <td>1.0997</td>\n",
              "      <td>100.0</td>\n",
              "      <td>103.3222</td>\n",
              "      <td>0.1184</td>\n",
              "      <td>1.5068</td>\n",
              "      <td>...</td>\n",
              "      <td>0.0</td>\n",
              "      <td>105.3814</td>\n",
              "      <td>0.0021</td>\n",
              "      <td>4.9963</td>\n",
              "      <td>0.0287</td>\n",
              "      <td>0.0181</td>\n",
              "      <td>0.3517</td>\n",
              "      <td>0.0</td>\n",
              "      <td>0.0</td>\n",
              "      <td>0.0</td>\n",
              "    </tr>\n",
              "    <tr>\n",
              "      <th>64</th>\n",
              "      <td>2008-01-08T05:52:00</td>\n",
              "      <td>2980.84</td>\n",
              "      <td>2628.76</td>\n",
              "      <td>2187.5222</td>\n",
              "      <td>1268.6598</td>\n",
              "      <td>1.4503</td>\n",
              "      <td>100.0</td>\n",
              "      <td>102.4622</td>\n",
              "      <td>0.1233</td>\n",
              "      <td>1.4672</td>\n",
              "      <td>...</td>\n",
              "      <td>0.0</td>\n",
              "      <td>65.5066</td>\n",
              "      <td>0.0151</td>\n",
              "      <td>2.6554</td>\n",
              "      <td>0.0572</td>\n",
              "      <td>0.0157</td>\n",
              "      <td>0.3816</td>\n",
              "      <td>0.0</td>\n",
              "      <td>0.0</td>\n",
              "      <td>0.0</td>\n",
              "    </tr>\n",
              "  </tbody>\n",
              "</table>\n",
              "<p>2 rows × 250 columns</p>\n",
              "</div>"
            ],
            "text/plain": [
              "              timestamp        0        1          2          3       4  \\\n",
              "63  2008-01-08T02:02:00  3016.64  2492.80  2246.4889  1006.9548  1.0997   \n",
              "64  2008-01-08T05:52:00  2980.84  2628.76  2187.5222  1268.6598  1.4503   \n",
              "\n",
              "        5         6       7       8  ...  249       250     251     252  \\\n",
              "63  100.0  103.3222  0.1184  1.5068  ...  0.0  105.3814  0.0021  4.9963   \n",
              "64  100.0  102.4622  0.1233  1.4672  ...  0.0   65.5066  0.0151  2.6554   \n",
              "\n",
              "       253     254     255  256  257  258  \n",
              "63  0.0287  0.0181  0.3517  0.0  0.0  0.0  \n",
              "64  0.0572  0.0157  0.3816  0.0  0.0  0.0  \n",
              "\n",
              "[2 rows x 250 columns]"
            ]
          },
          "execution_count": 98,
          "metadata": {},
          "output_type": "execute_result"
        }
      ],
      "source": [
        "sdatadup.head(2)"
      ]
    },
    {
      "cell_type": "code",
      "execution_count": null,
      "metadata": {
        "id": "5pUQ6RaEHGAy"
      },
      "outputs": [],
      "source": [
        "sdatadup=sdatadup.drop_duplicates(subset='timestamp',keep='first')"
      ]
    },
    {
      "cell_type": "code",
      "execution_count": null,
      "metadata": {
        "id": "g6dq-CKcHGAy",
        "outputId": "1a53b085-75bd-4dc0-a5a4-d45d4d734ba6"
      },
      "outputs": [
        {
          "data": {
            "text/html": [
              "<div>\n",
              "<style scoped>\n",
              "    .dataframe tbody tr th:only-of-type {\n",
              "        vertical-align: middle;\n",
              "    }\n",
              "\n",
              "    .dataframe tbody tr th {\n",
              "        vertical-align: top;\n",
              "    }\n",
              "\n",
              "    .dataframe thead th {\n",
              "        text-align: right;\n",
              "    }\n",
              "</style>\n",
              "<table border=\"1\" class=\"dataframe\">\n",
              "  <thead>\n",
              "    <tr style=\"text-align: right;\">\n",
              "      <th></th>\n",
              "      <th>timestamp</th>\n",
              "      <th>0</th>\n",
              "      <th>1</th>\n",
              "      <th>2</th>\n",
              "      <th>3</th>\n",
              "      <th>4</th>\n",
              "      <th>5</th>\n",
              "      <th>6</th>\n",
              "      <th>7</th>\n",
              "      <th>8</th>\n",
              "      <th>...</th>\n",
              "      <th>249</th>\n",
              "      <th>250</th>\n",
              "      <th>251</th>\n",
              "      <th>252</th>\n",
              "      <th>253</th>\n",
              "      <th>254</th>\n",
              "      <th>255</th>\n",
              "      <th>256</th>\n",
              "      <th>257</th>\n",
              "      <th>258</th>\n",
              "    </tr>\n",
              "  </thead>\n",
              "  <tbody>\n",
              "    <tr>\n",
              "      <th>63</th>\n",
              "      <td>2008-01-08T02:02:00</td>\n",
              "      <td>3016.64</td>\n",
              "      <td>2492.80</td>\n",
              "      <td>2246.4889</td>\n",
              "      <td>1006.9548</td>\n",
              "      <td>1.0997</td>\n",
              "      <td>100.0</td>\n",
              "      <td>103.3222</td>\n",
              "      <td>0.1184</td>\n",
              "      <td>1.5068</td>\n",
              "      <td>...</td>\n",
              "      <td>0.0</td>\n",
              "      <td>105.3814</td>\n",
              "      <td>0.0021</td>\n",
              "      <td>4.9963</td>\n",
              "      <td>0.0287</td>\n",
              "      <td>0.0181</td>\n",
              "      <td>0.3517</td>\n",
              "      <td>0.0</td>\n",
              "      <td>0.0</td>\n",
              "      <td>0.0</td>\n",
              "    </tr>\n",
              "    <tr>\n",
              "      <th>64</th>\n",
              "      <td>2008-01-08T05:52:00</td>\n",
              "      <td>2980.84</td>\n",
              "      <td>2628.76</td>\n",
              "      <td>2187.5222</td>\n",
              "      <td>1268.6598</td>\n",
              "      <td>1.4503</td>\n",
              "      <td>100.0</td>\n",
              "      <td>102.4622</td>\n",
              "      <td>0.1233</td>\n",
              "      <td>1.4672</td>\n",
              "      <td>...</td>\n",
              "      <td>0.0</td>\n",
              "      <td>65.5066</td>\n",
              "      <td>0.0151</td>\n",
              "      <td>2.6554</td>\n",
              "      <td>0.0572</td>\n",
              "      <td>0.0157</td>\n",
              "      <td>0.3816</td>\n",
              "      <td>0.0</td>\n",
              "      <td>0.0</td>\n",
              "      <td>0.0</td>\n",
              "    </tr>\n",
              "    <tr>\n",
              "      <th>65</th>\n",
              "      <td>2008-01-08T10:20:00</td>\n",
              "      <td>2847.81</td>\n",
              "      <td>2461.38</td>\n",
              "      <td>2202.7111</td>\n",
              "      <td>1010.4454</td>\n",
              "      <td>1.0032</td>\n",
              "      <td>100.0</td>\n",
              "      <td>104.3067</td>\n",
              "      <td>0.1225</td>\n",
              "      <td>1.4970</td>\n",
              "      <td>...</td>\n",
              "      <td>0.0</td>\n",
              "      <td>165.7468</td>\n",
              "      <td>0.0016</td>\n",
              "      <td>5.2175</td>\n",
              "      <td>0.0584</td>\n",
              "      <td>0.0045</td>\n",
              "      <td>0.4017</td>\n",
              "      <td>0.0</td>\n",
              "      <td>0.0</td>\n",
              "      <td>0.0</td>\n",
              "    </tr>\n",
              "    <tr>\n",
              "      <th>66</th>\n",
              "      <td>2008-01-08T10:26:00</td>\n",
              "      <td>0.00</td>\n",
              "      <td>2544.52</td>\n",
              "      <td>2202.7111</td>\n",
              "      <td>1010.4454</td>\n",
              "      <td>1.0032</td>\n",
              "      <td>100.0</td>\n",
              "      <td>104.3067</td>\n",
              "      <td>0.1225</td>\n",
              "      <td>1.4727</td>\n",
              "      <td>...</td>\n",
              "      <td>0.0</td>\n",
              "      <td>242.0692</td>\n",
              "      <td>0.0009</td>\n",
              "      <td>2.2402</td>\n",
              "      <td>0.0336</td>\n",
              "      <td>0.0056</td>\n",
              "      <td>0.2833</td>\n",
              "      <td>0.0</td>\n",
              "      <td>0.0</td>\n",
              "      <td>0.0</td>\n",
              "    </tr>\n",
              "    <tr>\n",
              "      <th>67</th>\n",
              "      <td>2008-01-08T11:28:00</td>\n",
              "      <td>2975.64</td>\n",
              "      <td>2508.28</td>\n",
              "      <td>2202.7111</td>\n",
              "      <td>1010.4454</td>\n",
              "      <td>1.0032</td>\n",
              "      <td>100.0</td>\n",
              "      <td>104.3067</td>\n",
              "      <td>0.1225</td>\n",
              "      <td>1.5079</td>\n",
              "      <td>...</td>\n",
              "      <td>0.0</td>\n",
              "      <td>91.6945</td>\n",
              "      <td>0.0048</td>\n",
              "      <td>5.5617</td>\n",
              "      <td>0.0642</td>\n",
              "      <td>0.0280</td>\n",
              "      <td>0.3307</td>\n",
              "      <td>0.0</td>\n",
              "      <td>0.0</td>\n",
              "      <td>0.0</td>\n",
              "    </tr>\n",
              "  </tbody>\n",
              "</table>\n",
              "<p>5 rows × 250 columns</p>\n",
              "</div>"
            ],
            "text/plain": [
              "              timestamp        0        1          2          3       4  \\\n",
              "63  2008-01-08T02:02:00  3016.64  2492.80  2246.4889  1006.9548  1.0997   \n",
              "64  2008-01-08T05:52:00  2980.84  2628.76  2187.5222  1268.6598  1.4503   \n",
              "65  2008-01-08T10:20:00  2847.81  2461.38  2202.7111  1010.4454  1.0032   \n",
              "66  2008-01-08T10:26:00     0.00  2544.52  2202.7111  1010.4454  1.0032   \n",
              "67  2008-01-08T11:28:00  2975.64  2508.28  2202.7111  1010.4454  1.0032   \n",
              "\n",
              "        5         6       7       8  ...  249       250     251     252  \\\n",
              "63  100.0  103.3222  0.1184  1.5068  ...  0.0  105.3814  0.0021  4.9963   \n",
              "64  100.0  102.4622  0.1233  1.4672  ...  0.0   65.5066  0.0151  2.6554   \n",
              "65  100.0  104.3067  0.1225  1.4970  ...  0.0  165.7468  0.0016  5.2175   \n",
              "66  100.0  104.3067  0.1225  1.4727  ...  0.0  242.0692  0.0009  2.2402   \n",
              "67  100.0  104.3067  0.1225  1.5079  ...  0.0   91.6945  0.0048  5.5617   \n",
              "\n",
              "       253     254     255  256  257  258  \n",
              "63  0.0287  0.0181  0.3517  0.0  0.0  0.0  \n",
              "64  0.0572  0.0157  0.3816  0.0  0.0  0.0  \n",
              "65  0.0584  0.0045  0.4017  0.0  0.0  0.0  \n",
              "66  0.0336  0.0056  0.2833  0.0  0.0  0.0  \n",
              "67  0.0642  0.0280  0.3307  0.0  0.0  0.0  \n",
              "\n",
              "[5 rows x 250 columns]"
            ]
          },
          "execution_count": 100,
          "metadata": {},
          "output_type": "execute_result"
        }
      ],
      "source": [
        "sdatadup.head()"
      ]
    },
    {
      "cell_type": "code",
      "execution_count": null,
      "metadata": {
        "id": "dG-Qdb_VHGAy"
      },
      "outputs": [],
      "source": [
        "sdrn=sdatadup"
      ]
    },
    {
      "cell_type": "code",
      "execution_count": null,
      "metadata": {
        "id": "jvJNpoPZHGAy"
      },
      "outputs": [],
      "source": [
        "df_list=[sdrn]\n",
        "for i, df in enumerate(df_list, 1):\n",
        "    df.columns = ['signal_'+col_name for col_name in df.columns]"
      ]
    },
    {
      "cell_type": "code",
      "execution_count": null,
      "metadata": {
        "id": "XjqTKF4KHGAy",
        "outputId": "5f0cdd43-c546-47ab-fbb9-65229ad49bce"
      },
      "outputs": [
        {
          "name": "stderr",
          "output_type": "stream",
          "text": [
            "/home/datascience/conda/mlcpuv1/lib/python3.6/site-packages/pandas/core/frame.py:4308: SettingWithCopyWarning: \n",
            "A value is trying to be set on a copy of a slice from a DataFrame\n",
            "\n",
            "See the caveats in the documentation: https://pandas.pydata.org/pandas-docs/stable/user_guide/indexing.html#returning-a-view-versus-a-copy\n",
            "  errors=errors,\n"
          ]
        }
      ],
      "source": [
        "sdrn.rename(columns={'signal_timestamp': 'timestamp'}, inplace=True)"
      ]
    },
    {
      "cell_type": "code",
      "execution_count": null,
      "metadata": {
        "id": "NZp89w_zHGAz"
      },
      "outputs": [],
      "source": [
        "sdrni=sdrn"
      ]
    },
    {
      "cell_type": "code",
      "execution_count": null,
      "metadata": {
        "id": "RFgnszP5HGAz",
        "outputId": "86874ab9-f915-4c0f-b8b4-d3f57ddbc242"
      },
      "outputs": [
        {
          "data": {
            "text/html": [
              "<div>\n",
              "<style scoped>\n",
              "    .dataframe tbody tr th:only-of-type {\n",
              "        vertical-align: middle;\n",
              "    }\n",
              "\n",
              "    .dataframe tbody tr th {\n",
              "        vertical-align: top;\n",
              "    }\n",
              "\n",
              "    .dataframe thead th {\n",
              "        text-align: right;\n",
              "    }\n",
              "</style>\n",
              "<table border=\"1\" class=\"dataframe\">\n",
              "  <thead>\n",
              "    <tr style=\"text-align: right;\">\n",
              "      <th></th>\n",
              "      <th>index</th>\n",
              "      <th>timestamp</th>\n",
              "      <th>signal_0</th>\n",
              "      <th>signal_1</th>\n",
              "      <th>signal_2</th>\n",
              "      <th>signal_3</th>\n",
              "      <th>signal_4</th>\n",
              "      <th>signal_5</th>\n",
              "      <th>signal_6</th>\n",
              "      <th>signal_7</th>\n",
              "      <th>...</th>\n",
              "      <th>signal_249</th>\n",
              "      <th>signal_250</th>\n",
              "      <th>signal_251</th>\n",
              "      <th>signal_252</th>\n",
              "      <th>signal_253</th>\n",
              "      <th>signal_254</th>\n",
              "      <th>signal_255</th>\n",
              "      <th>signal_256</th>\n",
              "      <th>signal_257</th>\n",
              "      <th>signal_258</th>\n",
              "    </tr>\n",
              "  </thead>\n",
              "  <tbody>\n",
              "    <tr>\n",
              "      <th>0</th>\n",
              "      <td>63</td>\n",
              "      <td>2008-01-08T02:02:00</td>\n",
              "      <td>3016.64</td>\n",
              "      <td>2492.80</td>\n",
              "      <td>2246.4889</td>\n",
              "      <td>1006.9548</td>\n",
              "      <td>1.0997</td>\n",
              "      <td>100.0</td>\n",
              "      <td>103.3222</td>\n",
              "      <td>0.1184</td>\n",
              "      <td>...</td>\n",
              "      <td>0.0</td>\n",
              "      <td>105.3814</td>\n",
              "      <td>0.0021</td>\n",
              "      <td>4.9963</td>\n",
              "      <td>0.0287</td>\n",
              "      <td>0.0181</td>\n",
              "      <td>0.3517</td>\n",
              "      <td>0.0</td>\n",
              "      <td>0.0</td>\n",
              "      <td>0.0</td>\n",
              "    </tr>\n",
              "    <tr>\n",
              "      <th>1</th>\n",
              "      <td>64</td>\n",
              "      <td>2008-01-08T05:52:00</td>\n",
              "      <td>2980.84</td>\n",
              "      <td>2628.76</td>\n",
              "      <td>2187.5222</td>\n",
              "      <td>1268.6598</td>\n",
              "      <td>1.4503</td>\n",
              "      <td>100.0</td>\n",
              "      <td>102.4622</td>\n",
              "      <td>0.1233</td>\n",
              "      <td>...</td>\n",
              "      <td>0.0</td>\n",
              "      <td>65.5066</td>\n",
              "      <td>0.0151</td>\n",
              "      <td>2.6554</td>\n",
              "      <td>0.0572</td>\n",
              "      <td>0.0157</td>\n",
              "      <td>0.3816</td>\n",
              "      <td>0.0</td>\n",
              "      <td>0.0</td>\n",
              "      <td>0.0</td>\n",
              "    </tr>\n",
              "    <tr>\n",
              "      <th>2</th>\n",
              "      <td>65</td>\n",
              "      <td>2008-01-08T10:20:00</td>\n",
              "      <td>2847.81</td>\n",
              "      <td>2461.38</td>\n",
              "      <td>2202.7111</td>\n",
              "      <td>1010.4454</td>\n",
              "      <td>1.0032</td>\n",
              "      <td>100.0</td>\n",
              "      <td>104.3067</td>\n",
              "      <td>0.1225</td>\n",
              "      <td>...</td>\n",
              "      <td>0.0</td>\n",
              "      <td>165.7468</td>\n",
              "      <td>0.0016</td>\n",
              "      <td>5.2175</td>\n",
              "      <td>0.0584</td>\n",
              "      <td>0.0045</td>\n",
              "      <td>0.4017</td>\n",
              "      <td>0.0</td>\n",
              "      <td>0.0</td>\n",
              "      <td>0.0</td>\n",
              "    </tr>\n",
              "    <tr>\n",
              "      <th>3</th>\n",
              "      <td>66</td>\n",
              "      <td>2008-01-08T10:26:00</td>\n",
              "      <td>0.00</td>\n",
              "      <td>2544.52</td>\n",
              "      <td>2202.7111</td>\n",
              "      <td>1010.4454</td>\n",
              "      <td>1.0032</td>\n",
              "      <td>100.0</td>\n",
              "      <td>104.3067</td>\n",
              "      <td>0.1225</td>\n",
              "      <td>...</td>\n",
              "      <td>0.0</td>\n",
              "      <td>242.0692</td>\n",
              "      <td>0.0009</td>\n",
              "      <td>2.2402</td>\n",
              "      <td>0.0336</td>\n",
              "      <td>0.0056</td>\n",
              "      <td>0.2833</td>\n",
              "      <td>0.0</td>\n",
              "      <td>0.0</td>\n",
              "      <td>0.0</td>\n",
              "    </tr>\n",
              "    <tr>\n",
              "      <th>4</th>\n",
              "      <td>67</td>\n",
              "      <td>2008-01-08T11:28:00</td>\n",
              "      <td>2975.64</td>\n",
              "      <td>2508.28</td>\n",
              "      <td>2202.7111</td>\n",
              "      <td>1010.4454</td>\n",
              "      <td>1.0032</td>\n",
              "      <td>100.0</td>\n",
              "      <td>104.3067</td>\n",
              "      <td>0.1225</td>\n",
              "      <td>...</td>\n",
              "      <td>0.0</td>\n",
              "      <td>91.6945</td>\n",
              "      <td>0.0048</td>\n",
              "      <td>5.5617</td>\n",
              "      <td>0.0642</td>\n",
              "      <td>0.0280</td>\n",
              "      <td>0.3307</td>\n",
              "      <td>0.0</td>\n",
              "      <td>0.0</td>\n",
              "      <td>0.0</td>\n",
              "    </tr>\n",
              "    <tr>\n",
              "      <th>...</th>\n",
              "      <td>...</td>\n",
              "      <td>...</td>\n",
              "      <td>...</td>\n",
              "      <td>...</td>\n",
              "      <td>...</td>\n",
              "      <td>...</td>\n",
              "      <td>...</td>\n",
              "      <td>...</td>\n",
              "      <td>...</td>\n",
              "      <td>...</td>\n",
              "      <td>...</td>\n",
              "      <td>...</td>\n",
              "      <td>...</td>\n",
              "      <td>...</td>\n",
              "      <td>...</td>\n",
              "      <td>...</td>\n",
              "      <td>...</td>\n",
              "      <td>...</td>\n",
              "      <td>...</td>\n",
              "      <td>...</td>\n",
              "      <td>...</td>\n",
              "    </tr>\n",
              "    <tr>\n",
              "      <th>1529</th>\n",
              "      <td>1468</td>\n",
              "      <td>2008-12-10T02:59:00</td>\n",
              "      <td>2968.78</td>\n",
              "      <td>2451.53</td>\n",
              "      <td>2207.1000</td>\n",
              "      <td>1298.4309</td>\n",
              "      <td>1.0251</td>\n",
              "      <td>100.0</td>\n",
              "      <td>96.9478</td>\n",
              "      <td>0.1203</td>\n",
              "      <td>...</td>\n",
              "      <td>0.0</td>\n",
              "      <td>79.9135</td>\n",
              "      <td>0.0012</td>\n",
              "      <td>2.3563</td>\n",
              "      <td>0.0288</td>\n",
              "      <td>0.0307</td>\n",
              "      <td>0.4121</td>\n",
              "      <td>0.0</td>\n",
              "      <td>0.0</td>\n",
              "      <td>0.0</td>\n",
              "    </tr>\n",
              "    <tr>\n",
              "      <th>1530</th>\n",
              "      <td>1469</td>\n",
              "      <td>2008-12-10T03:21:00</td>\n",
              "      <td>2898.17</td>\n",
              "      <td>2547.65</td>\n",
              "      <td>0.0000</td>\n",
              "      <td>0.0000</td>\n",
              "      <td>0.0000</td>\n",
              "      <td>0.0</td>\n",
              "      <td>0.0000</td>\n",
              "      <td>0.0000</td>\n",
              "      <td>...</td>\n",
              "      <td>0.0</td>\n",
              "      <td>101.8488</td>\n",
              "      <td>0.0013</td>\n",
              "      <td>2.5365</td>\n",
              "      <td>0.0358</td>\n",
              "      <td>0.0028</td>\n",
              "      <td>0.4060</td>\n",
              "      <td>0.0</td>\n",
              "      <td>0.0</td>\n",
              "      <td>0.0</td>\n",
              "    </tr>\n",
              "    <tr>\n",
              "      <th>1531</th>\n",
              "      <td>1470</td>\n",
              "      <td>2008-12-10T03:28:00</td>\n",
              "      <td>3045.87</td>\n",
              "      <td>2493.72</td>\n",
              "      <td>2168.5111</td>\n",
              "      <td>1171.6442</td>\n",
              "      <td>0.8752</td>\n",
              "      <td>100.0</td>\n",
              "      <td>101.6567</td>\n",
              "      <td>0.1235</td>\n",
              "      <td>...</td>\n",
              "      <td>0.0</td>\n",
              "      <td>128.3553</td>\n",
              "      <td>0.0007</td>\n",
              "      <td>1.2240</td>\n",
              "      <td>0.0333</td>\n",
              "      <td>0.0032</td>\n",
              "      <td>0.3634</td>\n",
              "      <td>0.0</td>\n",
              "      <td>0.0</td>\n",
              "      <td>0.0</td>\n",
              "    </tr>\n",
              "    <tr>\n",
              "      <th>1532</th>\n",
              "      <td>1471</td>\n",
              "      <td>2008-12-10T08:19:00</td>\n",
              "      <td>2926.38</td>\n",
              "      <td>2383.76</td>\n",
              "      <td>2207.1000</td>\n",
              "      <td>1298.4309</td>\n",
              "      <td>1.0251</td>\n",
              "      <td>100.0</td>\n",
              "      <td>96.9478</td>\n",
              "      <td>0.1203</td>\n",
              "      <td>...</td>\n",
              "      <td>0.0</td>\n",
              "      <td>141.8768</td>\n",
              "      <td>0.0017</td>\n",
              "      <td>3.0969</td>\n",
              "      <td>0.0221</td>\n",
              "      <td>0.0263</td>\n",
              "      <td>0.3938</td>\n",
              "      <td>0.0</td>\n",
              "      <td>0.0</td>\n",
              "      <td>0.0</td>\n",
              "    </tr>\n",
              "    <tr>\n",
              "      <th>1533</th>\n",
              "      <td>1472</td>\n",
              "      <td>2008-12-10T18:47:00</td>\n",
              "      <td>3033.46</td>\n",
              "      <td>2424.39</td>\n",
              "      <td>2204.6667</td>\n",
              "      <td>1078.7860</td>\n",
              "      <td>0.9152</td>\n",
              "      <td>100.0</td>\n",
              "      <td>103.9611</td>\n",
              "      <td>0.1196</td>\n",
              "      <td>...</td>\n",
              "      <td>0.0</td>\n",
              "      <td>59.9680</td>\n",
              "      <td>0.0009</td>\n",
              "      <td>2.4453</td>\n",
              "      <td>0.0348</td>\n",
              "      <td>0.0045</td>\n",
              "      <td>0.4623</td>\n",
              "      <td>0.0</td>\n",
              "      <td>0.0</td>\n",
              "      <td>0.0</td>\n",
              "    </tr>\n",
              "  </tbody>\n",
              "</table>\n",
              "<p>1534 rows × 251 columns</p>\n",
              "</div>"
            ],
            "text/plain": [
              "      index            timestamp  signal_0  signal_1   signal_2   signal_3  \\\n",
              "0        63  2008-01-08T02:02:00   3016.64   2492.80  2246.4889  1006.9548   \n",
              "1        64  2008-01-08T05:52:00   2980.84   2628.76  2187.5222  1268.6598   \n",
              "2        65  2008-01-08T10:20:00   2847.81   2461.38  2202.7111  1010.4454   \n",
              "3        66  2008-01-08T10:26:00      0.00   2544.52  2202.7111  1010.4454   \n",
              "4        67  2008-01-08T11:28:00   2975.64   2508.28  2202.7111  1010.4454   \n",
              "...     ...                  ...       ...       ...        ...        ...   \n",
              "1529   1468  2008-12-10T02:59:00   2968.78   2451.53  2207.1000  1298.4309   \n",
              "1530   1469  2008-12-10T03:21:00   2898.17   2547.65     0.0000     0.0000   \n",
              "1531   1470  2008-12-10T03:28:00   3045.87   2493.72  2168.5111  1171.6442   \n",
              "1532   1471  2008-12-10T08:19:00   2926.38   2383.76  2207.1000  1298.4309   \n",
              "1533   1472  2008-12-10T18:47:00   3033.46   2424.39  2204.6667  1078.7860   \n",
              "\n",
              "      signal_4  signal_5  signal_6  signal_7  ...  signal_249  signal_250  \\\n",
              "0       1.0997     100.0  103.3222    0.1184  ...         0.0    105.3814   \n",
              "1       1.4503     100.0  102.4622    0.1233  ...         0.0     65.5066   \n",
              "2       1.0032     100.0  104.3067    0.1225  ...         0.0    165.7468   \n",
              "3       1.0032     100.0  104.3067    0.1225  ...         0.0    242.0692   \n",
              "4       1.0032     100.0  104.3067    0.1225  ...         0.0     91.6945   \n",
              "...        ...       ...       ...       ...  ...         ...         ...   \n",
              "1529    1.0251     100.0   96.9478    0.1203  ...         0.0     79.9135   \n",
              "1530    0.0000       0.0    0.0000    0.0000  ...         0.0    101.8488   \n",
              "1531    0.8752     100.0  101.6567    0.1235  ...         0.0    128.3553   \n",
              "1532    1.0251     100.0   96.9478    0.1203  ...         0.0    141.8768   \n",
              "1533    0.9152     100.0  103.9611    0.1196  ...         0.0     59.9680   \n",
              "\n",
              "      signal_251  signal_252  signal_253  signal_254  signal_255  signal_256  \\\n",
              "0         0.0021      4.9963      0.0287      0.0181      0.3517         0.0   \n",
              "1         0.0151      2.6554      0.0572      0.0157      0.3816         0.0   \n",
              "2         0.0016      5.2175      0.0584      0.0045      0.4017         0.0   \n",
              "3         0.0009      2.2402      0.0336      0.0056      0.2833         0.0   \n",
              "4         0.0048      5.5617      0.0642      0.0280      0.3307         0.0   \n",
              "...          ...         ...         ...         ...         ...         ...   \n",
              "1529      0.0012      2.3563      0.0288      0.0307      0.4121         0.0   \n",
              "1530      0.0013      2.5365      0.0358      0.0028      0.4060         0.0   \n",
              "1531      0.0007      1.2240      0.0333      0.0032      0.3634         0.0   \n",
              "1532      0.0017      3.0969      0.0221      0.0263      0.3938         0.0   \n",
              "1533      0.0009      2.4453      0.0348      0.0045      0.4623         0.0   \n",
              "\n",
              "      signal_257  signal_258  \n",
              "0            0.0         0.0  \n",
              "1            0.0         0.0  \n",
              "2            0.0         0.0  \n",
              "3            0.0         0.0  \n",
              "4            0.0         0.0  \n",
              "...          ...         ...  \n",
              "1529         0.0         0.0  \n",
              "1530         0.0         0.0  \n",
              "1531         0.0         0.0  \n",
              "1532         0.0         0.0  \n",
              "1533         0.0         0.0  \n",
              "\n",
              "[1534 rows x 251 columns]"
            ]
          },
          "execution_count": 105,
          "metadata": {},
          "output_type": "execute_result"
        }
      ],
      "source": [
        "sdrni.reset_index()"
      ]
    },
    {
      "cell_type": "code",
      "execution_count": null,
      "metadata": {
        "id": "t71UvOwNHGAz",
        "outputId": "3809c894-ed1e-4a46-c850-91a749cbc99b"
      },
      "outputs": [
        {
          "data": {
            "text/html": [
              "<div>\n",
              "<style scoped>\n",
              "    .dataframe tbody tr th:only-of-type {\n",
              "        vertical-align: middle;\n",
              "    }\n",
              "\n",
              "    .dataframe tbody tr th {\n",
              "        vertical-align: top;\n",
              "    }\n",
              "\n",
              "    .dataframe thead th {\n",
              "        text-align: right;\n",
              "    }\n",
              "</style>\n",
              "<table border=\"1\" class=\"dataframe\">\n",
              "  <thead>\n",
              "    <tr style=\"text-align: right;\">\n",
              "      <th></th>\n",
              "      <th>timestamp</th>\n",
              "      <th>signal_0</th>\n",
              "      <th>signal_1</th>\n",
              "      <th>signal_2</th>\n",
              "      <th>signal_3</th>\n",
              "      <th>signal_4</th>\n",
              "      <th>signal_5</th>\n",
              "      <th>signal_6</th>\n",
              "      <th>signal_7</th>\n",
              "      <th>signal_8</th>\n",
              "      <th>...</th>\n",
              "      <th>signal_249</th>\n",
              "      <th>signal_250</th>\n",
              "      <th>signal_251</th>\n",
              "      <th>signal_252</th>\n",
              "      <th>signal_253</th>\n",
              "      <th>signal_254</th>\n",
              "      <th>signal_255</th>\n",
              "      <th>signal_256</th>\n",
              "      <th>signal_257</th>\n",
              "      <th>signal_258</th>\n",
              "    </tr>\n",
              "  </thead>\n",
              "  <tbody>\n",
              "    <tr>\n",
              "      <th>63</th>\n",
              "      <td>2008-01-08T02:02:00</td>\n",
              "      <td>3016.64</td>\n",
              "      <td>2492.80</td>\n",
              "      <td>2246.4889</td>\n",
              "      <td>1006.9548</td>\n",
              "      <td>1.0997</td>\n",
              "      <td>100.0</td>\n",
              "      <td>103.3222</td>\n",
              "      <td>0.1184</td>\n",
              "      <td>1.5068</td>\n",
              "      <td>...</td>\n",
              "      <td>0.0</td>\n",
              "      <td>105.3814</td>\n",
              "      <td>0.0021</td>\n",
              "      <td>4.9963</td>\n",
              "      <td>0.0287</td>\n",
              "      <td>0.0181</td>\n",
              "      <td>0.3517</td>\n",
              "      <td>0.0</td>\n",
              "      <td>0.0</td>\n",
              "      <td>0.0</td>\n",
              "    </tr>\n",
              "    <tr>\n",
              "      <th>64</th>\n",
              "      <td>2008-01-08T05:52:00</td>\n",
              "      <td>2980.84</td>\n",
              "      <td>2628.76</td>\n",
              "      <td>2187.5222</td>\n",
              "      <td>1268.6598</td>\n",
              "      <td>1.4503</td>\n",
              "      <td>100.0</td>\n",
              "      <td>102.4622</td>\n",
              "      <td>0.1233</td>\n",
              "      <td>1.4672</td>\n",
              "      <td>...</td>\n",
              "      <td>0.0</td>\n",
              "      <td>65.5066</td>\n",
              "      <td>0.0151</td>\n",
              "      <td>2.6554</td>\n",
              "      <td>0.0572</td>\n",
              "      <td>0.0157</td>\n",
              "      <td>0.3816</td>\n",
              "      <td>0.0</td>\n",
              "      <td>0.0</td>\n",
              "      <td>0.0</td>\n",
              "    </tr>\n",
              "  </tbody>\n",
              "</table>\n",
              "<p>2 rows × 250 columns</p>\n",
              "</div>"
            ],
            "text/plain": [
              "              timestamp  signal_0  signal_1   signal_2   signal_3  signal_4  \\\n",
              "63  2008-01-08T02:02:00   3016.64   2492.80  2246.4889  1006.9548    1.0997   \n",
              "64  2008-01-08T05:52:00   2980.84   2628.76  2187.5222  1268.6598    1.4503   \n",
              "\n",
              "    signal_5  signal_6  signal_7  signal_8  ...  signal_249  signal_250  \\\n",
              "63     100.0  103.3222    0.1184    1.5068  ...         0.0    105.3814   \n",
              "64     100.0  102.4622    0.1233    1.4672  ...         0.0     65.5066   \n",
              "\n",
              "    signal_251  signal_252  signal_253  signal_254  signal_255  signal_256  \\\n",
              "63      0.0021      4.9963      0.0287      0.0181      0.3517         0.0   \n",
              "64      0.0151      2.6554      0.0572      0.0157      0.3816         0.0   \n",
              "\n",
              "    signal_257  signal_258  \n",
              "63         0.0         0.0  \n",
              "64         0.0         0.0  \n",
              "\n",
              "[2 rows x 250 columns]"
            ]
          },
          "execution_count": 106,
          "metadata": {},
          "output_type": "execute_result"
        }
      ],
      "source": [
        "sdrni.head(2)"
      ]
    },
    {
      "cell_type": "code",
      "execution_count": null,
      "metadata": {
        "id": "Q0n3E4tKHGAz"
      },
      "outputs": [],
      "source": [
        "#save data"
      ]
    },
    {
      "cell_type": "code",
      "execution_count": null,
      "metadata": {
        "id": "4XKYBkv4HGAz"
      },
      "outputs": [],
      "source": [
        "sdrn.to_csv('secn.csv',index=False)"
      ]
    },
    {
      "cell_type": "code",
      "execution_count": null,
      "metadata": {
        "id": "rc2Wvt1WHGAz"
      },
      "outputs": [],
      "source": [
        "#https://www.kaggle.com/malepatiyogeshkumar/anomalydetection"
      ]
    },
    {
      "cell_type": "code",
      "execution_count": null,
      "metadata": {
        "id": "QyazDqj6HGA0"
      },
      "outputs": [],
      "source": []
    },
    {
      "cell_type": "code",
      "execution_count": null,
      "metadata": {
        "id": "EM3Pi-j8HGA0"
      },
      "outputs": [],
      "source": []
    },
    {
      "cell_type": "code",
      "execution_count": null,
      "metadata": {
        "id": "de72v31THGA0"
      },
      "outputs": [],
      "source": [
        "sc = StandardScaler()\n",
        "x_train_std = sc.fit_transform(x_train)\n",
        "x_test_std = sc.transform(x_test)"
      ]
    },
    {
      "cell_type": "code",
      "execution_count": null,
      "metadata": {
        "id": "fuFwraD2HGA0",
        "outputId": "a09da8f6-2764-4dce-aa6e-0ba904793c91"
      },
      "outputs": [
        {
          "name": "stdout",
          "output_type": "stream",
          "text": [
            "accuracy score 0.851380042462845\n",
            "precision_score 0.11374514755210494\n",
            "recall_score 0.07692307692307693\n",
            "f1_score 0.10256410256410257\n"
          ]
        },
        {
          "name": "stderr",
          "output_type": "stream",
          "text": [
            "/home/datascience/conda/mlcpuv1/lib/python3.6/site-packages/sklearn/linear_model/_logistic.py:764: ConvergenceWarning: lbfgs failed to converge (status=1):\n",
            "STOP: TOTAL NO. of ITERATIONS REACHED LIMIT.\n",
            "\n",
            "Increase the number of iterations (max_iter) or scale the data as shown in:\n",
            "    https://scikit-learn.org/stable/modules/preprocessing.html\n",
            "Please also refer to the documentation for alternative solver options:\n",
            "    https://scikit-learn.org/stable/modules/linear_model.html#logistic-regression\n",
            "  extra_warning_msg=_LOGISTIC_SOLVER_CONVERGENCE_MSG)\n"
          ]
        }
      ],
      "source": [
        "lr = LogisticRegression(C = 1000, penalty = 'l2')\n",
        "lr.fit(x_train_std, y_train)\n",
        "y_pred_lr = lr.predict(x_test_std)\n",
        "print('accuracy score', accuracy_score(y_pred_lr, y_test))\n",
        "cm = confusion_matrix(y_pred_lr, y_test)\n",
        "print('precision_score', average_precision_score(y_pred_lr, y_test))\n",
        "print('recall_score', recall_score(y_pred_lr, y_test))\n",
        "print('f1_score',f1_score(y_pred_lr,y_test))"
      ]
    },
    {
      "cell_type": "code",
      "execution_count": null,
      "metadata": {
        "id": "nplyBb9HHGA0"
      },
      "outputs": [],
      "source": []
    },
    {
      "cell_type": "code",
      "execution_count": null,
      "metadata": {
        "id": "2aSubr7iHGA0",
        "outputId": "c7ade4ee-ee60-412e-eb9c-1b102b0c256e"
      },
      "outputs": [
        {
          "data": {
            "text/plain": [
              "-445"
            ]
          },
          "execution_count": 112,
          "metadata": {},
          "output_type": "execute_result"
        }
      ],
      "source": [
        "y_test[y_test == -1].sum()"
      ]
    },
    {
      "cell_type": "code",
      "execution_count": null,
      "metadata": {
        "id": "LpTg60gzHGA0",
        "outputId": "d8e28604-cbd4-44fa-fd89-6d7e0948c662"
      },
      "outputs": [
        {
          "data": {
            "text/plain": [
              "array([[-0.46001691, -0.38028557, -0.00649851, ..., -0.97860741,\n",
              "        -1.0413699 , -0.73059571],\n",
              "       [-0.40839197,  0.38686836,  0.46932325, ...,  0.07606001,\n",
              "         0.21641601, -0.33128338],\n",
              "       [ 0.10104342,  0.41411054,  0.1145331 , ...,  0.46348886,\n",
              "        -0.0152814 , -0.08398095],\n",
              "       ...,\n",
              "       [ 0.26706322,  0.21715136,  0.0812028 , ..., -0.31136884,\n",
              "        -0.21387917,  1.07646917],\n",
              "       [-0.17521354,  0.59044603, -0.16052805, ...,  0.24825061,\n",
              "         0.18331638,  0.21935864],\n",
              "       [ 0.42563379, -0.77585855,  0.12344719, ...,  0.29129826,\n",
              "         0.18331638, -0.31952785]])"
            ]
          },
          "execution_count": 113,
          "metadata": {},
          "output_type": "execute_result"
        }
      ],
      "source": [
        "x_test_std"
      ]
    },
    {
      "cell_type": "code",
      "execution_count": null,
      "metadata": {
        "id": "nferHtiAHGA0",
        "outputId": "786134b4-03b8-40ab-aa08-5b4abae5b3a8"
      },
      "outputs": [
        {
          "data": {
            "text/plain": [
              "-2.386723934887314"
            ]
          },
          "execution_count": 114,
          "metadata": {},
          "output_type": "execute_result"
        }
      ],
      "source": [
        "min(x_test_std[1])"
      ]
    },
    {
      "cell_type": "code",
      "execution_count": null,
      "metadata": {
        "id": "Dr3huq7JHGA1",
        "outputId": "15bdf83f-b003-4e88-cd81-a555399a846b"
      },
      "outputs": [
        {
          "name": "stdout",
          "output_type": "stream",
          "text": [
            "accuracy score 0.055201698513800426\n",
            "precision_score 1.0\n",
            "recall_score 0.055201698513800426\n",
            "f1_score 0.10462776659959759\n"
          ]
        }
      ],
      "source": [
        "isolation = IsolationForest()\n",
        "isolation.fit(x_train_std, y_train)\n",
        "y_pred_iso = isolation.predict(x_test_std)\n",
        "print('accuracy score', accuracy_score(y_pred_iso, y_test))\n",
        "cmiso = confusion_matrix(y_pred_iso, y_test)\n",
        "print('precision_score', average_precision_score(y_pred_iso, y_test))\n",
        "print('recall_score', recall_score(y_pred_iso, y_test))\n",
        "print('f1_score',f1_score(y_pred_iso,y_test))"
      ]
    },
    {
      "cell_type": "code",
      "execution_count": null,
      "metadata": {
        "id": "eSWg8AaBHGA1"
      },
      "outputs": [],
      "source": [
        "tn, fp, fn, tp = cmiso.ravel()"
      ]
    },
    {
      "cell_type": "code",
      "execution_count": null,
      "metadata": {
        "id": "U0EkEINqHGA1",
        "outputId": "4120319a-da2b-4df1-ca9c-fbd1b5f8d295"
      },
      "outputs": [
        {
          "data": {
            "text/plain": [
              "26"
            ]
          },
          "execution_count": 121,
          "metadata": {},
          "output_type": "execute_result"
        }
      ],
      "source": [
        "tp"
      ]
    },
    {
      "cell_type": "code",
      "execution_count": null,
      "metadata": {
        "id": "3LOq-dWaHGA1",
        "outputId": "9191c801-cb69-4fa2-b15c-4a73f70da7b7"
      },
      "outputs": [
        {
          "data": {
            "text/plain": [
              "array([[  0,   0],\n",
              "       [445,  26]])"
            ]
          },
          "execution_count": 43,
          "metadata": {},
          "output_type": "execute_result"
        }
      ],
      "source": [
        "cmiso"
      ]
    },
    {
      "cell_type": "code",
      "execution_count": null,
      "metadata": {
        "id": "9nLKzLetHGA1",
        "outputId": "c2781c2a-8d62-4281-c7f1-8ad8d88b953c"
      },
      "outputs": [
        {
          "name": "stdout",
          "output_type": "stream",
          "text": [
            "1.0\n"
          ]
        }
      ],
      "source": [
        "print(cmiso[1][1]/ (cmiso[1][1] + cmiso[0][1]))"
      ]
    },
    {
      "cell_type": "code",
      "execution_count": null,
      "metadata": {
        "id": "ADee8baRHGA1",
        "outputId": "672b35d1-42e3-44f4-9009-404f23db1fb9"
      },
      "outputs": [
        {
          "name": "stdout",
          "output_type": "stream",
          "text": [
            "accuracy score 0.9447983014861996\n",
            "confusion_matrix [[445  26]\n",
            " [  0   0]]\n",
            "precision_score nan\n"
          ]
        },
        {
          "name": "stderr",
          "output_type": "stream",
          "text": [
            "/home/datascience/conda/mlcpuv1/lib/python3.6/site-packages/sklearn/metrics/_ranking.py:681: RuntimeWarning: invalid value encountered in true_divide\n",
            "  recall = tps / tps[-1]\n"
          ]
        }
      ],
      "source": [
        "forest = RandomForestClassifier()\n",
        "forest.fit(x_train_std, y_train)\n",
        "y_pred_rf = forest.predict(x_test_std)\n",
        "print('accuracy score', accuracy_score(y_pred_rf, y_test))\n",
        "print('confusion_matrix', confusion_matrix(y_pred_rf, y_test))\n",
        "print('precision_score', average_precision_score(y_pred_rf, y_test))"
      ]
    },
    {
      "cell_type": "code",
      "execution_count": null,
      "metadata": {
        "id": "cGPAIP9GHGA2",
        "outputId": "6e07202c-6901-446f-ab58-be1553ff87ae"
      },
      "outputs": [
        {
          "data": {
            "text/plain": [
              "26"
            ]
          },
          "execution_count": 46,
          "metadata": {},
          "output_type": "execute_result"
        }
      ],
      "source": [
        "y_test[y_test == 1].sum()"
      ]
    },
    {
      "cell_type": "code",
      "execution_count": null,
      "metadata": {
        "id": "4shE-PLHHGA2",
        "outputId": "274a5f4f-a20c-4d4c-983e-bb361d2049e6"
      },
      "outputs": [
        {
          "name": "stdout",
          "output_type": "stream",
          "text": [
            "accuracy score 0.8768577494692145\n",
            "confusion_matrix [[405  18]\n",
            " [ 40   8]]\n",
            "precision_score 0.13620774130328273\n"
          ]
        }
      ],
      "source": [
        "xgb1 = xgb.XGBClassifier(objective = 'binary:logistic', booster = 'gblinear')\n",
        "xgb1.fit(x_train_std, y_train)\n",
        "y_pred_xgb = xgb1.predict(x_test_std)\n",
        "print('accuracy score', accuracy_score(y_pred_xgb, y_test))\n",
        "print('confusion_matrix', confusion_matrix(y_pred_xgb, y_test))\n",
        "print('precision_score', average_precision_score(y_pred_xgb, y_test))\n"
      ]
    },
    {
      "cell_type": "code",
      "execution_count": null,
      "metadata": {
        "id": "DHILwiGdHGA2",
        "outputId": "17b06c4d-9981-45df-ccdd-c8bef4248a57"
      },
      "outputs": [
        {
          "name": "stdout",
          "output_type": "stream",
          "text": [
            "accuracy score 0.8598726114649682\n",
            "confusion_matrix [[401  22]\n",
            " [ 44   4]]\n",
            "precision_score 0.10623877184386739\n"
          ]
        },
        {
          "name": "stderr",
          "output_type": "stream",
          "text": [
            "/home/datascience/conda/mlcpuv1/lib/python3.6/site-packages/sklearn/linear_model/_logistic.py:764: ConvergenceWarning: lbfgs failed to converge (status=1):\n",
            "STOP: TOTAL NO. of ITERATIONS REACHED LIMIT.\n",
            "\n",
            "Increase the number of iterations (max_iter) or scale the data as shown in:\n",
            "    https://scikit-learn.org/stable/modules/preprocessing.html\n",
            "Please also refer to the documentation for alternative solver options:\n",
            "    https://scikit-learn.org/stable/modules/linear_model.html#logistic-regression\n",
            "  extra_warning_msg=_LOGISTIC_SOLVER_CONVERGENCE_MSG)\n"
          ]
        }
      ],
      "source": [
        "from sklearn.model_selection import GridSearchCV\n",
        "param_grid = {\n",
        "    'C':[5, 10, 250, 100, 500],\n",
        "    'penalty':['l1', 'l2']\n",
        "}\n",
        "gslr = GridSearchCV(estimator = lr, param_grid = param_grid, n_jobs = -1, cv = 10)\n",
        "gslr.fit(x_train_std, y_train)\n",
        "y_pred_gslr = gslr.predict(x_test_std)\n",
        "print('accuracy score', accuracy_score(y_pred_gslr, y_test))\n",
        "print('confusion_matrix', confusion_matrix(y_pred_gslr, y_test))\n",
        "print('precision_score', average_precision_score(y_pred_gslr, y_test))"
      ]
    },
    {
      "cell_type": "code",
      "execution_count": null,
      "metadata": {
        "id": "Ma3KEz1BHGA2",
        "outputId": "2465801a-8cb4-4314-a9df-a62c66206e44"
      },
      "outputs": [
        {
          "name": "stdout",
          "output_type": "stream",
          "text": [
            "confusion_matrix [[401  22]\n",
            " [ 44   4]]\n"
          ]
        }
      ],
      "source": [
        "print('confusion_matrix', confusion_matrix(y_pred_gslr, y_test))"
      ]
    },
    {
      "cell_type": "code",
      "execution_count": null,
      "metadata": {
        "id": "m8o2vynsHGA2",
        "outputId": "fa7296ca-45de-4738-db13-26efede96b32"
      },
      "outputs": [
        {
          "name": "stdout",
          "output_type": "stream",
          "text": [
            "accuracy score 0.9447983014861996\n",
            "confusion_matrix [[445  26]\n",
            " [  0   0]]\n",
            "precision_score nan\n"
          ]
        },
        {
          "name": "stderr",
          "output_type": "stream",
          "text": [
            "/home/datascience/conda/mlcpuv1/lib/python3.6/site-packages/sklearn/metrics/_ranking.py:681: RuntimeWarning: invalid value encountered in true_divide\n",
            "  recall = tps / tps[-1]\n"
          ]
        }
      ],
      "source": [
        "parameters = { 'max_features':np.arange(5,10),'n_estimators':[500],'min_samples_leaf': [10,50,100,200,500]}\n",
        "\n",
        "random_grid = GridSearchCV(forest, parameters, cv = 5)\n",
        "random_grid.fit(x_train_std, y_train)\n",
        "y_pred_gslr = random_grid.predict(x_test_std)\n",
        "print('accuracy score', accuracy_score(y_pred_gslr, y_test))\n",
        "print('confusion_matrix', confusion_matrix(y_pred_gslr, y_test))\n",
        "print('precision_score', average_precision_score(y_pred_gslr, y_test))\n"
      ]
    },
    {
      "cell_type": "code",
      "execution_count": null,
      "metadata": {
        "id": "Ti0RE_h7HGA2",
        "outputId": "bdb20bc5-9ac2-4c78-fc85-400eb15617cc"
      },
      "outputs": [
        {
          "name": "stdout",
          "output_type": "stream",
          "text": [
            "accuracy score 0.8832271762208068\n",
            "confusion_matrix [[411  21]\n",
            " [ 34   5]]\n",
            "precision_score 0.09684166886518675\n",
            "recall_score 0.1282051282051282\n",
            "f1_score 0.15384615384615385\n"
          ]
        }
      ],
      "source": [
        "from sklearn.discriminant_analysis import LinearDiscriminantAnalysis\n",
        "lda = LinearDiscriminantAnalysis()\n",
        "lda.fit(x_train_std, y_train)\n",
        "y_pred_lda = lda.predict(x_test_std)\n",
        "print('accuracy score', accuracy_score(y_pred_lda, y_test))\n",
        "print('confusion_matrix', confusion_matrix(y_pred_lda, y_test))\n",
        "print('precision_score', average_precision_score(y_pred_lda, y_test))\n",
        "print('recall_score', recall_score(y_pred_lda, y_test))\n",
        "print('f1_score',f1_score(y_pred_lda,y_test))"
      ]
    },
    {
      "cell_type": "code",
      "execution_count": null,
      "metadata": {
        "id": "lRVdIeIZHGA3"
      },
      "outputs": [],
      "source": []
    },
    {
      "cell_type": "code",
      "execution_count": null,
      "metadata": {
        "id": "OeSC0FJHHGA3"
      },
      "outputs": [],
      "source": []
    }
  ],
  "metadata": {
    "kernelspec": {
      "display_name": "Python [conda env:mlcpuv1]",
      "language": "python",
      "name": "conda-env-mlcpuv1-py"
    },
    "language_info": {
      "codemirror_mode": {
        "name": "ipython",
        "version": 3
      },
      "file_extension": ".py",
      "mimetype": "text/x-python",
      "name": "python",
      "nbconvert_exporter": "python",
      "pygments_lexer": "ipython3",
      "version": "3.6.11"
    },
    "colab": {
      "provenance": []
    }
  },
  "nbformat": 4,
  "nbformat_minor": 0
}