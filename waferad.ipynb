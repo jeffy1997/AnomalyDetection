{
  "cells": [
    {
      "cell_type": "code",
      "execution_count": null,
      "metadata": {
        "_cell_guid": "b1076dfc-b9ad-4769-8c92-a6c4dae69d19",
        "_uuid": "8f2839f25d086af736a60e9eeb907d3b93b6e0e5",
        "id": "sMdH-FHwHYK4"
      },
      "outputs": [],
      "source": [
        "#reference:https://www.kaggle.com/arbazkhan971/anomaly-detection"
      ]
    },
    {
      "cell_type": "code",
      "execution_count": null,
      "metadata": {
        "id": "EzfTPrcqHYK7"
      },
      "outputs": [],
      "source": [
        "import numpy as np # linear algebra\n",
        "import pandas as pd # data processing, CSV file I/O (e.g. pd.read_csv)\n",
        "\n",
        "import os\n",
        "for dirname, _, filenames in os.walk('/kaggle/input'):\n",
        "    for filename in filenames:\n",
        "        print(os.path.join(dirname, filename))\n",
        "\n",
        "import matplotlib.pyplot as plt\n",
        "%matplotlib inline\n",
        "from mpl_toolkits.mplot3d import Axes3D\n",
        "import seaborn as sns\n",
        "\n",
        "from sklearn.metrics import roc_auc_score\n",
        "\n",
        "from imblearn.over_sampling import SMOTE\n",
        "from sklearn.model_selection import train_test_split\n",
        "\n",
        "from sklearn.decomposition import PCA\n",
        "from sklearn.manifold import TSNE"
      ]
    },
    {
      "cell_type": "code",
      "execution_count": null,
      "metadata": {
        "id": "0S6CDoCOHYK8",
        "outputId": "00054a7e-9fab-4c90-e444-5e5417007ead"
      },
      "outputs": [
        {
          "data": {
            "text/html": [
              "<div>\n",
              "<style scoped>\n",
              "    .dataframe tbody tr th:only-of-type {\n",
              "        vertical-align: middle;\n",
              "    }\n",
              "\n",
              "    .dataframe tbody tr th {\n",
              "        vertical-align: top;\n",
              "    }\n",
              "\n",
              "    .dataframe thead th {\n",
              "        text-align: right;\n",
              "    }\n",
              "</style>\n",
              "<table border=\"1\" class=\"dataframe\">\n",
              "  <thead>\n",
              "    <tr style=\"text-align: right;\">\n",
              "      <th></th>\n",
              "      <th>feature_421</th>\n",
              "      <th>feature_422</th>\n",
              "      <th>feature_423</th>\n",
              "      <th>feature_424</th>\n",
              "      <th>feature_425</th>\n",
              "      <th>feature_426</th>\n",
              "      <th>feature_427</th>\n",
              "      <th>feature_428</th>\n",
              "      <th>feature_429</th>\n",
              "      <th>feature_430</th>\n",
              "      <th>feature_431</th>\n",
              "      <th>feature_432</th>\n",
              "      <th>feature_433</th>\n",
              "      <th>feature_434</th>\n",
              "      <th>feature_435</th>\n",
              "    </tr>\n",
              "  </thead>\n",
              "  <tbody>\n",
              "    <tr>\n",
              "      <th>0</th>\n",
              "      <td>0</td>\n",
              "      <td>0</td>\n",
              "      <td>0</td>\n",
              "      <td>0</td>\n",
              "      <td>0</td>\n",
              "      <td>0</td>\n",
              "      <td>0</td>\n",
              "      <td>0</td>\n",
              "      <td>0</td>\n",
              "      <td>0</td>\n",
              "      <td>0</td>\n",
              "      <td>0</td>\n",
              "      <td>0</td>\n",
              "      <td>0</td>\n",
              "      <td>0</td>\n",
              "    </tr>\n",
              "    <tr>\n",
              "      <th>1</th>\n",
              "      <td>0</td>\n",
              "      <td>0</td>\n",
              "      <td>0</td>\n",
              "      <td>0</td>\n",
              "      <td>0</td>\n",
              "      <td>0</td>\n",
              "      <td>0</td>\n",
              "      <td>0</td>\n",
              "      <td>0</td>\n",
              "      <td>0</td>\n",
              "      <td>0</td>\n",
              "      <td>0</td>\n",
              "      <td>0</td>\n",
              "      <td>0</td>\n",
              "      <td>0</td>\n",
              "    </tr>\n",
              "  </tbody>\n",
              "</table>\n",
              "</div>"
            ],
            "text/plain": [
              "   feature_421  feature_422  feature_423  feature_424  feature_425  \\\n",
              "0            0            0            0            0            0   \n",
              "1            0            0            0            0            0   \n",
              "\n",
              "   feature_426  feature_427  feature_428  feature_429  feature_430  \\\n",
              "0            0            0            0            0            0   \n",
              "1            0            0            0            0            0   \n",
              "\n",
              "   feature_431  feature_432  feature_433  feature_434  feature_435  \n",
              "0            0            0            0            0            0  \n",
              "1            0            0            0            0            0  "
            ]
          },
          "execution_count": 286,
          "metadata": {},
          "output_type": "execute_result"
        }
      ],
      "source": [
        "gtrain = pd.read_csv('wdata/Train.csv')\n",
        "gtrain.iloc[0:2,420:435]"
      ]
    },
    {
      "cell_type": "code",
      "execution_count": null,
      "metadata": {
        "_cell_guid": "79c7e3d0-c299-4dcb-8224-4455121ee9b0",
        "_uuid": "d629ff2d2480ee46fbb7e2d37f6b5fab8052498a",
        "id": "QjktBNB8HYLB",
        "outputId": "e5315d7b-688d-4393-c420-2acb698ee42b"
      },
      "outputs": [
        {
          "data": {
            "text/html": [
              "<div>\n",
              "<style scoped>\n",
              "    .dataframe tbody tr th:only-of-type {\n",
              "        vertical-align: middle;\n",
              "    }\n",
              "\n",
              "    .dataframe tbody tr th {\n",
              "        vertical-align: top;\n",
              "    }\n",
              "\n",
              "    .dataframe thead th {\n",
              "        text-align: right;\n",
              "    }\n",
              "</style>\n",
              "<table border=\"1\" class=\"dataframe\">\n",
              "  <thead>\n",
              "    <tr style=\"text-align: right;\">\n",
              "      <th></th>\n",
              "      <th>feature_1</th>\n",
              "      <th>feature_2</th>\n",
              "      <th>feature_3</th>\n",
              "      <th>Class</th>\n",
              "    </tr>\n",
              "  </thead>\n",
              "  <tbody>\n",
              "    <tr>\n",
              "      <th>0</th>\n",
              "      <td>100</td>\n",
              "      <td>160</td>\n",
              "      <td>1.6000</td>\n",
              "      <td>0</td>\n",
              "    </tr>\n",
              "    <tr>\n",
              "      <th>1</th>\n",
              "      <td>20</td>\n",
              "      <td>83</td>\n",
              "      <td>4.1500</td>\n",
              "      <td>0</td>\n",
              "    </tr>\n",
              "    <tr>\n",
              "      <th>2</th>\n",
              "      <td>99</td>\n",
              "      <td>150</td>\n",
              "      <td>1.5151</td>\n",
              "      <td>0</td>\n",
              "    </tr>\n",
              "    <tr>\n",
              "      <th>3</th>\n",
              "      <td>40</td>\n",
              "      <td>40</td>\n",
              "      <td>1.0000</td>\n",
              "      <td>0</td>\n",
              "    </tr>\n",
              "    <tr>\n",
              "      <th>4</th>\n",
              "      <td>12</td>\n",
              "      <td>234</td>\n",
              "      <td>19.5000</td>\n",
              "      <td>0</td>\n",
              "    </tr>\n",
              "  </tbody>\n",
              "</table>\n",
              "</div>"
            ],
            "text/plain": [
              "   feature_1  feature_2  feature_3  Class\n",
              "0        100        160     1.6000      0\n",
              "1         20         83     4.1500      0\n",
              "2         99        150     1.5151      0\n",
              "3         40         40     1.0000      0\n",
              "4         12        234    19.5000      0"
            ]
          },
          "execution_count": 83,
          "metadata": {},
          "output_type": "execute_result"
        }
      ],
      "source": [
        "train = pd.read_csv('wdata/wn3train.csv')\n",
        "train.head()"
      ]
    },
    {
      "cell_type": "code",
      "execution_count": null,
      "metadata": {
        "id": "A5IvkZzrHYLC",
        "outputId": "dfe5d3fa-66ca-4ee4-8ea1-30f82e5ec596"
      },
      "outputs": [
        {
          "data": {
            "text/html": [
              "<div>\n",
              "<style scoped>\n",
              "    .dataframe tbody tr th:only-of-type {\n",
              "        vertical-align: middle;\n",
              "    }\n",
              "\n",
              "    .dataframe tbody tr th {\n",
              "        vertical-align: top;\n",
              "    }\n",
              "\n",
              "    .dataframe thead th {\n",
              "        text-align: right;\n",
              "    }\n",
              "</style>\n",
              "<table border=\"1\" class=\"dataframe\">\n",
              "  <thead>\n",
              "    <tr style=\"text-align: right;\">\n",
              "      <th></th>\n",
              "      <th>feature_1</th>\n",
              "      <th>feature_2</th>\n",
              "      <th>feature_3</th>\n",
              "    </tr>\n",
              "  </thead>\n",
              "  <tbody>\n",
              "    <tr>\n",
              "      <th>0</th>\n",
              "      <td>1</td>\n",
              "      <td>1</td>\n",
              "      <td>2.0000</td>\n",
              "    </tr>\n",
              "    <tr>\n",
              "      <th>1</th>\n",
              "      <td>46</td>\n",
              "      <td>96</td>\n",
              "      <td>2.0869</td>\n",
              "    </tr>\n",
              "  </tbody>\n",
              "</table>\n",
              "</div>"
            ],
            "text/plain": [
              "   feature_1  feature_2  feature_3\n",
              "0          1          1     2.0000\n",
              "1         46         96     2.0869"
            ]
          },
          "execution_count": 84,
          "metadata": {},
          "output_type": "execute_result"
        }
      ],
      "source": [
        "test = pd.read_csv(\"wdata/wn3test.csv\")\n",
        "test.head(2)"
      ]
    },
    {
      "cell_type": "code",
      "execution_count": null,
      "metadata": {
        "id": "6z-1iNGeHYLC",
        "outputId": "ebfff44a-9f5c-4b26-9895-f1dd1aca66c5"
      },
      "outputs": [
        {
          "data": {
            "text/plain": [
              "0    1620\n",
              "1     143\n",
              "Name: Class, dtype: int64"
            ]
          },
          "execution_count": 85,
          "metadata": {},
          "output_type": "execute_result"
        }
      ],
      "source": [
        "train[\"Class\"].value_counts()"
      ]
    },
    {
      "cell_type": "code",
      "execution_count": null,
      "metadata": {
        "id": "2u4xhSYjHYLC",
        "outputId": "58363003-4058-4d5e-c4fd-603b9a0e8086"
      },
      "outputs": [
        {
          "data": {
            "text/plain": [
              "(array([1620.,    0.,    0.,    0.,    0.,    0.,    0.,    0.,    0.,\n",
              "         143.]),\n",
              " array([0. , 0.1, 0.2, 0.3, 0.4, 0.5, 0.6, 0.7, 0.8, 0.9, 1. ]),\n",
              " <a list of 10 Patch objects>)"
            ]
          },
          "execution_count": 86,
          "metadata": {},
          "output_type": "execute_result"
        },
        {
          "data": {
            "image/png": "[encoded data removed]",
            "text/plain": [
              "<Figure size 432x288 with 1 Axes>"
            ]
          },
          "metadata": {
            "needs_background": "light"
          },
          "output_type": "display_data"
        }
      ],
      "source": [
        "plt.hist(train[\"Class\"])"
      ]
    },
    {
      "cell_type": "code",
      "execution_count": null,
      "metadata": {
        "id": "dtaD3-9JHYLC",
        "outputId": "e441902d-cd9f-4347-f8f1-659c9cd47403"
      },
      "outputs": [
        {
          "data": {
            "image/png": "[encoded data removed]",
            "text/plain": [
              "<Figure size 432x288 with 1 Axes>"
            ]
          },
          "metadata": {
            "needs_background": "light"
          },
          "output_type": "display_data"
        },
        {
          "data": {
            "image/png": "[encoded data removed]",
            "text/plain": [
              "<Figure size 432x288 with 1 Axes>"
            ]
          },
          "metadata": {
            "needs_background": "light"
          },
          "output_type": "display_data"
        },
        {
          "data": {
            "image/png": "[encoded data removed]",
            "text/plain": [
              "<Figure size 432x288 with 1 Axes>"
            ]
          },
          "metadata": {
            "needs_background": "light"
          },
          "output_type": "display_data"
        }
      ],
      "source": [
        "for i in train.columns[:3]:\n",
        "    plt.hist(train[i])\n",
        "    plt.title(i)\n",
        "    plt.show()"
      ]
    },
    {
      "cell_type": "markdown",
      "metadata": {
        "id": "-Kg3tm9JHYLD"
      },
      "source": [
        "# Resampling the Data\n",
        "\n",
        "Here we will first remove a test set from our original Dataset and then  resample our train dataset using SMOTE. This will give us a Datset which is untouched and on which we can test our final model. We will also create a validation dataset from our training to use cross validation techniques."
      ]
    },
    {
      "cell_type": "code",
      "execution_count": null,
      "metadata": {
        "id": "wewEYxFjHYLD"
      },
      "outputs": [],
      "source": [
        "Sm = SMOTE()\n",
        "X = train.drop(\"Class\", axis = 1)\n",
        "y = train[\"Class\"]"
      ]
    },
    {
      "cell_type": "markdown",
      "metadata": {
        "id": "_R3exUaHHYLD"
      },
      "source": [
        "Splitting the original Dataset to create a Test set"
      ]
    },
    {
      "cell_type": "code",
      "execution_count": null,
      "metadata": {
        "id": "UcZN0WjfHYLD",
        "outputId": "ed83b95f-56cd-46ac-9682-f105cddff0db"
      },
      "outputs": [
        {
          "data": {
            "text/plain": [
              "((1586, 3), (177, 3), (1586,), (177,))"
            ]
          },
          "execution_count": 89,
          "metadata": {},
          "output_type": "execute_result"
        }
      ],
      "source": [
        "X_train, X_valid, y_train, y_valid = train_test_split(X, y, test_size = 0.1, stratify = y)\n",
        "X_train.shape, X_valid.shape, y_train.shape, y_valid.shape"
      ]
    },
    {
      "cell_type": "markdown",
      "metadata": {
        "id": "MOGvVqvKHYLE"
      },
      "source": [
        "Resampling the Training Dataset (oversampling is used) to create a balance in the train set."
      ]
    },
    {
      "cell_type": "code",
      "execution_count": null,
      "metadata": {
        "id": "IfP3HFrlHYLE",
        "outputId": "73864d69-35ce-44a6-e097-f343570e71e2"
      },
      "outputs": [
        {
          "data": {
            "text/plain": [
              "((2914, 3),\n",
              " (2914,),\n",
              " 1    1457\n",
              " 0    1457\n",
              " Name: Class, dtype: int64)"
            ]
          },
          "execution_count": 90,
          "metadata": {},
          "output_type": "execute_result"
        }
      ],
      "source": [
        "x_train, y_train = Sm.fit_resample(X_train, y_train)\n",
        "x_train.shape, y_train.shape, y_train.value_counts()"
      ]
    },
    {
      "cell_type": "code",
      "execution_count": null,
      "metadata": {
        "id": "_mOWvHBFHYLE"
      },
      "outputs": [],
      "source": [
        "x_train_re, x_valid_re, y_train_re, y_valid_re = train_test_split(x_train, y_train, test_size = 0.1, stratify = y_train)"
      ]
    },
    {
      "cell_type": "code",
      "execution_count": null,
      "metadata": {
        "id": "R6PQn6MsHYLE"
      },
      "outputs": [],
      "source": [
        "#pip install catboost"
      ]
    },
    {
      "cell_type": "markdown",
      "metadata": {
        "id": "Zt2kFT-GHYLE"
      },
      "source": [
        "Training a simple Classifier using Random Forest and Catboost"
      ]
    },
    {
      "cell_type": "code",
      "execution_count": null,
      "metadata": {
        "id": "QAL9_mB7HYLE"
      },
      "outputs": [],
      "source": [
        "from sklearn.ensemble import RandomForestClassifier\n",
        "import catboost\n",
        "from sklearn.metrics import auc, roc_curve"
      ]
    },
    {
      "cell_type": "code",
      "execution_count": null,
      "metadata": {
        "id": "nFGbgowmHYLF"
      },
      "outputs": [],
      "source": [
        "def metric(preds, target):\n",
        "    fpr, tpr, thresholds = roc_curve(target, preds)\n",
        "    return auc(fpr, tpr)"
      ]
    },
    {
      "cell_type": "code",
      "execution_count": null,
      "metadata": {
        "id": "3oCNklIAHYLF"
      },
      "outputs": [],
      "source": [
        "def fprm(preds, target):\n",
        "    fpr, tpr, thresholds = roc_curve(target, preds)\n",
        "    return fpr"
      ]
    },
    {
      "cell_type": "code",
      "execution_count": null,
      "metadata": {
        "id": "HZnPiDiFHYLF",
        "outputId": "9051d893-a89e-4800-8021-00284fe19a64"
      },
      "outputs": [
        {
          "name": "stdout",
          "output_type": "stream",
          "text": [
            "0.8253424657534247\n",
            "False Positivity Rate is\n"
          ]
        },
        {
          "data": {
            "text/plain": [
              "array([0.        , 0.10958904, 1.        ])"
            ]
          },
          "execution_count": 96,
          "metadata": {},
          "output_type": "execute_result"
        }
      ],
      "source": [
        "Rf = RandomForestClassifier()\n",
        "model_Rf = Rf.fit(x_train_re, y_train_re)\n",
        "preds = model_Rf.predict(x_valid_re)\n",
        "print(metric(preds, y_valid_re))\n",
        "#fprmz=fprm(preds,x_valid_re)\n",
        "print('False Positivity Rate is')\n",
        "fprm(preds, y_valid_re)"
      ]
    },
    {
      "cell_type": "code",
      "execution_count": null,
      "metadata": {
        "id": "ucpDySkjHYLF",
        "outputId": "e97e58e6-620d-437d-a530-b5ac4752861f"
      },
      "outputs": [
        {
          "data": {
            "text/plain": [
              "292"
            ]
          },
          "execution_count": 97,
          "metadata": {},
          "output_type": "execute_result"
        }
      ],
      "source": [
        "len(preds)"
      ]
    },
    {
      "cell_type": "code",
      "execution_count": null,
      "metadata": {
        "id": "O4r07CqkHYLF"
      },
      "outputs": [],
      "source": [
        "train_cy = train.copy()"
      ]
    },
    {
      "cell_type": "code",
      "execution_count": null,
      "metadata": {
        "id": "kGmhceWcHYLF"
      },
      "outputs": [],
      "source": [
        "rndpermc = np.random.permutation(train_cy.shape[0])"
      ]
    },
    {
      "cell_type": "code",
      "execution_count": null,
      "metadata": {
        "id": "enUtGSfXHYLG",
        "outputId": "5fad9611-de2f-4294-c193-503da2f88518"
      },
      "outputs": [
        {
          "data": {
            "text/plain": [
              "<matplotlib.axes._subplots.AxesSubplot at 0x7f72a5751438>"
            ]
          },
          "execution_count": 100,
          "metadata": {},
          "output_type": "execute_result"
        },
        {
          "data": {
            "image/png": "[encoded data removed]",
            "text/plain": [
              "<Figure size 720x576 with 1 Axes>"
            ]
          },
          "metadata": {
            "needs_background": "light"
          },
          "output_type": "display_data"
        }
      ],
      "source": [
        "plt.figure(figsize=(10,8))\n",
        "sns.scatterplot(\n",
        "    x=\"feature_1\", y=\"feature_2\",\n",
        "    hue=\"Class\",\n",
        "    palette=sns.color_palette(\"hls\", 2),\n",
        "    data= train_cy.loc[rndpermc,:],\n",
        "    legend=\"full\",\n",
        "    alpha=0.3\n",
        ")"
      ]
    },
    {
      "cell_type": "code",
      "execution_count": null,
      "metadata": {
        "id": "4lwW3JMrHYLG",
        "outputId": "7f6dcf2f-4e56-430c-e5ef-c0c5b14be667"
      },
      "outputs": [
        {
          "data": {
            "image/png": "[encoded data removed]",
            "text/plain": [
              "<Figure size 720x576 with 1 Axes>"
            ]
          },
          "metadata": {
            "needs_background": "light"
          },
          "output_type": "display_data"
        }
      ],
      "source": [
        "ax = plt.figure(figsize=(10,8)).gca(projection='3d')\n",
        "ax.scatter(\n",
        "    xs=train_cy.loc[rndpermc,:][\"feature_1\"], \n",
        "    ys=train_cy.loc[rndpermc,:][\"feature_2\"], \n",
        "    zs=train_cy.loc[rndpermc,:][\"feature_3\"], \n",
        "    c=train_cy.loc[rndpermc,:][\"Class\"], \n",
        "    cmap='tab10'\n",
        ")\n",
        "ax.set_xlabel('feature-one')\n",
        "ax.set_ylabel('feature-two')\n",
        "ax.set_zlabel('feature-three')\n",
        "plt.show()"
      ]
    },
    {
      "cell_type": "code",
      "execution_count": null,
      "metadata": {
        "id": "LQ_FD7NBHYLG"
      },
      "outputs": [],
      "source": []
    },
    {
      "cell_type": "code",
      "execution_count": null,
      "metadata": {
        "id": "1_iRKrdhHYLG"
      },
      "outputs": [],
      "source": []
    },
    {
      "cell_type": "markdown",
      "metadata": {
        "id": "sXiLPm-NHYLG"
      },
      "source": [
        "# Normal Approach"
      ]
    },
    {
      "cell_type": "code",
      "execution_count": null,
      "metadata": {
        "id": "eWY1lKKQHYLG",
        "outputId": "5de32f91-939a-4465-bc16-8c0a0a7bbdef"
      },
      "outputs": [
        {
          "data": {
            "text/html": [
              "<div>\n",
              "<style scoped>\n",
              "    .dataframe tbody tr th:only-of-type {\n",
              "        vertical-align: middle;\n",
              "    }\n",
              "\n",
              "    .dataframe tbody tr th {\n",
              "        vertical-align: top;\n",
              "    }\n",
              "\n",
              "    .dataframe thead th {\n",
              "        text-align: right;\n",
              "    }\n",
              "</style>\n",
              "<table border=\"1\" class=\"dataframe\">\n",
              "  <thead>\n",
              "    <tr style=\"text-align: right;\">\n",
              "      <th></th>\n",
              "      <th>feature_1</th>\n",
              "      <th>feature_2</th>\n",
              "      <th>feature_3</th>\n",
              "      <th>Class</th>\n",
              "    </tr>\n",
              "  </thead>\n",
              "  <tbody>\n",
              "    <tr>\n",
              "      <th>0</th>\n",
              "      <td>100</td>\n",
              "      <td>160</td>\n",
              "      <td>1.60</td>\n",
              "      <td>0</td>\n",
              "    </tr>\n",
              "    <tr>\n",
              "      <th>1</th>\n",
              "      <td>20</td>\n",
              "      <td>83</td>\n",
              "      <td>4.15</td>\n",
              "      <td>0</td>\n",
              "    </tr>\n",
              "  </tbody>\n",
              "</table>\n",
              "</div>"
            ],
            "text/plain": [
              "   feature_1  feature_2  feature_3  Class\n",
              "0        100        160       1.60      0\n",
              "1         20         83       4.15      0"
            ]
          },
          "execution_count": 102,
          "metadata": {},
          "output_type": "execute_result"
        }
      ],
      "source": [
        "train = pd.read_csv('wdata/wn3train.csv')\n",
        "train.head(2)"
      ]
    },
    {
      "cell_type": "markdown",
      "metadata": {
        "id": "alH0QJEjHYLG"
      },
      "source": [
        "lets check if there are any duplicate columns present in the Dataset"
      ]
    },
    {
      "cell_type": "code",
      "execution_count": null,
      "metadata": {
        "id": "vWEHCDdtHYLH"
      },
      "outputs": [],
      "source": [
        "train = train.T.drop_duplicates().T"
      ]
    },
    {
      "cell_type": "code",
      "execution_count": null,
      "metadata": {
        "id": "WddZU-5wHYLH",
        "outputId": "d1c1bf79-b3dd-46f0-f83d-0a3f041b2547"
      },
      "outputs": [
        {
          "data": {
            "text/plain": [
              "(1763, 4)"
            ]
          },
          "execution_count": 104,
          "metadata": {},
          "output_type": "execute_result"
        }
      ],
      "source": [
        "train.shape"
      ]
    },
    {
      "cell_type": "markdown",
      "metadata": {
        "id": "HDhnQCgqHYLH"
      },
      "source": [
        "Lets check if the number of unique values in the dataset is only 1 and if that is the case just delete it."
      ]
    },
    {
      "cell_type": "code",
      "execution_count": null,
      "metadata": {
        "id": "CfkiHzxHHYLH",
        "outputId": "bf888a71-973f-468b-b920-c7a2cfa49995"
      },
      "outputs": [
        {
          "name": "stderr",
          "output_type": "stream",
          "text": [
            "/home/datascience/conda/mlcpuv1/lib/python3.6/site-packages/seaborn/_decorators.py:43: FutureWarning: Pass the following variables as keyword args: x, y. From version 0.12, the only valid positional argument will be `data`, and passing other arguments without an explicit keyword will result in an error or misinterpretation.\n",
            "  FutureWarning\n",
            "/home/datascience/conda/mlcpuv1/lib/python3.6/site-packages/seaborn/_decorators.py:43: FutureWarning: Pass the following variables as keyword args: x, y. From version 0.12, the only valid positional argument will be `data`, and passing other arguments without an explicit keyword will result in an error or misinterpretation.\n",
            "  FutureWarning\n",
            "/home/datascience/conda/mlcpuv1/lib/python3.6/site-packages/seaborn/_decorators.py:43: FutureWarning: Pass the following variables as keyword args: x, y. From version 0.12, the only valid positional argument will be `data`, and passing other arguments without an explicit keyword will result in an error or misinterpretation.\n",
            "  FutureWarning\n"
          ]
        },
        {
          "data": {
            "text/plain": [
              "<matplotlib.axes._subplots.AxesSubplot at 0x7f729ad76358>"
            ]
          },
          "execution_count": 105,
          "metadata": {},
          "output_type": "execute_result"
        },
        {
          "data": {
            "image/png": "[encoded data removed]",
            "text/plain": [
              "<Figure size 1440x432 with 3 Axes>"
            ]
          },
          "metadata": {
            "needs_background": "light"
          },
          "output_type": "display_data"
        }
      ],
      "source": [
        "plt.rcParams['figure.figsize'] = 20,6\n",
        "plt.subplot(131)\n",
        "sns.boxplot(train[\"Class\"], train[\"feature_1\"])\n",
        "plt.subplot(132)\n",
        "sns.boxplot(train[\"Class\"], train[\"feature_2\"])\n",
        "plt.subplot(133)\n",
        "sns.boxplot(train[\"Class\"], train[\"feature_3\"])\n"
      ]
    },
    {
      "cell_type": "code",
      "execution_count": null,
      "metadata": {
        "id": "UL-MHJ6IHYLH"
      },
      "outputs": [],
      "source": [
        "df = pd.DataFrame((train == 0).astype(int).sum(axis=0))"
      ]
    },
    {
      "cell_type": "code",
      "execution_count": null,
      "metadata": {
        "id": "FVXz00eMHYLH"
      },
      "outputs": [],
      "source": [
        "all_zero = df[df[0]>1761].index\n",
        "\n",
        "train.drop(all_zero,axis=1,inplace=True)"
      ]
    },
    {
      "cell_type": "code",
      "execution_count": null,
      "metadata": {
        "id": "_ItfMQtmHYLH",
        "outputId": "4dfd3872-114a-4cad-c047-b0acdac807f0"
      },
      "outputs": [
        {
          "name": "stdout",
          "output_type": "stream",
          "text": [
            "<class 'pandas.core.frame.DataFrame'>\n",
            "RangeIndex: 1763 entries, 0 to 1762\n",
            "Data columns (total 4 columns):\n",
            " #   Column     Non-Null Count  Dtype  \n",
            "---  ------     --------------  -----  \n",
            " 0   feature_1  1763 non-null   float64\n",
            " 1   feature_2  1763 non-null   float64\n",
            " 2   feature_3  1763 non-null   float64\n",
            " 3   Class      1763 non-null   float64\n",
            "dtypes: float64(4)\n",
            "memory usage: 55.2 KB\n"
          ]
        }
      ],
      "source": [
        "train.info()"
      ]
    },
    {
      "cell_type": "code",
      "execution_count": null,
      "metadata": {
        "id": "pMZjGMLkHYLI",
        "outputId": "2e55760a-aed4-4625-efac-b9265b964615"
      },
      "outputs": [
        {
          "data": {
            "image/png": "[encoded data removed]",
            "text/plain": [
              "<Figure size 1440x1440 with 4 Axes>"
            ]
          },
          "metadata": {
            "needs_background": "light"
          },
          "output_type": "display_data"
        }
      ],
      "source": [
        "train_hist = train.drop('Class', 1)\n",
        "train_hist.hist(figsize=(20,20), bins = 71, color = \"c\", edgecolor='black')\n",
        "plt.show()"
      ]
    },
    {
      "cell_type": "code",
      "execution_count": null,
      "metadata": {
        "id": "NHmqOD_HHYLI",
        "outputId": "666b09b9-4db9-44f3-e9f1-98f33efee02c"
      },
      "outputs": [
        {
          "data": {
            "image/png": "[encoded data removed]",
            "text/plain": [
              "<Figure size 720x576 with 1 Axes>"
            ]
          },
          "metadata": {
            "needs_background": "light"
          },
          "output_type": "display_data"
        }
      ],
      "source": [
        "corr = train_hist.corr()\n",
        "\n",
        "import seaborn as sns\n",
        "import matplotlib.pyplot as plt\n",
        "%matplotlib notebook\n",
        "%matplotlib inline\n",
        "    \n",
        "# plot the heatmap\n",
        "plt.figure(figsize = (10, 8))\n",
        "\n",
        "sns.heatmap(corr.abs(), cmap='BuGn', cbar=False, vmin=0, vmax=1, annot=True, fmt='.2f')\n",
        "plt.xticks(rotation=90, fontsize=12)\n",
        "plt.yticks(rotation=0, fontsize=12)\n",
        "plt.title('Correlation Heatmap', fontsize=20)\n",
        "plt.show()"
      ]
    },
    {
      "cell_type": "code",
      "execution_count": null,
      "metadata": {
        "id": "2ddIVeROHYLI",
        "outputId": "c67a6f0a-c6fa-431f-c6c4-3cbe69925e3f"
      },
      "outputs": [
        {
          "data": {
            "text/html": [
              "<div>\n",
              "<style scoped>\n",
              "    .dataframe tbody tr th:only-of-type {\n",
              "        vertical-align: middle;\n",
              "    }\n",
              "\n",
              "    .dataframe tbody tr th {\n",
              "        vertical-align: top;\n",
              "    }\n",
              "\n",
              "    .dataframe thead th {\n",
              "        text-align: right;\n",
              "    }\n",
              "</style>\n",
              "<table border=\"1\" class=\"dataframe\">\n",
              "  <thead>\n",
              "    <tr style=\"text-align: right;\">\n",
              "      <th></th>\n",
              "      <th>feature_1</th>\n",
              "      <th>feature_2</th>\n",
              "      <th>feature_3</th>\n",
              "      <th>Class</th>\n",
              "    </tr>\n",
              "  </thead>\n",
              "  <tbody>\n",
              "    <tr>\n",
              "      <th>0</th>\n",
              "      <td>100.0</td>\n",
              "      <td>160.0</td>\n",
              "      <td>1.60</td>\n",
              "      <td>0.0</td>\n",
              "    </tr>\n",
              "    <tr>\n",
              "      <th>1</th>\n",
              "      <td>20.0</td>\n",
              "      <td>83.0</td>\n",
              "      <td>4.15</td>\n",
              "      <td>0.0</td>\n",
              "    </tr>\n",
              "  </tbody>\n",
              "</table>\n",
              "</div>"
            ],
            "text/plain": [
              "   feature_1  feature_2  feature_3  Class\n",
              "0      100.0      160.0       1.60    0.0\n",
              "1       20.0       83.0       4.15    0.0"
            ]
          },
          "execution_count": 111,
          "metadata": {},
          "output_type": "execute_result"
        }
      ],
      "source": [
        "train.head(2)"
      ]
    },
    {
      "cell_type": "markdown",
      "metadata": {
        "id": "Fye25ao2HYLI"
      },
      "source": [
        "Building the model"
      ]
    },
    {
      "cell_type": "code",
      "execution_count": null,
      "metadata": {
        "id": "Glrs8ugoHYLI"
      },
      "outputs": [],
      "source": [
        "X = train.drop(\"Class\", axis = 1)\n",
        "y = train[\"Class\"]\n",
        "\n",
        "X_train, X_valid , y_train, y_valid = train_test_split(X, y, test_size = 0.2, stratify = y)"
      ]
    },
    {
      "cell_type": "code",
      "execution_count": null,
      "metadata": {
        "id": "-dJxi1IxHYLI"
      },
      "outputs": [],
      "source": [
        "from xgboost import XGBClassifier"
      ]
    },
    {
      "cell_type": "code",
      "execution_count": null,
      "metadata": {
        "id": "_1QyXxnyHYLJ"
      },
      "outputs": [],
      "source": [
        "modelxc = XGBClassifier(silent=True,\n",
        "                      booster = 'gbtree',\n",
        "                      scale_pos_weight=5,\n",
        "                      learning_rate=0.01,  \n",
        "                      colsample_bytree = 0.7,\n",
        "                      subsample = 0.5,\n",
        "                      max_delta_step = 3,\n",
        "                      reg_lambda = 2,\n",
        "                     objective='binary:logistic',\n",
        "                      \n",
        "                      n_estimators=818, \n",
        "                      max_depth=8,\n",
        "                     )"
      ]
    },
    {
      "cell_type": "code",
      "execution_count": null,
      "metadata": {
        "collapsed": true,
        "jupyter": {
          "outputs_hidden": true
        },
        "id": "j2FmAQdmHYLJ",
        "outputId": "2f1370f9-c22c-4323-e0ea-172848afae61"
      },
      "outputs": [
        {
          "name": "stdout",
          "output_type": "stream",
          "text": [
            "[15:00:11] WARNING: ../src/learner.cc:516: \n",
            "Parameters: { silent } might not be used.\n",
            "\n",
            "  This may not be accurate due to some parameters are only used in language bindings but\n",
            "  passed down to XGBoost core.  Or some parameters are not used but slip through this\n",
            "  verification. Please open an issue if you find above cases.\n",
            "\n",
            "\n",
            "[0]\tvalidation_0-logloss:0.68739\n",
            "Will train until validation_0-logloss hasn't improved in 50 rounds.\n",
            "[1]\tvalidation_0-logloss:0.68167\n",
            "[2]\tvalidation_0-logloss:0.67588\n",
            "[3]\tvalidation_0-logloss:0.67005\n",
            "[4]\tvalidation_0-logloss:0.66504\n",
            "[5]\tvalidation_0-logloss:0.65967\n",
            "[6]\tvalidation_0-logloss:0.65458\n",
            "[7]\tvalidation_0-logloss:0.64989\n",
            "[8]\tvalidation_0-logloss:0.64491\n",
            "[9]\tvalidation_0-logloss:0.63984\n",
            "[10]\tvalidation_0-logloss:0.63541\n",
            "[11]\tvalidation_0-logloss:0.63059\n",
            "[12]\tvalidation_0-logloss:0.62616\n",
            "[13]\tvalidation_0-logloss:0.62193\n",
            "[14]\tvalidation_0-logloss:0.61797\n",
            "[15]\tvalidation_0-logloss:0.61363\n",
            "[16]\tvalidation_0-logloss:0.60955\n",
            "[17]\tvalidation_0-logloss:0.60508\n",
            "[18]\tvalidation_0-logloss:0.60048\n",
            "[19]\tvalidation_0-logloss:0.59653\n",
            "[20]\tvalidation_0-logloss:0.59258\n",
            "[21]\tvalidation_0-logloss:0.58867\n",
            "[22]\tvalidation_0-logloss:0.58477\n",
            "[23]\tvalidation_0-logloss:0.58050\n",
            "[24]\tvalidation_0-logloss:0.57642\n",
            "[25]\tvalidation_0-logloss:0.57284\n",
            "[26]\tvalidation_0-logloss:0.56882\n",
            "[27]\tvalidation_0-logloss:0.56500\n",
            "[28]\tvalidation_0-logloss:0.56161\n",
            "[29]\tvalidation_0-logloss:0.55781\n",
            "[30]\tvalidation_0-logloss:0.55408\n",
            "[31]\tvalidation_0-logloss:0.55092\n",
            "[32]\tvalidation_0-logloss:0.54751\n",
            "[33]\tvalidation_0-logloss:0.54466\n",
            "[34]\tvalidation_0-logloss:0.54151\n",
            "[35]\tvalidation_0-logloss:0.53802\n",
            "[36]\tvalidation_0-logloss:0.53468\n",
            "[37]\tvalidation_0-logloss:0.53142\n",
            "[38]\tvalidation_0-logloss:0.52836\n",
            "[39]\tvalidation_0-logloss:0.52530\n",
            "[40]\tvalidation_0-logloss:0.52214\n",
            "[41]\tvalidation_0-logloss:0.51975\n",
            "[42]\tvalidation_0-logloss:0.51670\n",
            "[43]\tvalidation_0-logloss:0.51358\n",
            "[44]\tvalidation_0-logloss:0.51096\n",
            "[45]\tvalidation_0-logloss:0.50822\n",
            "[46]\tvalidation_0-logloss:0.50570\n",
            "[47]\tvalidation_0-logloss:0.50316\n",
            "[48]\tvalidation_0-logloss:0.50050\n",
            "[49]\tvalidation_0-logloss:0.49800\n",
            "[50]\tvalidation_0-logloss:0.49530\n",
            "[51]\tvalidation_0-logloss:0.49303\n",
            "[52]\tvalidation_0-logloss:0.49022\n",
            "[53]\tvalidation_0-logloss:0.48787\n",
            "[54]\tvalidation_0-logloss:0.48519\n",
            "[55]\tvalidation_0-logloss:0.48266\n",
            "[56]\tvalidation_0-logloss:0.48038\n",
            "[57]\tvalidation_0-logloss:0.47809\n",
            "[58]\tvalidation_0-logloss:0.47551\n",
            "[59]\tvalidation_0-logloss:0.47320\n",
            "[60]\tvalidation_0-logloss:0.47066\n",
            "[61]\tvalidation_0-logloss:0.46853\n",
            "[62]\tvalidation_0-logloss:0.46651\n",
            "[63]\tvalidation_0-logloss:0.46450\n",
            "[64]\tvalidation_0-logloss:0.46235\n",
            "[65]\tvalidation_0-logloss:0.46003\n",
            "[66]\tvalidation_0-logloss:0.45789\n",
            "[67]\tvalidation_0-logloss:0.45585\n",
            "[68]\tvalidation_0-logloss:0.45401\n",
            "[69]\tvalidation_0-logloss:0.45201\n",
            "[70]\tvalidation_0-logloss:0.45012\n",
            "[71]\tvalidation_0-logloss:0.44820\n",
            "[72]\tvalidation_0-logloss:0.44634\n",
            "[73]\tvalidation_0-logloss:0.44418\n",
            "[74]\tvalidation_0-logloss:0.44234\n",
            "[75]\tvalidation_0-logloss:0.44048\n",
            "[76]\tvalidation_0-logloss:0.43865\n",
            "[77]\tvalidation_0-logloss:0.43669\n",
            "[78]\tvalidation_0-logloss:0.43486\n",
            "[79]\tvalidation_0-logloss:0.43310\n",
            "[80]\tvalidation_0-logloss:0.43138\n",
            "[81]\tvalidation_0-logloss:0.42991\n",
            "[82]\tvalidation_0-logloss:0.42827\n",
            "[83]\tvalidation_0-logloss:0.42651\n",
            "[84]\tvalidation_0-logloss:0.42479\n",
            "[85]\tvalidation_0-logloss:0.42310\n",
            "[86]\tvalidation_0-logloss:0.42129\n",
            "[87]\tvalidation_0-logloss:0.41978\n",
            "[88]\tvalidation_0-logloss:0.41805\n",
            "[89]\tvalidation_0-logloss:0.41666\n",
            "[90]\tvalidation_0-logloss:0.41516\n",
            "[91]\tvalidation_0-logloss:0.41327\n",
            "[92]\tvalidation_0-logloss:0.41169\n",
            "[93]\tvalidation_0-logloss:0.41021\n",
            "[94]\tvalidation_0-logloss:0.40852\n",
            "[95]\tvalidation_0-logloss:0.40718\n",
            "[96]\tvalidation_0-logloss:0.40538\n",
            "[97]\tvalidation_0-logloss:0.40430\n",
            "[98]\tvalidation_0-logloss:0.40289\n",
            "[99]\tvalidation_0-logloss:0.40168\n",
            "[100]\tvalidation_0-logloss:0.40029\n",
            "[101]\tvalidation_0-logloss:0.39938\n",
            "[102]\tvalidation_0-logloss:0.39813\n",
            "[103]\tvalidation_0-logloss:0.39676\n",
            "[104]\tvalidation_0-logloss:0.39544\n",
            "[105]\tvalidation_0-logloss:0.39402\n",
            "[106]\tvalidation_0-logloss:0.39270\n",
            "[107]\tvalidation_0-logloss:0.39164\n",
            "[108]\tvalidation_0-logloss:0.39025\n",
            "[109]\tvalidation_0-logloss:0.38896\n",
            "[110]\tvalidation_0-logloss:0.38768\n",
            "[111]\tvalidation_0-logloss:0.38659\n",
            "[112]\tvalidation_0-logloss:0.38545\n",
            "[113]\tvalidation_0-logloss:0.38421\n",
            "[114]\tvalidation_0-logloss:0.38303\n",
            "[115]\tvalidation_0-logloss:0.38206\n",
            "[116]\tvalidation_0-logloss:0.38123\n",
            "[117]\tvalidation_0-logloss:0.38008\n",
            "[118]\tvalidation_0-logloss:0.37922\n",
            "[119]\tvalidation_0-logloss:0.37789\n",
            "[120]\tvalidation_0-logloss:0.37692\n",
            "[121]\tvalidation_0-logloss:0.37614\n",
            "[122]\tvalidation_0-logloss:0.37537\n",
            "[123]\tvalidation_0-logloss:0.37419\n",
            "[124]\tvalidation_0-logloss:0.37318\n",
            "[125]\tvalidation_0-logloss:0.37219\n",
            "[126]\tvalidation_0-logloss:0.37121\n",
            "[127]\tvalidation_0-logloss:0.37029\n",
            "[128]\tvalidation_0-logloss:0.36938\n",
            "[129]\tvalidation_0-logloss:0.36823\n",
            "[130]\tvalidation_0-logloss:0.36738\n",
            "[131]\tvalidation_0-logloss:0.36675\n",
            "[132]\tvalidation_0-logloss:0.36558\n",
            "[133]\tvalidation_0-logloss:0.36434\n",
            "[134]\tvalidation_0-logloss:0.36317\n",
            "[135]\tvalidation_0-logloss:0.36218\n",
            "[136]\tvalidation_0-logloss:0.36110\n",
            "[137]\tvalidation_0-logloss:0.36004\n",
            "[138]\tvalidation_0-logloss:0.35903\n",
            "[139]\tvalidation_0-logloss:0.35818\n",
            "[140]\tvalidation_0-logloss:0.35758\n",
            "[141]\tvalidation_0-logloss:0.35662\n",
            "[142]\tvalidation_0-logloss:0.35559\n",
            "[143]\tvalidation_0-logloss:0.35486\n",
            "[144]\tvalidation_0-logloss:0.35406\n",
            "[145]\tvalidation_0-logloss:0.35333\n",
            "[146]\tvalidation_0-logloss:0.35250\n",
            "[147]\tvalidation_0-logloss:0.35163\n",
            "[148]\tvalidation_0-logloss:0.35082\n",
            "[149]\tvalidation_0-logloss:0.34988\n",
            "[150]\tvalidation_0-logloss:0.34923\n",
            "[151]\tvalidation_0-logloss:0.34823\n",
            "[152]\tvalidation_0-logloss:0.34737\n",
            "[153]\tvalidation_0-logloss:0.34679\n",
            "[154]\tvalidation_0-logloss:0.34594\n",
            "[155]\tvalidation_0-logloss:0.34509\n",
            "[156]\tvalidation_0-logloss:0.34430\n",
            "[157]\tvalidation_0-logloss:0.34366\n",
            "[158]\tvalidation_0-logloss:0.34315\n",
            "[159]\tvalidation_0-logloss:0.34266\n",
            "[160]\tvalidation_0-logloss:0.34228\n",
            "[161]\tvalidation_0-logloss:0.34163\n",
            "[162]\tvalidation_0-logloss:0.34083\n",
            "[163]\tvalidation_0-logloss:0.34041\n",
            "[164]\tvalidation_0-logloss:0.33974\n",
            "[165]\tvalidation_0-logloss:0.33920\n",
            "[166]\tvalidation_0-logloss:0.33845\n",
            "[167]\tvalidation_0-logloss:0.33763\n",
            "[168]\tvalidation_0-logloss:0.33689\n",
            "[169]\tvalidation_0-logloss:0.33593\n",
            "[170]\tvalidation_0-logloss:0.33535\n",
            "[171]\tvalidation_0-logloss:0.33488\n",
            "[172]\tvalidation_0-logloss:0.33443\n",
            "[173]\tvalidation_0-logloss:0.33378\n",
            "[174]\tvalidation_0-logloss:0.33342\n",
            "[175]\tvalidation_0-logloss:0.33285\n",
            "[176]\tvalidation_0-logloss:0.33256\n",
            "[177]\tvalidation_0-logloss:0.33249\n",
            "[178]\tvalidation_0-logloss:0.33205\n",
            "[179]\tvalidation_0-logloss:0.33138\n",
            "[180]\tvalidation_0-logloss:0.33078\n",
            "[181]\tvalidation_0-logloss:0.33031\n",
            "[182]\tvalidation_0-logloss:0.32988\n",
            "[183]\tvalidation_0-logloss:0.32946\n",
            "[184]\tvalidation_0-logloss:0.32894\n",
            "[185]\tvalidation_0-logloss:0.32851\n",
            "[186]\tvalidation_0-logloss:0.32793\n",
            "[187]\tvalidation_0-logloss:0.32739\n",
            "[188]\tvalidation_0-logloss:0.32679\n",
            "[189]\tvalidation_0-logloss:0.32601\n",
            "[190]\tvalidation_0-logloss:0.32554\n",
            "[191]\tvalidation_0-logloss:0.32496\n",
            "[192]\tvalidation_0-logloss:0.32423\n",
            "[193]\tvalidation_0-logloss:0.32390\n",
            "[194]\tvalidation_0-logloss:0.32359\n",
            "[195]\tvalidation_0-logloss:0.32303\n",
            "[196]\tvalidation_0-logloss:0.32249\n",
            "[197]\tvalidation_0-logloss:0.32227\n",
            "[198]\tvalidation_0-logloss:0.32171\n",
            "[199]\tvalidation_0-logloss:0.32135\n",
            "[200]\tvalidation_0-logloss:0.32079\n",
            "[201]\tvalidation_0-logloss:0.32037\n",
            "[202]\tvalidation_0-logloss:0.31970\n",
            "[203]\tvalidation_0-logloss:0.31911\n",
            "[204]\tvalidation_0-logloss:0.31860\n",
            "[205]\tvalidation_0-logloss:0.31829\n",
            "[206]\tvalidation_0-logloss:0.31781\n",
            "[207]\tvalidation_0-logloss:0.31746\n",
            "[208]\tvalidation_0-logloss:0.31693\n",
            "[209]\tvalidation_0-logloss:0.31650\n",
            "[210]\tvalidation_0-logloss:0.31611\n",
            "[211]\tvalidation_0-logloss:0.31550\n",
            "[212]\tvalidation_0-logloss:0.31506\n",
            "[213]\tvalidation_0-logloss:0.31493\n",
            "[214]\tvalidation_0-logloss:0.31447\n",
            "[215]\tvalidation_0-logloss:0.31410\n",
            "[216]\tvalidation_0-logloss:0.31389\n",
            "[217]\tvalidation_0-logloss:0.31346\n",
            "[218]\tvalidation_0-logloss:0.31316\n",
            "[219]\tvalidation_0-logloss:0.31293\n",
            "[220]\tvalidation_0-logloss:0.31265\n",
            "[221]\tvalidation_0-logloss:0.31233\n",
            "[222]\tvalidation_0-logloss:0.31172\n",
            "[223]\tvalidation_0-logloss:0.31138\n",
            "[224]\tvalidation_0-logloss:0.31103\n",
            "[225]\tvalidation_0-logloss:0.31062\n",
            "[226]\tvalidation_0-logloss:0.31006\n",
            "[227]\tvalidation_0-logloss:0.30960\n",
            "[228]\tvalidation_0-logloss:0.30928\n",
            "[229]\tvalidation_0-logloss:0.30910\n",
            "[230]\tvalidation_0-logloss:0.30870\n",
            "[231]\tvalidation_0-logloss:0.30841\n",
            "[232]\tvalidation_0-logloss:0.30829\n",
            "[233]\tvalidation_0-logloss:0.30791\n",
            "[234]\tvalidation_0-logloss:0.30727\n",
            "[235]\tvalidation_0-logloss:0.30704\n",
            "[236]\tvalidation_0-logloss:0.30682\n",
            "[237]\tvalidation_0-logloss:0.30661\n",
            "[238]\tvalidation_0-logloss:0.30626\n",
            "[239]\tvalidation_0-logloss:0.30617\n",
            "[240]\tvalidation_0-logloss:0.30577\n",
            "[241]\tvalidation_0-logloss:0.30555\n",
            "[242]\tvalidation_0-logloss:0.30547\n",
            "[243]\tvalidation_0-logloss:0.30540\n",
            "[244]\tvalidation_0-logloss:0.30524\n",
            "[245]\tvalidation_0-logloss:0.30481\n",
            "[246]\tvalidation_0-logloss:0.30457\n",
            "[247]\tvalidation_0-logloss:0.30441\n",
            "[248]\tvalidation_0-logloss:0.30422\n",
            "[249]\tvalidation_0-logloss:0.30408\n",
            "[250]\tvalidation_0-logloss:0.30412\n",
            "[251]\tvalidation_0-logloss:0.30395\n",
            "[252]\tvalidation_0-logloss:0.30366\n",
            "[253]\tvalidation_0-logloss:0.30329\n",
            "[254]\tvalidation_0-logloss:0.30310\n",
            "[255]\tvalidation_0-logloss:0.30302\n",
            "[256]\tvalidation_0-logloss:0.30267\n",
            "[257]\tvalidation_0-logloss:0.30213\n",
            "[258]\tvalidation_0-logloss:0.30210\n",
            "[259]\tvalidation_0-logloss:0.30186\n",
            "[260]\tvalidation_0-logloss:0.30146\n",
            "[261]\tvalidation_0-logloss:0.30106\n",
            "[262]\tvalidation_0-logloss:0.30057\n",
            "[263]\tvalidation_0-logloss:0.30052\n",
            "[264]\tvalidation_0-logloss:0.30002\n",
            "[265]\tvalidation_0-logloss:0.29975\n",
            "[266]\tvalidation_0-logloss:0.29976\n",
            "[267]\tvalidation_0-logloss:0.29902\n",
            "[268]\tvalidation_0-logloss:0.29853\n",
            "[269]\tvalidation_0-logloss:0.29836\n",
            "[270]\tvalidation_0-logloss:0.29832\n",
            "[271]\tvalidation_0-logloss:0.29791\n",
            "[272]\tvalidation_0-logloss:0.29789\n",
            "[273]\tvalidation_0-logloss:0.29765\n",
            "[274]\tvalidation_0-logloss:0.29719\n",
            "[275]\tvalidation_0-logloss:0.29703\n",
            "[276]\tvalidation_0-logloss:0.29691\n",
            "[277]\tvalidation_0-logloss:0.29678\n",
            "[278]\tvalidation_0-logloss:0.29661\n",
            "[279]\tvalidation_0-logloss:0.29656\n",
            "[280]\tvalidation_0-logloss:0.29638\n",
            "[281]\tvalidation_0-logloss:0.29619\n",
            "[282]\tvalidation_0-logloss:0.29595\n",
            "[283]\tvalidation_0-logloss:0.29586\n",
            "[284]\tvalidation_0-logloss:0.29596\n",
            "[285]\tvalidation_0-logloss:0.29594\n",
            "[286]\tvalidation_0-logloss:0.29591\n",
            "[287]\tvalidation_0-logloss:0.29565\n",
            "[288]\tvalidation_0-logloss:0.29552\n",
            "[289]\tvalidation_0-logloss:0.29522\n",
            "[290]\tvalidation_0-logloss:0.29492\n",
            "[291]\tvalidation_0-logloss:0.29464\n",
            "[292]\tvalidation_0-logloss:0.29418\n",
            "[293]\tvalidation_0-logloss:0.29417\n",
            "[294]\tvalidation_0-logloss:0.29373\n",
            "[295]\tvalidation_0-logloss:0.29367\n",
            "[296]\tvalidation_0-logloss:0.29356\n",
            "[297]\tvalidation_0-logloss:0.29351\n",
            "[298]\tvalidation_0-logloss:0.29319\n",
            "[299]\tvalidation_0-logloss:0.29309\n",
            "[300]\tvalidation_0-logloss:0.29298\n",
            "[301]\tvalidation_0-logloss:0.29276\n",
            "[302]\tvalidation_0-logloss:0.29289\n",
            "[303]\tvalidation_0-logloss:0.29283\n",
            "[304]\tvalidation_0-logloss:0.29276\n",
            "[305]\tvalidation_0-logloss:0.29237\n",
            "[306]\tvalidation_0-logloss:0.29233\n",
            "[307]\tvalidation_0-logloss:0.29240\n",
            "[308]\tvalidation_0-logloss:0.29227\n",
            "[309]\tvalidation_0-logloss:0.29217\n",
            "[310]\tvalidation_0-logloss:0.29215\n",
            "[311]\tvalidation_0-logloss:0.29224\n",
            "[312]\tvalidation_0-logloss:0.29215\n",
            "[313]\tvalidation_0-logloss:0.29191\n",
            "[314]\tvalidation_0-logloss:0.29171\n",
            "[315]\tvalidation_0-logloss:0.29145\n",
            "[316]\tvalidation_0-logloss:0.29132\n",
            "[317]\tvalidation_0-logloss:0.29132\n",
            "[318]\tvalidation_0-logloss:0.29130\n",
            "[319]\tvalidation_0-logloss:0.29126\n",
            "[320]\tvalidation_0-logloss:0.29131\n",
            "[321]\tvalidation_0-logloss:0.29115\n",
            "[322]\tvalidation_0-logloss:0.29109\n",
            "[323]\tvalidation_0-logloss:0.29091\n",
            "[324]\tvalidation_0-logloss:0.29077\n",
            "[325]\tvalidation_0-logloss:0.29075\n",
            "[326]\tvalidation_0-logloss:0.29056\n",
            "[327]\tvalidation_0-logloss:0.29062\n",
            "[328]\tvalidation_0-logloss:0.29077\n",
            "[329]\tvalidation_0-logloss:0.29086\n",
            "[330]\tvalidation_0-logloss:0.29069\n",
            "[331]\tvalidation_0-logloss:0.29083\n",
            "[332]\tvalidation_0-logloss:0.29110\n",
            "[333]\tvalidation_0-logloss:0.29101\n",
            "[334]\tvalidation_0-logloss:0.29116\n",
            "[335]\tvalidation_0-logloss:0.29114\n",
            "[336]\tvalidation_0-logloss:0.29145\n",
            "[337]\tvalidation_0-logloss:0.29129\n",
            "[338]\tvalidation_0-logloss:0.29130\n",
            "[339]\tvalidation_0-logloss:0.29097\n",
            "[340]\tvalidation_0-logloss:0.29088\n",
            "[341]\tvalidation_0-logloss:0.29079\n",
            "[342]\tvalidation_0-logloss:0.29068\n",
            "[343]\tvalidation_0-logloss:0.29072\n",
            "[344]\tvalidation_0-logloss:0.29080\n",
            "[345]\tvalidation_0-logloss:0.29053\n",
            "[346]\tvalidation_0-logloss:0.29042\n",
            "[347]\tvalidation_0-logloss:0.29038\n",
            "[348]\tvalidation_0-logloss:0.29014\n",
            "[349]\tvalidation_0-logloss:0.29017\n",
            "[350]\tvalidation_0-logloss:0.29002\n",
            "[351]\tvalidation_0-logloss:0.28982\n",
            "[352]\tvalidation_0-logloss:0.28989\n",
            "[353]\tvalidation_0-logloss:0.28985\n",
            "[354]\tvalidation_0-logloss:0.28981\n",
            "[355]\tvalidation_0-logloss:0.28995\n",
            "[356]\tvalidation_0-logloss:0.28981\n",
            "[357]\tvalidation_0-logloss:0.28973\n",
            "[358]\tvalidation_0-logloss:0.28981\n",
            "[359]\tvalidation_0-logloss:0.28989\n",
            "[360]\tvalidation_0-logloss:0.28984\n",
            "[361]\tvalidation_0-logloss:0.28995\n",
            "[362]\tvalidation_0-logloss:0.28966\n",
            "[363]\tvalidation_0-logloss:0.28947\n",
            "[364]\tvalidation_0-logloss:0.28930\n",
            "[365]\tvalidation_0-logloss:0.28929\n",
            "[366]\tvalidation_0-logloss:0.28919\n",
            "[367]\tvalidation_0-logloss:0.28924\n",
            "[368]\tvalidation_0-logloss:0.28906\n",
            "[369]\tvalidation_0-logloss:0.28915\n",
            "[370]\tvalidation_0-logloss:0.28891\n",
            "[371]\tvalidation_0-logloss:0.28902\n",
            "[372]\tvalidation_0-logloss:0.28896\n",
            "[373]\tvalidation_0-logloss:0.28913\n",
            "[374]\tvalidation_0-logloss:0.28904\n",
            "[375]\tvalidation_0-logloss:0.28897\n",
            "[376]\tvalidation_0-logloss:0.28907\n",
            "[377]\tvalidation_0-logloss:0.28918\n",
            "[378]\tvalidation_0-logloss:0.28897\n",
            "[379]\tvalidation_0-logloss:0.28889\n",
            "[380]\tvalidation_0-logloss:0.28912\n",
            "[381]\tvalidation_0-logloss:0.28912\n",
            "[382]\tvalidation_0-logloss:0.28924\n",
            "[383]\tvalidation_0-logloss:0.28907\n",
            "[384]\tvalidation_0-logloss:0.28881\n",
            "[385]\tvalidation_0-logloss:0.28870\n",
            "[386]\tvalidation_0-logloss:0.28873\n",
            "[387]\tvalidation_0-logloss:0.28865\n",
            "[388]\tvalidation_0-logloss:0.28874\n",
            "[389]\tvalidation_0-logloss:0.28864\n",
            "[390]\tvalidation_0-logloss:0.28850\n",
            "[391]\tvalidation_0-logloss:0.28855\n",
            "[392]\tvalidation_0-logloss:0.28856\n",
            "[393]\tvalidation_0-logloss:0.28854\n",
            "[394]\tvalidation_0-logloss:0.28857\n",
            "[395]\tvalidation_0-logloss:0.28862\n",
            "[396]\tvalidation_0-logloss:0.28859\n",
            "[397]\tvalidation_0-logloss:0.28849\n",
            "[398]\tvalidation_0-logloss:0.28834\n",
            "[399]\tvalidation_0-logloss:0.28833\n",
            "[400]\tvalidation_0-logloss:0.28827\n",
            "[401]\tvalidation_0-logloss:0.28850\n",
            "[402]\tvalidation_0-logloss:0.28825\n",
            "[403]\tvalidation_0-logloss:0.28817\n",
            "[404]\tvalidation_0-logloss:0.28820\n",
            "[405]\tvalidation_0-logloss:0.28825\n",
            "[406]\tvalidation_0-logloss:0.28818\n",
            "[407]\tvalidation_0-logloss:0.28820\n",
            "[408]\tvalidation_0-logloss:0.28819\n",
            "[409]\tvalidation_0-logloss:0.28812\n",
            "[410]\tvalidation_0-logloss:0.28803\n",
            "[411]\tvalidation_0-logloss:0.28814\n",
            "[412]\tvalidation_0-logloss:0.28797\n",
            "[413]\tvalidation_0-logloss:0.28785\n",
            "[414]\tvalidation_0-logloss:0.28773\n",
            "[415]\tvalidation_0-logloss:0.28748\n",
            "[416]\tvalidation_0-logloss:0.28735\n",
            "[417]\tvalidation_0-logloss:0.28732\n",
            "[418]\tvalidation_0-logloss:0.28737\n",
            "[419]\tvalidation_0-logloss:0.28735\n",
            "[420]\tvalidation_0-logloss:0.28713\n",
            "[421]\tvalidation_0-logloss:0.28723\n",
            "[422]\tvalidation_0-logloss:0.28743\n",
            "[423]\tvalidation_0-logloss:0.28747\n",
            "[424]\tvalidation_0-logloss:0.28732\n",
            "[425]\tvalidation_0-logloss:0.28733\n",
            "[426]\tvalidation_0-logloss:0.28736\n",
            "[427]\tvalidation_0-logloss:0.28727\n",
            "[428]\tvalidation_0-logloss:0.28706\n",
            "[429]\tvalidation_0-logloss:0.28692\n",
            "[430]\tvalidation_0-logloss:0.28702\n",
            "[431]\tvalidation_0-logloss:0.28703\n",
            "[432]\tvalidation_0-logloss:0.28714\n",
            "[433]\tvalidation_0-logloss:0.28689\n",
            "[434]\tvalidation_0-logloss:0.28695\n",
            "[435]\tvalidation_0-logloss:0.28687\n",
            "[436]\tvalidation_0-logloss:0.28686\n",
            "[437]\tvalidation_0-logloss:0.28691\n",
            "[438]\tvalidation_0-logloss:0.28659\n",
            "[439]\tvalidation_0-logloss:0.28637\n",
            "[440]\tvalidation_0-logloss:0.28642\n",
            "[441]\tvalidation_0-logloss:0.28646\n",
            "[442]\tvalidation_0-logloss:0.28636\n",
            "[443]\tvalidation_0-logloss:0.28623\n",
            "[444]\tvalidation_0-logloss:0.28630\n",
            "[445]\tvalidation_0-logloss:0.28619\n",
            "[446]\tvalidation_0-logloss:0.28613\n",
            "[447]\tvalidation_0-logloss:0.28593\n",
            "[448]\tvalidation_0-logloss:0.28574\n",
            "[449]\tvalidation_0-logloss:0.28588\n",
            "[450]\tvalidation_0-logloss:0.28581\n",
            "[451]\tvalidation_0-logloss:0.28590\n",
            "[452]\tvalidation_0-logloss:0.28593\n",
            "[453]\tvalidation_0-logloss:0.28610\n",
            "[454]\tvalidation_0-logloss:0.28595\n",
            "[455]\tvalidation_0-logloss:0.28573\n",
            "[456]\tvalidation_0-logloss:0.28572\n",
            "[457]\tvalidation_0-logloss:0.28578\n",
            "[458]\tvalidation_0-logloss:0.28587\n",
            "[459]\tvalidation_0-logloss:0.28578\n",
            "[460]\tvalidation_0-logloss:0.28600\n",
            "[461]\tvalidation_0-logloss:0.28590\n",
            "[462]\tvalidation_0-logloss:0.28602\n",
            "[463]\tvalidation_0-logloss:0.28585\n",
            "[464]\tvalidation_0-logloss:0.28568\n",
            "[465]\tvalidation_0-logloss:0.28563\n",
            "[466]\tvalidation_0-logloss:0.28531\n",
            "[467]\tvalidation_0-logloss:0.28530\n",
            "[468]\tvalidation_0-logloss:0.28523\n",
            "[469]\tvalidation_0-logloss:0.28515\n",
            "[470]\tvalidation_0-logloss:0.28525\n",
            "[471]\tvalidation_0-logloss:0.28511\n",
            "[472]\tvalidation_0-logloss:0.28503\n",
            "[473]\tvalidation_0-logloss:0.28512\n",
            "[474]\tvalidation_0-logloss:0.28498\n",
            "[475]\tvalidation_0-logloss:0.28468\n",
            "[476]\tvalidation_0-logloss:0.28459\n",
            "[477]\tvalidation_0-logloss:0.28432\n",
            "[478]\tvalidation_0-logloss:0.28438\n",
            "[479]\tvalidation_0-logloss:0.28434\n",
            "[480]\tvalidation_0-logloss:0.28431\n",
            "[481]\tvalidation_0-logloss:0.28433\n",
            "[482]\tvalidation_0-logloss:0.28424\n",
            "[483]\tvalidation_0-logloss:0.28412\n",
            "[484]\tvalidation_0-logloss:0.28416\n",
            "[485]\tvalidation_0-logloss:0.28405\n",
            "[486]\tvalidation_0-logloss:0.28408\n",
            "[487]\tvalidation_0-logloss:0.28406\n",
            "[488]\tvalidation_0-logloss:0.28402\n",
            "[489]\tvalidation_0-logloss:0.28402\n",
            "[490]\tvalidation_0-logloss:0.28406\n",
            "[491]\tvalidation_0-logloss:0.28398\n",
            "[492]\tvalidation_0-logloss:0.28387\n",
            "[493]\tvalidation_0-logloss:0.28408\n",
            "[494]\tvalidation_0-logloss:0.28400\n",
            "[495]\tvalidation_0-logloss:0.28382\n",
            "[496]\tvalidation_0-logloss:0.28389\n",
            "[497]\tvalidation_0-logloss:0.28386\n",
            "[498]\tvalidation_0-logloss:0.28398\n",
            "[499]\tvalidation_0-logloss:0.28396\n",
            "[500]\tvalidation_0-logloss:0.28397\n",
            "[501]\tvalidation_0-logloss:0.28402\n",
            "[502]\tvalidation_0-logloss:0.28392\n",
            "[503]\tvalidation_0-logloss:0.28372\n",
            "[504]\tvalidation_0-logloss:0.28375\n",
            "[505]\tvalidation_0-logloss:0.28380\n",
            "[506]\tvalidation_0-logloss:0.28350\n",
            "[507]\tvalidation_0-logloss:0.28342\n",
            "[508]\tvalidation_0-logloss:0.28316\n",
            "[509]\tvalidation_0-logloss:0.28331\n",
            "[510]\tvalidation_0-logloss:0.28328\n",
            "[511]\tvalidation_0-logloss:0.28319\n",
            "[512]\tvalidation_0-logloss:0.28301\n",
            "[513]\tvalidation_0-logloss:0.28317\n",
            "[514]\tvalidation_0-logloss:0.28306\n",
            "[515]\tvalidation_0-logloss:0.28316\n",
            "[516]\tvalidation_0-logloss:0.28306\n",
            "[517]\tvalidation_0-logloss:0.28304\n",
            "[518]\tvalidation_0-logloss:0.28304\n",
            "[519]\tvalidation_0-logloss:0.28293\n",
            "[520]\tvalidation_0-logloss:0.28287\n",
            "[521]\tvalidation_0-logloss:0.28313\n",
            "[522]\tvalidation_0-logloss:0.28315\n",
            "[523]\tvalidation_0-logloss:0.28310\n",
            "[524]\tvalidation_0-logloss:0.28312\n",
            "[525]\tvalidation_0-logloss:0.28324\n",
            "[526]\tvalidation_0-logloss:0.28338\n",
            "[527]\tvalidation_0-logloss:0.28325\n",
            "[528]\tvalidation_0-logloss:0.28333\n",
            "[529]\tvalidation_0-logloss:0.28310\n",
            "[530]\tvalidation_0-logloss:0.28328\n",
            "[531]\tvalidation_0-logloss:0.28325\n",
            "[532]\tvalidation_0-logloss:0.28324\n",
            "[533]\tvalidation_0-logloss:0.28331\n",
            "[534]\tvalidation_0-logloss:0.28315\n",
            "[535]\tvalidation_0-logloss:0.28308\n",
            "[536]\tvalidation_0-logloss:0.28314\n",
            "[537]\tvalidation_0-logloss:0.28317\n",
            "[538]\tvalidation_0-logloss:0.28338\n",
            "[539]\tvalidation_0-logloss:0.28345\n",
            "[540]\tvalidation_0-logloss:0.28342\n",
            "[541]\tvalidation_0-logloss:0.28337\n",
            "[542]\tvalidation_0-logloss:0.28350\n",
            "[543]\tvalidation_0-logloss:0.28335\n",
            "[544]\tvalidation_0-logloss:0.28342\n",
            "[545]\tvalidation_0-logloss:0.28326\n",
            "[546]\tvalidation_0-logloss:0.28329\n",
            "[547]\tvalidation_0-logloss:0.28329\n",
            "[548]\tvalidation_0-logloss:0.28316\n",
            "[549]\tvalidation_0-logloss:0.28303\n",
            "[550]\tvalidation_0-logloss:0.28308\n",
            "[551]\tvalidation_0-logloss:0.28305\n",
            "[552]\tvalidation_0-logloss:0.28298\n",
            "[553]\tvalidation_0-logloss:0.28328\n",
            "[554]\tvalidation_0-logloss:0.28323\n",
            "[555]\tvalidation_0-logloss:0.28304\n",
            "[556]\tvalidation_0-logloss:0.28309\n",
            "[557]\tvalidation_0-logloss:0.28316\n",
            "[558]\tvalidation_0-logloss:0.28330\n",
            "[559]\tvalidation_0-logloss:0.28313\n",
            "[560]\tvalidation_0-logloss:0.28319\n",
            "[561]\tvalidation_0-logloss:0.28307\n",
            "[562]\tvalidation_0-logloss:0.28311\n",
            "[563]\tvalidation_0-logloss:0.28312\n",
            "[564]\tvalidation_0-logloss:0.28312\n",
            "[565]\tvalidation_0-logloss:0.28320\n",
            "[566]\tvalidation_0-logloss:0.28315\n",
            "[567]\tvalidation_0-logloss:0.28310\n",
            "[568]\tvalidation_0-logloss:0.28292\n",
            "[569]\tvalidation_0-logloss:0.28279\n",
            "[570]\tvalidation_0-logloss:0.28293\n",
            "[571]\tvalidation_0-logloss:0.28299\n",
            "[572]\tvalidation_0-logloss:0.28296\n",
            "[573]\tvalidation_0-logloss:0.28304\n",
            "[574]\tvalidation_0-logloss:0.28282\n",
            "[575]\tvalidation_0-logloss:0.28278\n",
            "[576]\tvalidation_0-logloss:0.28271\n",
            "[577]\tvalidation_0-logloss:0.28281\n",
            "[578]\tvalidation_0-logloss:0.28294\n",
            "[579]\tvalidation_0-logloss:0.28303\n",
            "[580]\tvalidation_0-logloss:0.28282\n",
            "[581]\tvalidation_0-logloss:0.28292\n",
            "[582]\tvalidation_0-logloss:0.28302\n",
            "[583]\tvalidation_0-logloss:0.28306\n",
            "[584]\tvalidation_0-logloss:0.28307\n",
            "[585]\tvalidation_0-logloss:0.28314\n",
            "[586]\tvalidation_0-logloss:0.28321\n",
            "[587]\tvalidation_0-logloss:0.28310\n",
            "[588]\tvalidation_0-logloss:0.28322\n",
            "[589]\tvalidation_0-logloss:0.28321\n",
            "[590]\tvalidation_0-logloss:0.28325\n",
            "[591]\tvalidation_0-logloss:0.28306\n",
            "[592]\tvalidation_0-logloss:0.28312\n",
            "[593]\tvalidation_0-logloss:0.28294\n",
            "[594]\tvalidation_0-logloss:0.28313\n",
            "[595]\tvalidation_0-logloss:0.28348\n",
            "[596]\tvalidation_0-logloss:0.28337\n",
            "[597]\tvalidation_0-logloss:0.28334\n",
            "[598]\tvalidation_0-logloss:0.28349\n",
            "[599]\tvalidation_0-logloss:0.28352\n",
            "[600]\tvalidation_0-logloss:0.28359\n",
            "[601]\tvalidation_0-logloss:0.28357\n",
            "[602]\tvalidation_0-logloss:0.28352\n",
            "[603]\tvalidation_0-logloss:0.28365\n",
            "[604]\tvalidation_0-logloss:0.28369\n",
            "[605]\tvalidation_0-logloss:0.28357\n",
            "[606]\tvalidation_0-logloss:0.28330\n",
            "[607]\tvalidation_0-logloss:0.28343\n",
            "[608]\tvalidation_0-logloss:0.28340\n",
            "[609]\tvalidation_0-logloss:0.28335\n",
            "[610]\tvalidation_0-logloss:0.28335\n",
            "[611]\tvalidation_0-logloss:0.28363\n",
            "[612]\tvalidation_0-logloss:0.28374\n",
            "[613]\tvalidation_0-logloss:0.28384\n",
            "[614]\tvalidation_0-logloss:0.28391\n",
            "[615]\tvalidation_0-logloss:0.28374\n",
            "[616]\tvalidation_0-logloss:0.28393\n",
            "[617]\tvalidation_0-logloss:0.28388\n",
            "[618]\tvalidation_0-logloss:0.28390\n",
            "[619]\tvalidation_0-logloss:0.28397\n",
            "[620]\tvalidation_0-logloss:0.28403\n",
            "[621]\tvalidation_0-logloss:0.28396\n",
            "[622]\tvalidation_0-logloss:0.28396\n",
            "[623]\tvalidation_0-logloss:0.28408\n",
            "[624]\tvalidation_0-logloss:0.28411\n",
            "[625]\tvalidation_0-logloss:0.28418\n",
            "[626]\tvalidation_0-logloss:0.28424\n",
            "Stopping. Best iteration:\n",
            "[576]\tvalidation_0-logloss:0.28271\n",
            "\n",
            "CPU times: user 14min 14s, sys: 3.19 s, total: 14min 18s\n",
            "Wall time: 2min 11s\n"
          ]
        },
        {
          "data": {
            "text/plain": [
              "XGBClassifier(base_score=0.5, booster='gbtree', colsample_bylevel=1,\n",
              "              colsample_bynode=1, colsample_bytree=0.7, gamma=0, gpu_id=-1,\n",
              "              importance_type='gain', interaction_constraints='',\n",
              "              learning_rate=0.01, max_delta_step=3, max_depth=8,\n",
              "              min_child_weight=1, missing=nan, monotone_constraints='()',\n",
              "              n_estimators=818, n_jobs=0, num_parallel_tree=1, random_state=0,\n",
              "              reg_alpha=0, reg_lambda=2, scale_pos_weight=5, silent=True,\n",
              "              subsample=0.5, tree_method='exact', validate_parameters=1,\n",
              "              verbosity=None)"
            ]
          },
          "execution_count": 115,
          "metadata": {},
          "output_type": "execute_result"
        }
      ],
      "source": [
        "%%time\n",
        "eval_set = [(X_valid, y_valid)]\n",
        "eval_metric = [\"logloss\"]\n",
        "modelxc.fit(X_train, y_train,early_stopping_rounds=50, eval_metric=eval_metric, eval_set=eval_set)"
      ]
    },
    {
      "cell_type": "markdown",
      "metadata": {
        "id": "sZhhlakpHYLJ"
      },
      "source": [
        "Evaluating the model"
      ]
    },
    {
      "cell_type": "code",
      "execution_count": null,
      "metadata": {
        "id": "ocIJ7LB4HYLJ",
        "outputId": "291dd81a-aa50-4685-d0b6-023c932038d1"
      },
      "outputs": [
        {
          "data": {
            "text/plain": [
              "0.8646232439335888"
            ]
          },
          "execution_count": 116,
          "metadata": {},
          "output_type": "execute_result"
        }
      ],
      "source": [
        "predictions = modelxc.predict_proba(X_valid)[:, -1]\n",
        "\n",
        "score = roc_auc_score(y_valid, predictions)\n",
        "score"
      ]
    },
    {
      "cell_type": "code",
      "execution_count": null,
      "metadata": {
        "id": "oO5AeeP6HYLJ",
        "outputId": "bcf48989-979b-4eef-cef4-5869185b94db"
      },
      "outputs": [
        {
          "data": {
            "text/plain": [
              "Pred\n",
              "0.0     307\n",
              "1.0      46\n",
              "dtype: int64"
            ]
          },
          "execution_count": 117,
          "metadata": {},
          "output_type": "execute_result"
        }
      ],
      "source": [
        "predcs = modelxc.predict(X_valid)\n",
        "dfx=pd.DataFrame(predcs, columns=['Pred'])\n",
        "dfx.value_counts()"
      ]
    },
    {
      "cell_type": "code",
      "execution_count": null,
      "metadata": {
        "id": "9s_tNSc5HYLJ"
      },
      "outputs": [],
      "source": [
        "y_pred_iso=predcs\n",
        "y_test=y_valid"
      ]
    },
    {
      "cell_type": "code",
      "execution_count": null,
      "metadata": {
        "id": "OVbtFS_IHYLJ",
        "outputId": "864d8ba3-4eb7-43b0-f63e-5a5c17404dbb"
      },
      "outputs": [
        {
          "name": "stdout",
          "output_type": "stream",
          "text": [
            "accuracy score 0.8838526912181303\n",
            "precision_score 0.29879465366466906\n",
            "recall_score 0.3695652173913043\n",
            "f1_score 0.4533333333333333\n"
          ]
        }
      ],
      "source": [
        "from sklearn.metrics import accuracy_score,average_precision_score,recall_score,f1_score,confusion_matrix\n",
        "\n",
        "print('accuracy score', accuracy_score(y_pred_iso, y_test))\n",
        "cmiso = confusion_matrix(y_pred_iso, y_test)\n",
        "print('precision_score', average_precision_score(y_pred_iso, y_test))\n",
        "print('recall_score', recall_score(y_pred_iso, y_test))\n",
        "print('f1_score',f1_score(y_pred_iso,y_test))"
      ]
    },
    {
      "cell_type": "code",
      "execution_count": null,
      "metadata": {
        "id": "FX1VmwKSHYLL"
      },
      "outputs": [],
      "source": [
        "tn, fp, fn, tp = cmiso.ravel()"
      ]
    },
    {
      "cell_type": "code",
      "execution_count": null,
      "metadata": {
        "id": "DGz6r-T7HYLL",
        "outputId": "dd5da887-32ed-4cb8-8da7-d5d9ac56cf4e"
      },
      "outputs": [
        {
          "data": {
            "text/plain": [
              "0.03908794788273615"
            ]
          },
          "execution_count": 121,
          "metadata": {},
          "output_type": "execute_result"
        }
      ],
      "source": [
        "fpr=fp/(tn+fp)\n",
        "fpr"
      ]
    },
    {
      "cell_type": "markdown",
      "metadata": {
        "id": "h6xr_iHjHYLL"
      },
      "source": [
        "## test with generated sample data"
      ]
    },
    {
      "cell_type": "code",
      "execution_count": null,
      "metadata": {
        "id": "yD0EI02sHYLM",
        "outputId": "b4d889c6-6bc6-4827-9314-18a7e18f939f"
      },
      "outputs": [
        {
          "data": {
            "text/html": [
              "<div>\n",
              "<style scoped>\n",
              "    .dataframe tbody tr th:only-of-type {\n",
              "        vertical-align: middle;\n",
              "    }\n",
              "\n",
              "    .dataframe tbody tr th {\n",
              "        vertical-align: top;\n",
              "    }\n",
              "\n",
              "    .dataframe thead th {\n",
              "        text-align: right;\n",
              "    }\n",
              "</style>\n",
              "<table border=\"1\" class=\"dataframe\">\n",
              "  <thead>\n",
              "    <tr style=\"text-align: right;\">\n",
              "      <th></th>\n",
              "      <th>timestamp</th>\n",
              "      <th>feature_1</th>\n",
              "      <th>feature_2</th>\n",
              "      <th>feature_3</th>\n",
              "      <th>Actual_Class</th>\n",
              "    </tr>\n",
              "  </thead>\n",
              "  <tbody>\n",
              "    <tr>\n",
              "      <th>0</th>\n",
              "      <td>2019-01-01T00:00:04Z</td>\n",
              "      <td>100</td>\n",
              "      <td>312</td>\n",
              "      <td>52.0</td>\n",
              "      <td>1</td>\n",
              "    </tr>\n",
              "    <tr>\n",
              "      <th>1</th>\n",
              "      <td>2019-01-02T17:59:11Z</td>\n",
              "      <td>100</td>\n",
              "      <td>160</td>\n",
              "      <td>1.6</td>\n",
              "      <td>0</td>\n",
              "    </tr>\n",
              "  </tbody>\n",
              "</table>\n",
              "</div>"
            ],
            "text/plain": [
              "              timestamp  feature_1  feature_2  feature_3  Actual_Class\n",
              "0  2019-01-01T00:00:04Z        100        312       52.0             1\n",
              "1  2019-01-02T17:59:11Z        100        160        1.6             0"
            ]
          },
          "execution_count": 122,
          "metadata": {},
          "output_type": "execute_result"
        }
      ],
      "source": []
    },
    {
      "cell_type": "code",
      "execution_count": null,
      "metadata": {
        "id": "ACXsqZigHYLM"
      },
      "outputs": [],
      "source": [
        "wy_test=wtest['Actual_Class']"
      ]
    },
    {
      "cell_type": "code",
      "execution_count": null,
      "metadata": {
        "id": "BdzSb21oHYLM"
      },
      "outputs": [],
      "source": [
        "wtest.drop(['timestamp','Actual_Class'],axis=1,inplace=True)"
      ]
    },
    {
      "cell_type": "code",
      "execution_count": null,
      "metadata": {
        "id": "LTM4a-thHYLM",
        "outputId": "e6f10ff1-a2ca-474b-8e54-91108985f8fd"
      },
      "outputs": [
        {
          "data": {
            "text/html": [
              "<div>\n",
              "<style scoped>\n",
              "    .dataframe tbody tr th:only-of-type {\n",
              "        vertical-align: middle;\n",
              "    }\n",
              "\n",
              "    .dataframe tbody tr th {\n",
              "        vertical-align: top;\n",
              "    }\n",
              "\n",
              "    .dataframe thead th {\n",
              "        text-align: right;\n",
              "    }\n",
              "</style>\n",
              "<table border=\"1\" class=\"dataframe\">\n",
              "  <thead>\n",
              "    <tr style=\"text-align: right;\">\n",
              "      <th></th>\n",
              "      <th>feature_1</th>\n",
              "      <th>feature_2</th>\n",
              "      <th>feature_3</th>\n",
              "    </tr>\n",
              "  </thead>\n",
              "  <tbody>\n",
              "    <tr>\n",
              "      <th>0</th>\n",
              "      <td>100</td>\n",
              "      <td>312</td>\n",
              "      <td>52.0000</td>\n",
              "    </tr>\n",
              "    <tr>\n",
              "      <th>1</th>\n",
              "      <td>100</td>\n",
              "      <td>160</td>\n",
              "      <td>1.6000</td>\n",
              "    </tr>\n",
              "    <tr>\n",
              "      <th>2</th>\n",
              "      <td>20</td>\n",
              "      <td>83</td>\n",
              "      <td>4.1500</td>\n",
              "    </tr>\n",
              "    <tr>\n",
              "      <th>3</th>\n",
              "      <td>1200</td>\n",
              "      <td>90</td>\n",
              "      <td>2.0000</td>\n",
              "    </tr>\n",
              "    <tr>\n",
              "      <th>4</th>\n",
              "      <td>36</td>\n",
              "      <td>41</td>\n",
              "      <td>1.1388</td>\n",
              "    </tr>\n",
              "  </tbody>\n",
              "</table>\n",
              "</div>"
            ],
            "text/plain": [
              "   feature_1  feature_2  feature_3\n",
              "0        100        312    52.0000\n",
              "1        100        160     1.6000\n",
              "2         20         83     4.1500\n",
              "3       1200         90     2.0000\n",
              "4         36         41     1.1388"
            ]
          },
          "execution_count": 125,
          "metadata": {},
          "output_type": "execute_result"
        }
      ],
      "source": [
        "wtest.head()"
      ]
    },
    {
      "cell_type": "code",
      "execution_count": null,
      "metadata": {
        "id": "m6FjYseNHYLM",
        "outputId": "267ea6d0-1643-4277-e515-6734cf756ecd"
      },
      "outputs": [
        {
          "data": {
            "text/plain": [
              "Predns\n",
              "0.0       7\n",
              "dtype: int64"
            ]
          },
          "execution_count": 126,
          "metadata": {},
          "output_type": "execute_result"
        }
      ],
      "source": [
        "predcst = modelxc.predict(wtest)\n",
        "dfxt=pd.DataFrame(predcst, columns=['Predns'])\n",
        "dfxt.value_counts()"
      ]
    },
    {
      "cell_type": "code",
      "execution_count": null,
      "metadata": {
        "id": "DkucPiwOHYLM"
      },
      "outputs": [],
      "source": [
        "wy_pred_iso=predcst"
      ]
    },
    {
      "cell_type": "code",
      "execution_count": null,
      "metadata": {
        "id": "ocbpkdPWHYLM",
        "outputId": "b2107c48-b51e-4606-93ed-a2d46d38ac55"
      },
      "outputs": [
        {
          "data": {
            "text/plain": [
              "0.5714285714285714"
            ]
          },
          "execution_count": 128,
          "metadata": {},
          "output_type": "execute_result"
        }
      ],
      "source": [
        "cmisot = confusion_matrix(wy_pred_iso, wy_test)\n",
        "tnt, fpt, fnt, tpt = cmisot.ravel()\n",
        "fprt=fpt/(tnt+fpt)\n",
        "fprt"
      ]
    },
    {
      "cell_type": "code",
      "execution_count": null,
      "metadata": {
        "id": "RwK-dGi4HYLN"
      },
      "outputs": [],
      "source": [
        "#didn't pick out any anomalies"
      ]
    },
    {
      "cell_type": "code",
      "execution_count": null,
      "metadata": {
        "id": "UGaQ7YocHYLN",
        "outputId": "900c2b9e-3d32-4612-cf45-afe9737d964f"
      },
      "outputs": [
        {
          "data": {
            "text/plain": [
              "XGBClassifier(base_score=0.5, booster='gbtree', colsample_bylevel=1,\n",
              "              colsample_bynode=1, colsample_bytree=0.7, gamma=0, gpu_id=-1,\n",
              "              importance_type='gain', interaction_constraints='',\n",
              "              learning_rate=0.01, max_delta_step=3, max_depth=8,\n",
              "              min_child_weight=1, missing=nan, monotone_constraints='()',\n",
              "              n_estimators=818, n_jobs=0, num_parallel_tree=1, random_state=0,\n",
              "              reg_alpha=0, reg_lambda=2, scale_pos_weight=5, silent=True,\n",
              "              subsample=0.5, tree_method='exact', validate_parameters=1,\n",
              "              verbosity=None)"
            ]
          },
          "execution_count": 130,
          "metadata": {},
          "output_type": "execute_result"
        }
      ],
      "source": [
        "#xgb\n",
        "modelxc"
      ]
    },
    {
      "cell_type": "code",
      "execution_count": null,
      "metadata": {
        "id": "zz-P_agKHYLN"
      },
      "outputs": [],
      "source": [
        "#no anomalies predicted with xg bosst"
      ]
    },
    {
      "cell_type": "code",
      "execution_count": null,
      "metadata": {
        "id": "PCHbsgZIHYLN"
      },
      "outputs": [],
      "source": [
        "import seaborn as sns\n",
        "import matplotlib.pyplot as plt\n",
        "from sklearn.ensemble import IsolationForest\n",
        "from sklearn.metrics import confusion_matrix, accuracy_score, f1_score, precision_score, recall_score, average_precision_score\n",
        "from sklearn.preprocessing import StandardScaler"
      ]
    },
    {
      "cell_type": "code",
      "execution_count": null,
      "metadata": {
        "id": "omz3q34fHYLN"
      },
      "outputs": [],
      "source": [
        "sc = StandardScaler()\n",
        "X_train_std = sc.fit_transform(X_train)\n",
        "X_valid_std = sc.transform(X_valid)"
      ]
    },
    {
      "cell_type": "code",
      "execution_count": null,
      "metadata": {
        "id": "W6sLmDnTHYLO",
        "outputId": "9a0085ac-a8c1-4433-ad0a-21ac5f1ce075"
      },
      "outputs": [
        {
          "name": "stdout",
          "output_type": "stream",
          "text": [
            "{'behaviour': 'deprecated', 'bootstrap': False, 'contamination': 0.2, 'max_features': 1.0, 'max_samples': 'auto', 'n_estimators': 100, 'n_jobs': None, 'random_state': RandomState(MT19937) at 0x7F7297A10570, 'verbose': 0, 'warm_start': False}\n"
          ]
        }
      ],
      "source": [
        "random_state = np.random.RandomState(42)\n",
        "modeli=IsolationForest(n_estimators=100,max_samples='auto',contamination=float(0.2),random_state=random_state)\n",
        "\n",
        "modeli.fit(X_train)\n",
        "\n",
        "print(modeli.get_params())"
      ]
    },
    {
      "cell_type": "code",
      "execution_count": null,
      "metadata": {
        "id": "7Y1lKgXAHYLO",
        "outputId": "7da98742-4b98-4f83-c5ef-9a7511d111b5"
      },
      "outputs": [
        {
          "data": {
            "text/html": [
              "<div>\n",
              "<style scoped>\n",
              "    .dataframe tbody tr th:only-of-type {\n",
              "        vertical-align: middle;\n",
              "    }\n",
              "\n",
              "    .dataframe tbody tr th {\n",
              "        vertical-align: top;\n",
              "    }\n",
              "\n",
              "    .dataframe thead th {\n",
              "        text-align: right;\n",
              "    }\n",
              "</style>\n",
              "<table border=\"1\" class=\"dataframe\">\n",
              "  <thead>\n",
              "    <tr style=\"text-align: right;\">\n",
              "      <th></th>\n",
              "      <th>feature_1</th>\n",
              "      <th>feature_2</th>\n",
              "      <th>feature_3</th>\n",
              "    </tr>\n",
              "  </thead>\n",
              "  <tbody>\n",
              "    <tr>\n",
              "      <th>0</th>\n",
              "      <td>100</td>\n",
              "      <td>312</td>\n",
              "      <td>52.0</td>\n",
              "    </tr>\n",
              "    <tr>\n",
              "      <th>1</th>\n",
              "      <td>100</td>\n",
              "      <td>160</td>\n",
              "      <td>1.6</td>\n",
              "    </tr>\n",
              "  </tbody>\n",
              "</table>\n",
              "</div>"
            ],
            "text/plain": [
              "   feature_1  feature_2  feature_3\n",
              "0        100        312       52.0\n",
              "1        100        160        1.6"
            ]
          },
          "execution_count": 135,
          "metadata": {},
          "output_type": "execute_result"
        }
      ],
      "source": [
        "wtest.head(2)"
      ]
    },
    {
      "cell_type": "code",
      "execution_count": null,
      "metadata": {
        "id": "p74fURP8HYLP",
        "outputId": "966190fc-3b54-42f5-ecd9-5848e1350003"
      },
      "outputs": [
        {
          "data": {
            "text/plain": [
              "0    1\n",
              "1    0\n",
              "Name: Actual_Class, dtype: int64"
            ]
          },
          "execution_count": 136,
          "metadata": {},
          "output_type": "execute_result"
        }
      ],
      "source": [
        "wy_test.head(2)"
      ]
    },
    {
      "cell_type": "code",
      "execution_count": null,
      "metadata": {
        "id": "gi4wZtrNHYLP"
      },
      "outputs": [],
      "source": [
        "scores = modeli.decision_function(wtest)\n",
        "\n",
        "anomaly_score = modeli.predict(wtest)"
      ]
    },
    {
      "cell_type": "code",
      "execution_count": null,
      "metadata": {
        "id": "TeWVKWMlHYLP",
        "outputId": "db20a7fe-c8ef-460a-9849-45fc792e5ffc"
      },
      "outputs": [
        {
          "data": {
            "text/plain": [
              "4"
            ]
          },
          "execution_count": 138,
          "metadata": {},
          "output_type": "execute_result"
        }
      ],
      "source": [
        "anomaly_count=list(anomaly_score).count(-1)\n",
        "anomaly_count"
      ]
    },
    {
      "cell_type": "code",
      "execution_count": null,
      "metadata": {
        "id": "QSNHgpDVHYLP",
        "outputId": "e1eab3ea-30bd-4972-da85-9ec32a822749"
      },
      "outputs": [
        {
          "data": {
            "text/plain": [
              "-0.11608955711268597"
            ]
          },
          "execution_count": 139,
          "metadata": {},
          "output_type": "execute_result"
        }
      ],
      "source": [
        "#average_anomaly_score\n",
        "scores.mean()"
      ]
    },
    {
      "cell_type": "code",
      "execution_count": null,
      "metadata": {
        "id": "BRxXzdwKHYLP"
      },
      "outputs": [],
      "source": [
        "#tukey's method"
      ]
    },
    {
      "cell_type": "code",
      "execution_count": null,
      "metadata": {
        "id": "kuAPs_OtHYLP"
      },
      "outputs": [],
      "source": [
        "def tukey(x, k = 1.5):\n",
        "    x = np.array(x).copy().astype(float)\n",
        "    first_quartile = np.quantile(x, .25)\n",
        "    third_quartile = np.quantile(x, .75)\n",
        "    \n",
        "    # Define IQR\n",
        "    iqr = third_quartile - first_quartile\n",
        "    \n",
        "    ### Define the allowed limits for 'Normal Data'\n",
        "    lower_allowed_limit = first_quartile - (k * iqr)\n",
        "    upper_allowed_limit = third_quartile + (k * iqr)\n",
        "    \n",
        "    #set values below the lower limit/above the upper limit as nan\n",
        "    x[(x<lower_allowed_limit) | (x>upper_allowed_limit)] = np.nan\n",
        "    return x"
      ]
    },
    {
      "cell_type": "code",
      "execution_count": null,
      "metadata": {
        "id": "tuPmG6tYHYLQ"
      },
      "outputs": [],
      "source": [
        "tx=tukey(scores)"
      ]
    },
    {
      "cell_type": "code",
      "execution_count": null,
      "metadata": {
        "id": "AiBuw4e_HYLQ",
        "outputId": "e090fc3f-a459-4b37-c617-6e93c0324f1b"
      },
      "outputs": [
        {
          "data": {
            "image/png": "[encoded data removed]",
            "text/plain": [
              "<Figure size 720x504 with 1 Axes>"
            ]
          },
          "metadata": {
            "needs_background": "light"
          },
          "output_type": "display_data"
        }
      ],
      "source": [
        "# Creating histogram\n",
        "fig, ax = plt.subplots(figsize =(10, 7))\n",
        "ax.hist(tx)\n",
        " \n",
        "# Show plot\n",
        "plt.show()"
      ]
    },
    {
      "cell_type": "code",
      "execution_count": null,
      "metadata": {
        "id": "TzPpXncYHYLQ",
        "outputId": "ea2b4262-1922-4bb9-878b-1eefe8cc6fa5"
      },
      "outputs": [
        {
          "data": {
            "image/png": "[encoded data removed]",
            "text/plain": [
              "<Figure size 720x504 with 1 Axes>"
            ]
          },
          "metadata": {
            "needs_background": "light"
          },
          "output_type": "display_data"
        }
      ],
      "source": [
        "fig = plt.figure(figsize =(10, 7))\n",
        " \n",
        "# Creating plot\n",
        "plt.boxplot(tx,vert=False)\n",
        " \n",
        "# show plot\n",
        "plt.show()"
      ]
    },
    {
      "cell_type": "code",
      "execution_count": null,
      "metadata": {
        "id": "L-cbihtnHYLQ"
      },
      "outputs": [],
      "source": [
        "#Mahalanobis Distance Method using FastMCD Algorithm is another option for multivariate anomaly detection"
      ]
    },
    {
      "cell_type": "code",
      "execution_count": null,
      "metadata": {
        "id": "93oWq2GwHYLR"
      },
      "outputs": [],
      "source": [
        "mx_train=X_train"
      ]
    },
    {
      "cell_type": "code",
      "execution_count": null,
      "metadata": {
        "id": "8wxpqA07HYLR",
        "outputId": "9031e67d-2af7-44c9-a800-c31bd68c480c"
      },
      "outputs": [
        {
          "data": {
            "text/plain": [
              "EllipticEnvelope(contamination=0.0075, random_state=0)"
            ]
          },
          "execution_count": 147,
          "metadata": {},
          "output_type": "execute_result"
        }
      ],
      "source": [
        "from mpl_toolkits import mplot3d\n",
        "from sklearn import covariance\n",
        "el = covariance.EllipticEnvelope(store_precision=True, assume_centered=False, support_fraction=None, \n",
        "                                    contamination=0.0075, random_state=0)\n",
        "# Fit the data - this is where FastMCD is used by sklearn\n",
        "el.fit(mx_train)\n",
        "# Create column that shows anomaly status\n"
      ]
    },
    {
      "cell_type": "code",
      "execution_count": null,
      "metadata": {
        "id": "oz-sV_EwHYLR",
        "outputId": "c913274d-26f5-4740-bf5d-1469804b2f5a"
      },
      "outputs": [
        {
          "data": {
            "text/html": [
              "<div>\n",
              "<style scoped>\n",
              "    .dataframe tbody tr th:only-of-type {\n",
              "        vertical-align: middle;\n",
              "    }\n",
              "\n",
              "    .dataframe tbody tr th {\n",
              "        vertical-align: top;\n",
              "    }\n",
              "\n",
              "    .dataframe thead th {\n",
              "        text-align: right;\n",
              "    }\n",
              "</style>\n",
              "<table border=\"1\" class=\"dataframe\">\n",
              "  <thead>\n",
              "    <tr style=\"text-align: right;\">\n",
              "      <th></th>\n",
              "      <th>feature_1</th>\n",
              "      <th>feature_2</th>\n",
              "      <th>feature_3</th>\n",
              "      <th>Anomaly or Not</th>\n",
              "    </tr>\n",
              "  </thead>\n",
              "  <tbody>\n",
              "    <tr>\n",
              "      <th>0</th>\n",
              "      <td>100</td>\n",
              "      <td>312</td>\n",
              "      <td>52.0</td>\n",
              "      <td>-1</td>\n",
              "    </tr>\n",
              "    <tr>\n",
              "      <th>1</th>\n",
              "      <td>100</td>\n",
              "      <td>160</td>\n",
              "      <td>1.6</td>\n",
              "      <td>1</td>\n",
              "    </tr>\n",
              "  </tbody>\n",
              "</table>\n",
              "</div>"
            ],
            "text/plain": [
              "   feature_1  feature_2  feature_3  Anomaly or Not\n",
              "0        100        312       52.0              -1\n",
              "1        100        160        1.6               1"
            ]
          },
          "execution_count": 148,
          "metadata": {},
          "output_type": "execute_result"
        }
      ],
      "source": [
        "etest=wtest\n",
        "etest['Anomaly or Not'] = el.predict(etest)"
      ]
    },
    {
      "cell_type": "code",
      "execution_count": null,
      "metadata": {
        "id": "uSvSoeVjHYLR",
        "outputId": "8774e75c-4d60-4525-f0e8-b8a35993b980"
      },
      "outputs": [
        {
          "data": {
            "text/html": [
              "<div>\n",
              "<style scoped>\n",
              "    .dataframe tbody tr th:only-of-type {\n",
              "        vertical-align: middle;\n",
              "    }\n",
              "\n",
              "    .dataframe tbody tr th {\n",
              "        vertical-align: top;\n",
              "    }\n",
              "\n",
              "    .dataframe thead th {\n",
              "        text-align: right;\n",
              "    }\n",
              "</style>\n",
              "<table border=\"1\" class=\"dataframe\">\n",
              "  <thead>\n",
              "    <tr style=\"text-align: right;\">\n",
              "      <th></th>\n",
              "      <th>feature_1</th>\n",
              "      <th>feature_2</th>\n",
              "      <th>feature_3</th>\n",
              "      <th>Anomaly or Not</th>\n",
              "    </tr>\n",
              "  </thead>\n",
              "  <tbody>\n",
              "    <tr>\n",
              "      <th>0</th>\n",
              "      <td>100</td>\n",
              "      <td>312</td>\n",
              "      <td>52.00</td>\n",
              "      <td>-1</td>\n",
              "    </tr>\n",
              "    <tr>\n",
              "      <th>1</th>\n",
              "      <td>100</td>\n",
              "      <td>160</td>\n",
              "      <td>1.60</td>\n",
              "      <td>1</td>\n",
              "    </tr>\n",
              "    <tr>\n",
              "      <th>2</th>\n",
              "      <td>20</td>\n",
              "      <td>83</td>\n",
              "      <td>4.15</td>\n",
              "      <td>1</td>\n",
              "    </tr>\n",
              "  </tbody>\n",
              "</table>\n",
              "</div>"
            ],
            "text/plain": [
              "   feature_1  feature_2  feature_3  Anomaly or Not\n",
              "0        100        312      52.00              -1\n",
              "1        100        160       1.60               1\n",
              "2         20         83       4.15               1"
            ]
          },
          "execution_count": 157,
          "metadata": {},
          "output_type": "execute_result"
        }
      ],
      "source": [
        "etest.head(3)"
      ]
    },
    {
      "cell_type": "code",
      "execution_count": null,
      "metadata": {
        "id": "RzWcyBn8HYLR",
        "outputId": "68fde763-0b97-41e6-b3a2-8df367912ea5"
      },
      "outputs": [
        {
          "data": {
            "image/png": "[encoded data removed]",
            "text/plain": [
              "<Figure size 1152x648 with 2 Axes>"
            ]
          },
          "metadata": {
            "needs_background": "light"
          },
          "output_type": "display_data"
        }
      ],
      "source": [
        "# Import libraries\n",
        "from mpl_toolkits import mplot3d\n",
        "import numpy as np\n",
        "import matplotlib.pyplot as plt\n",
        "\n",
        "\n",
        "x = etest['feature_1']\n",
        "y = etest['feature_2']\n",
        "z = etest['feature_3']\n",
        "\n",
        "# Creating figure\n",
        "fig = plt.figure(figsize = (16, 9))\n",
        "ax = plt.axes(projection =\"3d\")\n",
        "\n",
        "plt.xlabel('Var 1')\n",
        "plt.ylabel('Var 2')\n",
        "plt.ylabel('Var 3')\n",
        "\n",
        "# Add x, y gridlines\n",
        "ax.grid(b = True, color ='grey',\n",
        "\t\tlinestyle ='-.', linewidth = 0.3,\n",
        "\t\talpha = 0.2)\n",
        "\n",
        "\n",
        "# Creating color map\n",
        "my_cmap = plt.get_cmap('hsv')\n",
        "\n",
        "# Creating plot\n",
        "sctt = ax.scatter3D(x, y, z,\n",
        "\t\t\t\t\talpha = 0.8,\n",
        "\t\t\t\t\tc = etest['Anomaly or Not'],\n",
        "\t\t\t\t\tcmap = my_cmap,\n",
        "\t\t\t\t\tmarker ='^')\n",
        "\n",
        "plt.title(\"simple 3D scatter plot\")\n",
        "ax.set_xlabel('X-axis', fontweight ='bold')\n",
        "ax.set_ylabel('Y-axis', fontweight ='bold')\n",
        "ax.set_zlabel('Z-axis', fontweight ='bold')\n",
        "fig.colorbar(sctt, ax = ax, shrink = 0.5, aspect = 5)\n",
        "\n",
        "# show plot\n",
        "plt.show()\n"
      ]
    },
    {
      "cell_type": "code",
      "execution_count": null,
      "metadata": {
        "id": "KcchG_48HYLS"
      },
      "outputs": [],
      "source": [
        "summarydf=pd.DataFrame()"
      ]
    },
    {
      "cell_type": "code",
      "execution_count": null,
      "metadata": {
        "id": "04qaeQDeHYLS",
        "outputId": "de598daa-ee5f-4b14-dd6a-def00aeca4b7"
      },
      "outputs": [
        {
          "data": {
            "text/html": [
              "<div>\n",
              "<style scoped>\n",
              "    .dataframe tbody tr th:only-of-type {\n",
              "        vertical-align: middle;\n",
              "    }\n",
              "\n",
              "    .dataframe tbody tr th {\n",
              "        vertical-align: top;\n",
              "    }\n",
              "\n",
              "    .dataframe thead th {\n",
              "        text-align: right;\n",
              "    }\n",
              "</style>\n",
              "<table border=\"1\" class=\"dataframe\">\n",
              "  <thead>\n",
              "    <tr style=\"text-align: right;\">\n",
              "      <th></th>\n",
              "      <th>anomaly_score</th>\n",
              "      <th>scores</th>\n",
              "    </tr>\n",
              "  </thead>\n",
              "  <tbody>\n",
              "    <tr>\n",
              "      <th>0</th>\n",
              "      <td>-1</td>\n",
              "      <td>-0.291981</td>\n",
              "    </tr>\n",
              "    <tr>\n",
              "      <th>1</th>\n",
              "      <td>1</td>\n",
              "      <td>0.033216</td>\n",
              "    </tr>\n",
              "    <tr>\n",
              "      <th>2</th>\n",
              "      <td>1</td>\n",
              "      <td>0.034675</td>\n",
              "    </tr>\n",
              "    <tr>\n",
              "      <th>3</th>\n",
              "      <td>-1</td>\n",
              "      <td>-0.195971</td>\n",
              "    </tr>\n",
              "    <tr>\n",
              "      <th>4</th>\n",
              "      <td>1</td>\n",
              "      <td>0.043119</td>\n",
              "    </tr>\n",
              "    <tr>\n",
              "      <th>5</th>\n",
              "      <td>-1</td>\n",
              "      <td>-0.266879</td>\n",
              "    </tr>\n",
              "    <tr>\n",
              "      <th>6</th>\n",
              "      <td>-1</td>\n",
              "      <td>-0.168807</td>\n",
              "    </tr>\n",
              "  </tbody>\n",
              "</table>\n",
              "</div>"
            ],
            "text/plain": [
              "   anomaly_score    scores\n",
              "0             -1 -0.291981\n",
              "1              1  0.033216\n",
              "2              1  0.034675\n",
              "3             -1 -0.195971\n",
              "4              1  0.043119\n",
              "5             -1 -0.266879\n",
              "6             -1 -0.168807"
            ]
          },
          "execution_count": 226,
          "metadata": {},
          "output_type": "execute_result"
        }
      ],
      "source": [
        "summarydf['anomaly_score']=list(anomaly_score)\n",
        "summarydf['scores']=list(scores)\n",
        "summarydf"
      ]
    },
    {
      "cell_type": "code",
      "execution_count": null,
      "metadata": {
        "id": "uERtxthEHYLS"
      },
      "outputs": [],
      "source": [
        "summarydf.drop('scores',axis=1,inplace=True)"
      ]
    },
    {
      "cell_type": "code",
      "execution_count": null,
      "metadata": {
        "id": "my20M21iHYLS",
        "outputId": "1ea36e97-6ab0-4aa8-a1e0-282971e8a368"
      },
      "outputs": [
        {
          "data": {
            "text/plain": [
              "'\\nfor i in range(len(summarydf)):\\n    if (summarydf.anomaly_score[i]==-1):\\n        summarydf.anomaly_score[i]=1\\n    else:\\n        summarydf.anomaly_score[i]=0\\n'"
            ]
          },
          "execution_count": 228,
          "metadata": {},
          "output_type": "execute_result"
        }
      ],
      "source": [
        "'''\n",
        "for i in range(len(summarydf)):\n",
        "    if (summarydf.anomaly_score[i]==-1):\n",
        "        summarydf.anomaly_score[i]=1\n",
        "    else:\n",
        "        summarydf.anomaly_score[i]=0\n",
        "'''"
      ]
    },
    {
      "cell_type": "code",
      "execution_count": null,
      "metadata": {
        "id": "sWvPAyDiHYLS"
      },
      "outputs": [],
      "source": [
        "summarydf=summarydf.rename({'anomaly_score':'IF_anomaly'},axis=1)"
      ]
    },
    {
      "cell_type": "code",
      "execution_count": null,
      "metadata": {
        "id": "vj2JRyHbHYLS",
        "outputId": "6c889e93-bf99-4b33-c548-bb3121904e08"
      },
      "outputs": [
        {
          "data": {
            "text/plain": [
              "0.0"
            ]
          },
          "execution_count": 184,
          "metadata": {},
          "output_type": "execute_result"
        }
      ],
      "source": [
        "cmisow = confusion_matrix(summarydf.anomaly_score, wy_test)\n",
        "tnw, fpw, fnw, tpw = cmisow.ravel()\n",
        "fprw=fpw/(tnw+fpw)\n",
        "fprw"
      ]
    },
    {
      "cell_type": "code",
      "execution_count": null,
      "metadata": {
        "id": "LXhnVm93HYLS",
        "outputId": "f3c37c7f-04c8-4a5a-9b50-4e1476adab8a"
      },
      "outputs": [
        {
          "data": {
            "text/plain": [
              "array([[3, 0],\n",
              "       [0, 4]])"
            ]
          },
          "execution_count": 185,
          "metadata": {},
          "output_type": "execute_result"
        }
      ],
      "source": [
        "cmisow"
      ]
    },
    {
      "cell_type": "code",
      "execution_count": null,
      "metadata": {
        "id": "mpMm2QTrHYLT"
      },
      "outputs": [],
      "source": [
        "# Merging dataframes"
      ]
    },
    {
      "cell_type": "code",
      "execution_count": null,
      "metadata": {
        "id": "hJ3vj6HUHYLT"
      },
      "outputs": [],
      "source": [
        "etest.drop(['feature_1','feature_2','feature_3'],axis=1,inplace=True)"
      ]
    },
    {
      "cell_type": "code",
      "execution_count": null,
      "metadata": {
        "id": "xvEyFPcLHYLT"
      },
      "outputs": [],
      "source": [
        "etest=etest.rename({'Anomaly or Not':'EE_anomaly'},axis=1)"
      ]
    },
    {
      "cell_type": "code",
      "execution_count": null,
      "metadata": {
        "id": "njou_qjZHYLT"
      },
      "outputs": [],
      "source": [
        "atest=wy_test.to_frame()\n",
        "atest=atest.rename({'Actual_Class':'actual_anomaly'},axis=1)"
      ]
    },
    {
      "cell_type": "code",
      "execution_count": null,
      "metadata": {
        "id": "0L2gc6_hHYLT",
        "outputId": "88e44d03-4aba-4bbb-b543-277d488a6094"
      },
      "outputs": [
        {
          "name": "stdout",
          "output_type": "stream",
          "text": [
            "Comparing Anomalies\n",
            "A:I:E\n",
            "1:-1:-1\n",
            "0:1:1\n",
            "0:1:1\n",
            "1:-1:-1\n",
            "0:1:1\n",
            "1:-1:-1\n",
            "1:-1:-1\n"
          ]
        }
      ],
      "source": [
        "print('Comparing Anomalies')\n",
        "print('A:I:E')\n",
        "for i in range(7):\n",
        "    print(str(atest.actual_anomaly[i])+':'+str(summarydf.IF_anomaly[i])+':'+str(etest.EE_anomaly[i]))"
      ]
    },
    {
      "cell_type": "code",
      "execution_count": null,
      "metadata": {
        "id": "rBXucVqSHYLT"
      },
      "outputs": [],
      "source": [
        "#outlier detection"
      ]
    },
    {
      "cell_type": "code",
      "execution_count": null,
      "metadata": {
        "id": "CRMeRqMEHYLT",
        "outputId": "c4d2291b-d8fe-4002-e4c1-2f506be59db8"
      },
      "outputs": [
        {
          "data": {
            "text/html": [
              "<div>\n",
              "<style scoped>\n",
              "    .dataframe tbody tr th:only-of-type {\n",
              "        vertical-align: middle;\n",
              "    }\n",
              "\n",
              "    .dataframe tbody tr th {\n",
              "        vertical-align: top;\n",
              "    }\n",
              "\n",
              "    .dataframe thead th {\n",
              "        text-align: right;\n",
              "    }\n",
              "</style>\n",
              "<table border=\"1\" class=\"dataframe\">\n",
              "  <thead>\n",
              "    <tr style=\"text-align: right;\">\n",
              "      <th></th>\n",
              "      <th>feature_1</th>\n",
              "      <th>feature_2</th>\n",
              "      <th>feature_3</th>\n",
              "    </tr>\n",
              "  </thead>\n",
              "  <tbody>\n",
              "    <tr>\n",
              "      <th>0</th>\n",
              "      <td>100</td>\n",
              "      <td>312</td>\n",
              "      <td>52.0</td>\n",
              "    </tr>\n",
              "    <tr>\n",
              "      <th>1</th>\n",
              "      <td>100</td>\n",
              "      <td>160</td>\n",
              "      <td>1.6</td>\n",
              "    </tr>\n",
              "  </tbody>\n",
              "</table>\n",
              "</div>"
            ],
            "text/plain": [
              "   feature_1  feature_2  feature_3\n",
              "0        100        312       52.0\n",
              "1        100        160        1.6"
            ]
          },
          "execution_count": 237,
          "metadata": {},
          "output_type": "execute_result"
        }
      ],
      "source": [
        "tw = pd.read_csv(\"wdata/timerwtestactual.csv\")\n",
        "tw.drop(['timestamp','Actual_Class'],axis=1,inplace=True)\n",
        "tw.head(2)"
      ]
    },
    {
      "cell_type": "code",
      "execution_count": null,
      "metadata": {
        "id": "fknKf7jyHYLU"
      },
      "outputs": [],
      "source": [
        "# Z score\n",
        "from scipy import stats\n",
        "import numpy as np\n",
        "\n",
        "z1 = np.abs(stats.zscore(tw['feature_1']))\n",
        "z2 = np.abs(stats.zscore(tw['feature_2']))\n",
        "z3 = np.abs(stats.zscore(tw['feature_3']))"
      ]
    },
    {
      "cell_type": "code",
      "execution_count": null,
      "metadata": {
        "id": "Pl_PWmewHYLU",
        "outputId": "58ab89b7-a546-4ac1-8f38-929478b58d9f"
      },
      "outputs": [
        {
          "data": {
            "text/plain": [
              "array([2.79833431e-01, 2.79833431e-01, 4.77695454e-01, 2.44076937e+00,\n",
              "       4.38123049e-01, 4.82642004e-01, 4.82642004e-01, 2.15341710e-01,\n",
              "       3.65488223e-01, 4.41549286e-01, 4.34634644e-01, 4.83037138e-01,\n",
              "       4.99829840e-01, 2.43988084e+00, 1.54475945e-03, 4.88908024e-01,\n",
              "       4.64093448e-01, 4.85015541e-01, 4.93396056e-01, 2.41488385e+00,\n",
              "       4.85015541e-01])"
            ]
          },
          "execution_count": 239,
          "metadata": {},
          "output_type": "execute_result"
        }
      ],
      "source": [
        "zt=np.hstack(( z1,z2,z3 )).ravel()\n",
        "zt"
      ]
    },
    {
      "cell_type": "code",
      "execution_count": null,
      "metadata": {
        "id": "zxjVqrqNHYLU",
        "outputId": "920bcf00-3a7e-41d3-c1f6-d0f7232d4aed"
      },
      "outputs": [
        {
          "name": "stdout",
          "output_type": "stream",
          "text": [
            "(array([], dtype=int64),)\n"
          ]
        }
      ],
      "source": [
        "print(np.where(zt>3))"
      ]
    },
    {
      "cell_type": "code",
      "execution_count": null,
      "metadata": {
        "id": "vGJScIeOHYLU"
      },
      "outputs": [],
      "source": []
    },
    {
      "cell_type": "code",
      "execution_count": null,
      "metadata": {
        "id": "xU4yrJlWHYLU"
      },
      "outputs": [],
      "source": []
    },
    {
      "cell_type": "markdown",
      "metadata": {
        "id": "mR0-VrfNHYLU"
      },
      "source": [
        "## XGB regressor"
      ]
    },
    {
      "cell_type": "code",
      "execution_count": null,
      "metadata": {
        "id": "jgM9nwKLHYLV"
      },
      "outputs": [],
      "source": [
        "import xgboost\n",
        "from xgboost import XGBRegressor\n",
        "from sklearn.model_selection import cross_val_score\n",
        "from sklearn.model_selection import RepeatedKFold\n",
        "from numpy import absolute"
      ]
    },
    {
      "cell_type": "code",
      "execution_count": null,
      "metadata": {
        "id": "jNsoDN9FHYLV"
      },
      "outputs": [],
      "source": [
        "y=X_train['feature_2']\n",
        "X=X_train\n",
        "X=X.drop('feature_2',axis=1,inplace=True)"
      ]
    },
    {
      "cell_type": "code",
      "execution_count": null,
      "metadata": {
        "id": "RBBFl5PYHYLV",
        "outputId": "97db565c-fda4-4d8b-d5ae-925dc03e2ff2"
      },
      "outputs": [
        {
          "data": {
            "text/plain": [
              "XGBRegressor(base_score=0.5, booster='gbtree', colsample_bylevel=1,\n",
              "             colsample_bynode=1, colsample_bytree=1, gamma=0, gpu_id=-1,\n",
              "             importance_type='gain', interaction_constraints='',\n",
              "             learning_rate=0.300000012, max_delta_step=0, max_depth=6,\n",
              "             min_child_weight=1, missing=nan, monotone_constraints='()',\n",
              "             n_estimators=100, n_jobs=0, num_parallel_tree=1, random_state=0,\n",
              "             reg_alpha=0, reg_lambda=1, scale_pos_weight=1, subsample=1,\n",
              "             tree_method='exact', validate_parameters=1, verbosity=None)"
            ]
          },
          "execution_count": 245,
          "metadata": {},
          "output_type": "execute_result"
        }
      ],
      "source": [
        "modelx = XGBRegressor()\n",
        "modelx.fit(X_train, y)"
      ]
    },
    {
      "cell_type": "code",
      "execution_count": null,
      "metadata": {
        "id": "2yFmLWUIHYLV",
        "outputId": "fc81b21a-3dab-4daa-8175-55920fcc78be"
      },
      "outputs": [
        {
          "data": {
            "text/html": [
              "<div>\n",
              "<style scoped>\n",
              "    .dataframe tbody tr th:only-of-type {\n",
              "        vertical-align: middle;\n",
              "    }\n",
              "\n",
              "    .dataframe tbody tr th {\n",
              "        vertical-align: top;\n",
              "    }\n",
              "\n",
              "    .dataframe thead th {\n",
              "        text-align: right;\n",
              "    }\n",
              "</style>\n",
              "<table border=\"1\" class=\"dataframe\">\n",
              "  <thead>\n",
              "    <tr style=\"text-align: right;\">\n",
              "      <th></th>\n",
              "      <th>feature_1</th>\n",
              "      <th>feature_3</th>\n",
              "    </tr>\n",
              "  </thead>\n",
              "  <tbody>\n",
              "    <tr>\n",
              "      <th>0</th>\n",
              "      <td>100</td>\n",
              "      <td>52.0</td>\n",
              "    </tr>\n",
              "    <tr>\n",
              "      <th>1</th>\n",
              "      <td>100</td>\n",
              "      <td>1.6</td>\n",
              "    </tr>\n",
              "  </tbody>\n",
              "</table>\n",
              "</div>"
            ],
            "text/plain": [
              "   feature_1  feature_3\n",
              "0        100       52.0\n",
              "1        100        1.6"
            ]
          },
          "execution_count": 247,
          "metadata": {},
          "output_type": "execute_result"
        }
      ],
      "source": [
        "tws=tw[['feature_1','feature_3']]\n",
        "tws.head(2)"
      ]
    },
    {
      "cell_type": "code",
      "execution_count": null,
      "metadata": {
        "id": "LoFElpTYHYLW"
      },
      "outputs": [],
      "source": [
        "yhat = modelx.predict(tws)"
      ]
    },
    {
      "cell_type": "code",
      "execution_count": null,
      "metadata": {
        "id": "bhQLdVeeHYLW"
      },
      "outputs": [],
      "source": [
        "regpred=pd.DataFrame(yhat, columns=['feature_2']) "
      ]
    },
    {
      "cell_type": "code",
      "execution_count": null,
      "metadata": {
        "id": "YRKtNIOAHYLW"
      },
      "outputs": [],
      "source": [
        "regpred['feature_2']=(round(regpred['feature_2'],0)).astype(int)"
      ]
    },
    {
      "cell_type": "code",
      "execution_count": null,
      "metadata": {
        "id": "S6KfsWgzHYLW"
      },
      "outputs": [],
      "source": [
        "tw.drop(['feature_1','feature_3'],axis=1,inplace=True)"
      ]
    },
    {
      "cell_type": "code",
      "execution_count": null,
      "metadata": {
        "id": "xN5b4q_6HYLW",
        "outputId": "a45b8301-b463-4be2-86b9-7b8f670c6568"
      },
      "outputs": [
        {
          "name": "stdout",
          "output_type": "stream",
          "text": [
            "Comparing Predictions\n",
            "A:P\n",
            "312:530\n",
            "160:161\n",
            "83:83\n",
            "90:528\n",
            "41:39\n",
            "24:648\n",
            "3000:22\n"
          ]
        }
      ],
      "source": [
        "print('Comparing Predictions')\n",
        "print('A:P')\n",
        "for i in range(7):\n",
        "    print(str(tw.feature_2[i])+':'+str(regpred.feature_2[i]))"
      ]
    },
    {
      "cell_type": "markdown",
      "metadata": {
        "id": "jcuTT66cHYLW"
      },
      "source": [
        "## TS"
      ]
    },
    {
      "cell_type": "code",
      "execution_count": null,
      "metadata": {
        "id": "RS-gv-peHYLW"
      },
      "outputs": [],
      "source": [
        "import fbprophet\n",
        "from fbprophet import Prophet"
      ]
    },
    {
      "cell_type": "code",
      "execution_count": null,
      "metadata": {
        "id": "IIurL63mHYLW",
        "outputId": "8fab0034-0114-4c55-d4eb-d701422fdd06"
      },
      "outputs": [
        {
          "data": {
            "text/html": [
              "<div>\n",
              "<style scoped>\n",
              "    .dataframe tbody tr th:only-of-type {\n",
              "        vertical-align: middle;\n",
              "    }\n",
              "\n",
              "    .dataframe tbody tr th {\n",
              "        vertical-align: top;\n",
              "    }\n",
              "\n",
              "    .dataframe thead th {\n",
              "        text-align: right;\n",
              "    }\n",
              "</style>\n",
              "<table border=\"1\" class=\"dataframe\">\n",
              "  <thead>\n",
              "    <tr style=\"text-align: right;\">\n",
              "      <th></th>\n",
              "      <th>timestamp</th>\n",
              "      <th>feature_1</th>\n",
              "      <th>feature_2</th>\n",
              "      <th>feature_3</th>\n",
              "    </tr>\n",
              "  </thead>\n",
              "  <tbody>\n",
              "    <tr>\n",
              "      <th>0</th>\n",
              "      <td>2019-01-01T00:00:04Z</td>\n",
              "      <td>100</td>\n",
              "      <td>160</td>\n",
              "      <td>1.6</td>\n",
              "    </tr>\n",
              "  </tbody>\n",
              "</table>\n",
              "</div>"
            ],
            "text/plain": [
              "              timestamp  feature_1  feature_2  feature_3\n",
              "0  2019-01-01T00:00:04Z        100        160        1.6"
            ]
          },
          "execution_count": 74,
          "metadata": {},
          "output_type": "execute_result"
        }
      ],
      "source": [
        "fw = pd.read_csv('wdata/wafern3_worked.csv')\n",
        "fw.head(1)"
      ]
    },
    {
      "cell_type": "code",
      "execution_count": null,
      "metadata": {
        "id": "xDmcvrMjHYLX",
        "outputId": "dcce5398-ad5c-4e5d-c12c-3c101284f7ce"
      },
      "outputs": [
        {
          "data": {
            "text/html": [
              "<div>\n",
              "<style scoped>\n",
              "    .dataframe tbody tr th:only-of-type {\n",
              "        vertical-align: middle;\n",
              "    }\n",
              "\n",
              "    .dataframe tbody tr th {\n",
              "        vertical-align: top;\n",
              "    }\n",
              "\n",
              "    .dataframe thead th {\n",
              "        text-align: right;\n",
              "    }\n",
              "</style>\n",
              "<table border=\"1\" class=\"dataframe\">\n",
              "  <thead>\n",
              "    <tr style=\"text-align: right;\">\n",
              "      <th></th>\n",
              "      <th>timestamp</th>\n",
              "      <th>feature_1</th>\n",
              "      <th>feature_2</th>\n",
              "      <th>feature_3</th>\n",
              "      <th>y</th>\n",
              "      <th>ds</th>\n",
              "    </tr>\n",
              "  </thead>\n",
              "  <tbody>\n",
              "    <tr>\n",
              "      <th>0</th>\n",
              "      <td>2019-01-01T00:00:04Z</td>\n",
              "      <td>100</td>\n",
              "      <td>160</td>\n",
              "      <td>1.60</td>\n",
              "      <td>160</td>\n",
              "      <td>2019-01-01 00:00:04+00:00</td>\n",
              "    </tr>\n",
              "    <tr>\n",
              "      <th>1</th>\n",
              "      <td>2019-01-01T00:01:01Z</td>\n",
              "      <td>20</td>\n",
              "      <td>83</td>\n",
              "      <td>4.15</td>\n",
              "      <td>83</td>\n",
              "      <td>2019-01-01 00:01:01+00:00</td>\n",
              "    </tr>\n",
              "  </tbody>\n",
              "</table>\n",
              "</div>"
            ],
            "text/plain": [
              "              timestamp  feature_1  feature_2  feature_3    y  \\\n",
              "0  2019-01-01T00:00:04Z        100        160       1.60  160   \n",
              "1  2019-01-01T00:01:01Z         20         83       4.15   83   \n",
              "\n",
              "                         ds  \n",
              "0 2019-01-01 00:00:04+00:00  \n",
              "1 2019-01-01 00:01:01+00:00  "
            ]
          },
          "execution_count": 75,
          "metadata": {},
          "output_type": "execute_result"
        }
      ],
      "source": [
        "fw['y'] = fw['feature_2']\n",
        "fw['ds']=pd.to_datetime(fw['timestamp'])\n",
        "fw.head(2)"
      ]
    },
    {
      "cell_type": "code",
      "execution_count": null,
      "metadata": {
        "id": "LVtmbtz7HYLX",
        "outputId": "d2783593-e425-4cef-cb76-b3f3b9db8ff6"
      },
      "outputs": [
        {
          "data": {
            "text/plain": [
              "Timestamp('2019-01-01 00:00:04+0000', tz='UTC')"
            ]
          },
          "execution_count": 76,
          "metadata": {},
          "output_type": "execute_result"
        }
      ],
      "source": [
        "fw.ds[0]"
      ]
    },
    {
      "cell_type": "code",
      "execution_count": null,
      "metadata": {
        "id": "WUOtCSqPHYLX"
      },
      "outputs": [],
      "source": [
        "fw['ds']=fw['ds'].apply(lambda x: x.replace(tzinfo=None))"
      ]
    },
    {
      "cell_type": "code",
      "execution_count": null,
      "metadata": {
        "id": "L3aQLWwiHYLX"
      },
      "outputs": [],
      "source": [
        "data_subset_ph=fw.head(2000)\n",
        "test_subset_ph=fw.tail(519)"
      ]
    },
    {
      "cell_type": "code",
      "execution_count": null,
      "metadata": {
        "id": "4LODGfcvHYLX"
      },
      "outputs": [],
      "source": [
        "#Define model and fit to training data and return the forecast of the vehicle volume for the testing data\n",
        "def return_forecast(prophet_model, training_data, testing_data_range):\n",
        "    prophet_model.fit(training_data)\n",
        "    forecast_data = prophet_model.predict(testing_data_range)\n",
        "    return forecast_data"
      ]
    },
    {
      "cell_type": "code",
      "execution_count": null,
      "metadata": {
        "id": "ApMMW_BUHYLX",
        "outputId": "28de8cb6-1162-42f2-ea29-fcd681204ce1"
      },
      "outputs": [
        {
          "name": "stderr",
          "output_type": "stream",
          "text": [
            "INFO:fbprophet:Disabling yearly seasonality. Run prophet with yearly_seasonality=True to override this.\n",
            "INFO:fbprophet:Disabling weekly seasonality. Run prophet with weekly_seasonality=True to override this.\n",
            "INFO:fbprophet:Disabling daily seasonality. Run prophet with daily_seasonality=True to override this.\n"
          ]
        }
      ],
      "source": [
        "prophet = Prophet()\n",
        "prophet_forecast = return_forecast(prophet, data_subset_ph, test_subset_ph )"
      ]
    },
    {
      "cell_type": "code",
      "execution_count": null,
      "metadata": {
        "id": "Hl2MoW9VHYLX",
        "outputId": "df55b6f8-56a1-445e-b663-6a30eddcf7f7"
      },
      "outputs": [
        {
          "data": {
            "text/html": [
              "<div>\n",
              "<style scoped>\n",
              "    .dataframe tbody tr th:only-of-type {\n",
              "        vertical-align: middle;\n",
              "    }\n",
              "\n",
              "    .dataframe tbody tr th {\n",
              "        vertical-align: top;\n",
              "    }\n",
              "\n",
              "    .dataframe thead th {\n",
              "        text-align: right;\n",
              "    }\n",
              "</style>\n",
              "<table border=\"1\" class=\"dataframe\">\n",
              "  <thead>\n",
              "    <tr style=\"text-align: right;\">\n",
              "      <th></th>\n",
              "      <th>ds</th>\n",
              "      <th>yhat</th>\n",
              "      <th>yhat_lower</th>\n",
              "      <th>yhat_upper</th>\n",
              "    </tr>\n",
              "  </thead>\n",
              "  <tbody>\n",
              "    <tr>\n",
              "      <th>0</th>\n",
              "      <td>2019-01-02 09:20:05</td>\n",
              "      <td>127.383686</td>\n",
              "      <td>-46.600989</td>\n",
              "      <td>287.267247</td>\n",
              "    </tr>\n",
              "    <tr>\n",
              "      <th>1</th>\n",
              "      <td>2019-01-02 09:21:06</td>\n",
              "      <td>127.384485</td>\n",
              "      <td>-46.673524</td>\n",
              "      <td>291.294105</td>\n",
              "    </tr>\n",
              "    <tr>\n",
              "      <th>2</th>\n",
              "      <td>2019-01-02 09:22:06</td>\n",
              "      <td>127.385272</td>\n",
              "      <td>-39.872353</td>\n",
              "      <td>300.425039</td>\n",
              "    </tr>\n",
              "    <tr>\n",
              "      <th>3</th>\n",
              "      <td>2019-01-02 09:23:07</td>\n",
              "      <td>127.386072</td>\n",
              "      <td>-44.292396</td>\n",
              "      <td>292.295119</td>\n",
              "    </tr>\n",
              "    <tr>\n",
              "      <th>4</th>\n",
              "      <td>2019-01-02 09:24:03</td>\n",
              "      <td>127.386806</td>\n",
              "      <td>-48.995434</td>\n",
              "      <td>306.527844</td>\n",
              "    </tr>\n",
              "  </tbody>\n",
              "</table>\n",
              "</div>"
            ],
            "text/plain": [
              "                   ds        yhat  yhat_lower  yhat_upper\n",
              "0 2019-01-02 09:20:05  127.383686  -46.600989  287.267247\n",
              "1 2019-01-02 09:21:06  127.384485  -46.673524  291.294105\n",
              "2 2019-01-02 09:22:06  127.385272  -39.872353  300.425039\n",
              "3 2019-01-02 09:23:07  127.386072  -44.292396  292.295119\n",
              "4 2019-01-02 09:24:03  127.386806  -48.995434  306.527844"
            ]
          },
          "execution_count": 81,
          "metadata": {},
          "output_type": "execute_result"
        }
      ],
      "source": [
        "prophet_forecast[['ds', 'yhat', 'yhat_lower', 'yhat_upper']].head()"
      ]
    },
    {
      "cell_type": "code",
      "execution_count": null,
      "metadata": {
        "id": "s3gCA7BuHYLY"
      },
      "outputs": [],
      "source": [
        "def mean_absolute_percentage_error(y_true, y_pred): \n",
        "    return np.mean(np.abs((y_true - y_pred) / y_true)) * 100"
      ]
    },
    {
      "cell_type": "code",
      "execution_count": null,
      "metadata": {
        "id": "8UgXTZ0HHYLY"
      },
      "outputs": [],
      "source": [
        "from sklearn.metrics import mean_absolute_error,mean_squared_error\n",
        "def model_evaluation(actual_dataset, forecast_dataset, title):    \n",
        "    plt.figure(figsize=(30, 7))\n",
        "    plt.plot(actual_dataset['ds'], actual_dataset['y'], c= 'red', label = 'actual')\n",
        "    plt.plot(forecast_dataset['ds'], forecast_dataset['yhat'], c= 'blue', label = 'predicted')\n",
        "    plt.legend(loc='upper left')\n",
        "    plt.title(title)\n",
        "    plt.show()\n",
        "    mae = mean_absolute_error(actual_dataset['y'], forecast_dataset['yhat'])\n",
        "    rmse = np.sqrt(mean_squared_error(actual_dataset['y'], forecast_dataset['yhat']))\n",
        "    mape = mean_absolute_percentage_error(actual_dataset['y'], forecast_dataset['yhat'])\n",
        "    print('Model Performance')\n",
        "    print('Test Mean Absolute Error:', mean_absolute_error(actual_dataset['y'], forecast_dataset['yhat']))\n",
        "    print('Test Root Mean Squared Error:',np.sqrt(mean_squared_error(actual_dataset['y'], forecast_dataset['yhat'])))\n",
        "    print('Test Mean Absolute percentage Error:',mean_absolute_percentage_error(actual_dataset['y'], forecast_dataset['yhat']))\n",
        "    return mae, rmse, mape"
      ]
    },
    {
      "cell_type": "code",
      "execution_count": null,
      "metadata": {
        "id": "A8HOxxMZHYLc",
        "outputId": "85f57d31-1b35-4381-a709-aae76fb9ffc6"
      },
      "outputs": [
        {
          "data": {
            "image/png": "[encoded data removed]",
            "text/plain": [
              "<Figure size 2160x504 with 1 Axes>"
            ]
          },
          "metadata": {
            "needs_background": "light"
          },
          "output_type": "display_data"
        },
        {
          "name": "stdout",
          "output_type": "stream",
          "text": [
            "Model Performance\n",
            "Test Mean Absolute Error: 97.28878590182002\n",
            "Test Root Mean Squared Error: 134.61424637232042\n",
            "Test Mean Absolute percentage Error: nan\n"
          ]
        }
      ],
      "source": [
        "mae_ph, rmse_ph, mape_ph = model_evaluation(test_subset_ph, prophet_forecast, 'Prophet-baseline')"
      ]
    },
    {
      "cell_type": "code",
      "execution_count": null,
      "metadata": {
        "id": "SRFld9baHYLc"
      },
      "outputs": [],
      "source": []
    },
    {
      "cell_type": "code",
      "execution_count": null,
      "metadata": {
        "id": "3NmaaZgRHYLc"
      },
      "outputs": [],
      "source": []
    },
    {
      "cell_type": "code",
      "execution_count": null,
      "metadata": {
        "id": "JizLwsr7HYLc"
      },
      "outputs": [],
      "source": []
    },
    {
      "cell_type": "code",
      "execution_count": null,
      "metadata": {
        "id": "gP2S47nSHYLd"
      },
      "outputs": [],
      "source": []
    }
  ],
  "metadata": {
    "kernelspec": {
      "display_name": "Python [conda env:mlcpuv1]",
      "language": "python",
      "name": "conda-env-mlcpuv1-py"
    },
    "language_info": {
      "codemirror_mode": {
        "name": "ipython",
        "version": 3
      },
      "file_extension": ".py",
      "mimetype": "text/x-python",
      "name": "python",
      "nbconvert_exporter": "python",
      "pygments_lexer": "ipython3",
      "version": "3.6.11"
    },
    "colab": {
      "provenance": []
    }
  },
  "nbformat": 4,
  "nbformat_minor": 0
}